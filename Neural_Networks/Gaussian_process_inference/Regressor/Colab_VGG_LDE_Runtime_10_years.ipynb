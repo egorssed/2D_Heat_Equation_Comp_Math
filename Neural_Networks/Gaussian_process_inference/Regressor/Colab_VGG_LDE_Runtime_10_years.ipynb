{
  "cells": [
    {
      "cell_type": "markdown",
      "metadata": {
        "id": "view-in-github",
        "colab_type": "text"
      },
      "source": [
        "<a href=\"https://colab.research.google.com/github/egorssed/2D_Heat_Equation_Simulation/blob/master/Neural_Networks/Gaussian_process_inference/Regressor/Colab_VGG_LDE_Runtime_10_years.ipynb\" target=\"_parent\"><img src=\"https://colab.research.google.com/assets/colab-badge.svg\" alt=\"Open In Colab\"/></a>"
      ]
    },
    {
      "cell_type": "code",
      "execution_count": 1,
      "metadata": {
        "colab": {
          "base_uri": "https://localhost:8080/"
        },
        "id": "Xmb2ybas1OkB",
        "outputId": "0747df91-dff1-4aaa-a398-ced5db60b535"
      },
      "outputs": [
        {
          "output_type": "stream",
          "name": "stdout",
          "text": [
            "Sun Aug 14 08:15:43 2022       \n",
            "+-----------------------------------------------------------------------------+\n",
            "| NVIDIA-SMI 460.32.03    Driver Version: 460.32.03    CUDA Version: 11.2     |\n",
            "|-------------------------------+----------------------+----------------------+\n",
            "| GPU  Name        Persistence-M| Bus-Id        Disp.A | Volatile Uncorr. ECC |\n",
            "| Fan  Temp  Perf  Pwr:Usage/Cap|         Memory-Usage | GPU-Util  Compute M. |\n",
            "|                               |                      |               MIG M. |\n",
            "|===============================+======================+======================|\n",
            "|   0  Tesla P100-PCIE...  Off  | 00000000:00:04.0 Off |                    0 |\n",
            "| N/A   34C    P0    27W / 250W |      0MiB / 16280MiB |      0%      Default |\n",
            "|                               |                      |                  N/A |\n",
            "+-------------------------------+----------------------+----------------------+\n",
            "                                                                               \n",
            "+-----------------------------------------------------------------------------+\n",
            "| Processes:                                                                  |\n",
            "|  GPU   GI   CI        PID   Type   Process name                  GPU Memory |\n",
            "|        ID   ID                                                   Usage      |\n",
            "|=============================================================================|\n",
            "|  No running processes found                                                 |\n",
            "+-----------------------------------------------------------------------------+\n",
            "Your runtime has 27.3 gigabytes of available RAM\n",
            "\n",
            "You are using a high-RAM runtime!\n"
          ]
        }
      ],
      "source": [
        "gpu_info = !nvidia-smi\n",
        "gpu_info = '\\n'.join(gpu_info)\n",
        "if gpu_info.find('failed') >= 0:\n",
        "  print('Not connected to a GPU')\n",
        "else:\n",
        "  print(gpu_info)\n",
        "\n",
        "from psutil import virtual_memory\n",
        "ram_gb = virtual_memory().total / 1e9\n",
        "print('Your runtime has {:.1f} gigabytes of available RAM\\n'.format(ram_gb))\n",
        "\n",
        "if ram_gb < 20:\n",
        "  print('Not using a high-RAM runtime')\n",
        "else:\n",
        "  print('You are using a high-RAM runtime!')"
      ]
    },
    {
      "cell_type": "code",
      "execution_count": 14,
      "metadata": {
        "colab": {
          "base_uri": "https://localhost:8080/"
        },
        "id": "n7qPznEEwYu4",
        "outputId": "1d26ad43-636e-4cbc-dd35-ba65ef1642d8"
      },
      "outputs": [
        {
          "output_type": "stream",
          "name": "stdout",
          "text": [
            "Drive already mounted at /content/drive; to attempt to forcibly remount, call drive.mount(\"/content/drive\", force_remount=True).\n"
          ]
        }
      ],
      "source": [
        "import os, sys\n",
        "from google.colab import drive\n",
        "# Change to mount '/content/drive/My Drive/Fermilab/'\n",
        "drive.mount('/content/drive')\n",
        "Folder='/content/drive/MyDrive/Fermilab/'\n",
        "\n",
        "#!pip install scipy==1.7.1 --quiet\n",
        "#!pip install torch-spline-conv -f https://data.pyg.org/whl/torch-1.11.0+cu113.html --quiet\n",
        "\n",
        "\n",
        "\n",
        "import numpy as np\n",
        "import scipy\n",
        "import matplotlib.pyplot as plt\n",
        "import matplotlib as mpl\n",
        "import seaborn as sns\n",
        "from tqdm import tqdm\n",
        "mpl.style.use('default')\n",
        "\n",
        "import torch\n",
        "use_cuda = torch.cuda.is_available()\n",
        "device = torch.device('cuda' if use_cuda else 'cpu')\n",
        "\n",
        "Modulesfolder = Folder\n",
        "\n",
        "import sys\n",
        "sys.path.append(Modulesfolder)\n",
        "\n",
        "import os\n",
        "os.environ['XLA_PYTHON_CLIENT_MEM_FRACTION']='.50'\n",
        "\n",
        "FS = 18 # fontsize\n",
        "\n",
        "min_years = 10\n",
        "max_years = 10\n",
        "\n",
        "!pip install einops --quiet"
      ]
    },
    {
      "cell_type": "markdown",
      "metadata": {
        "id": "bBQvnJN51PZM"
      },
      "source": [
        "# Dataset"
      ]
    },
    {
      "cell_type": "markdown",
      "metadata": {
        "id": "Uu0JaZH_bkld"
      },
      "source": [
        "## RDRW Dataset class"
      ]
    },
    {
      "cell_type": "code",
      "execution_count": 16,
      "metadata": {
        "id": "54TdMz297D0V"
      },
      "outputs": [],
      "source": [
        "from torch.utils.data import Dataset\n",
        "import numpy as np\n",
        "from Modules.Gaussian_process import RDRW\n",
        "from Modules.datasets.Reverberating_Damped_Random_Walk import Masking\n",
        "from Modules.datasets.Reverberating_Damped_Random_Walk.Utils import Normalise\n",
        "from scipy.interpolate import BSpline\n",
        "import time\n",
        "eps = 1e-8 # softening\n",
        "\n",
        "import torch.multiprocessing as multiprocessing\n",
        "multiprocessing.set_start_method('spawn')\n",
        "\n",
        "import jax\n",
        "import jax.numpy as jnp\n",
        "\n",
        "def jax_RDRW_cov(abs_time_difference, Correlation_time, Reverberation_time):\n",
        "  Normalisation = 1. / (Correlation_time  - Reverberation_time)\n",
        "  Time_dependence = Correlation_time * jnp.exp(-abs_time_difference / Correlation_time) - \\\n",
        "                Reverberation_time * jnp.exp(-abs_time_difference / Reverberation_time)\n",
        "\n",
        "  return Normalisation*Time_dependence\n",
        "\n",
        "\n",
        "def jax_RDRW_Cholesky(time_array,Correlation_time,Reverberation_time):\n",
        "  time_difference = time_array[None,:] - time_array[:,None]\n",
        "  Correlation_matrix = jax_RDRW_cov(jnp.abs(time_difference),Correlation_time,Reverberation_time)  + jnp.eye(len(time_array)) * eps\n",
        "  L = jax.scipy.linalg.cholesky(Correlation_matrix, lower=True,check_finite=False)\n",
        "  return L \n",
        "\n",
        "jax_RDRW_cov = jax.jit(jax_RDRW_cov,backend='gpu')\n",
        "jax_RDRW_Cholesky = jax.jit(jax_RDRW_Cholesky,backend='gpu')\n",
        "\n",
        "\n",
        "def get_truncnorm_sampler(mean,std,lower_limit,upper_limit,rng):\n",
        "    normalised_limits = (lower_limit - mean) / std , (upper_limit - mean) / std\n",
        "\n",
        "    def sampler(size):\n",
        "        return stats.truncnorm.rvs(*normalised_limits, size=size, loc=mean, scale=std,random_state=rng)\n",
        "\n",
        "    return sampler\n",
        "\n",
        "def Poisson_process_subsampling_mask(process_rate, desired_rate, shape, rng = None):\n",
        "    \"\"\"\n",
        "    Theorem 1.4 (Partitioning a Poisson process)\n",
        "    If $\\psi \\sim PP(\\lambda)$ and if each arrival of $\\psi$ is, independently, type 1 or type 2\n",
        "    with probability $p$ and $q = 1 − p$ then in fact, letting $\\psi_i$ denote the point process\n",
        "    of type $i$ arrivals, $i = 1, 2$, $ψ_1 \\sim PP(p\\lambda)), ψ_2 \\sim PP(q\\lambda))$ and they are independent.\n",
        "    @inproceedings{Sigman20061I6,\n",
        "    title={1 IEOR 6711 : Notes on the Poisson Process},author={Karl Sigman},year={2006}\n",
        "    }\n",
        "    \"\"\"\n",
        "    assert desired_rate<=process_rate\n",
        "\n",
        "    if rng is None:\n",
        "        rng = np.random.default_rng(seed=42)\n",
        "\n",
        "    subsampling_probability = desired_rate/process_rate\n",
        "\n",
        "    mask = rng.binomial(1,subsampling_probability,size=shape).astype(bool)\n",
        "\n",
        "    return mask\n",
        "\n",
        "class RDRW_simulator():\n",
        "\n",
        "    def __init__(self,Poisson_scale = 5, Saturation_offset = None,time_random_seed = 7,magnitude_random_seed=42):\n",
        "\n",
        "        self.Poisson_scale = Poisson_scale\n",
        "        if Saturation_offset is None:\n",
        "            Saturation_offset = 2\n",
        "\n",
        "        self.Saturation_offset = Saturation_offset\n",
        "\n",
        "        self.rng_time = np.random.default_rng(time_random_seed)\n",
        "        self.rng_mag = np.random.default_rng(magnitude_random_seed)\n",
        "\n",
        "    def sample_time(self,duration):\n",
        "\n",
        "        # Elementary Renewal theorem for Poisson process\n",
        "        size = round(duration*365 / self.Poisson_scale)\n",
        "\n",
        "        cadences = self.rng_time.exponential(size=size,scale=self.Poisson_scale)\n",
        "        time_array=np.append([0],np.cumsum(cadences))\n",
        "\n",
        "        return time_array\n",
        "\n",
        "\n",
        "    def RDRW_Cholesky(self,time_array,Correlation_time,Reverberation_time):\n",
        "\n",
        "      time_difference = time_array[None,:] - time_array[:,None]\n",
        "\n",
        "      Correlation_matrix = jax_RDRW_cov(np.abs(time_difference),Correlation_time,Reverberation_time)  + np.eye(len(time_array)) * eps\n",
        "\n",
        "      L = scipy.linalg.cholesky(Correlation_matrix, lower=True,check_finite=False)\n",
        "\n",
        "      return L \n",
        "\n",
        "    def __call__(self,Correlation_time,Reverberation_time,duration = 1):\n",
        "\n",
        "\n",
        "        #start_t = time.time()\n",
        "        time_array = self.sample_time(duration+self.Saturation_offset)\n",
        "        #end_t = time.time()\n",
        "        #print('Time sampling:',end_t-start_t)\n",
        "\n",
        "        #start_t = time.time()\n",
        "        \n",
        "        Cholesky = np.asarray(jax_RDRW_Cholesky(time_array, Correlation_time,Reverberation_time))\n",
        "        #end_t = time.time()\n",
        "        #print('Cholesky decomposition:',end_t-start_t)\n",
        "\n",
        "        #start_t = time.time()\n",
        "        magnitude_noise=self.rng_mag.normal(size=len(time_array))\n",
        "        #end_t = time.time()\n",
        "        #print('Realisation sampling:',end_t-start_t)\n",
        "\n",
        "        #start_t = time.time()\n",
        "        magnitude = Cholesky @ magnitude_noise\n",
        "        #end_t = time.time()\n",
        "        #print('Matrix multiplication:',end_t-start_t)\n",
        "\n",
        "        #start_t = time.time()\n",
        "        saturation_start = np.argmin((time_array[-1] - time_array - 365*duration)>0) -2\n",
        "        #end_t = time.time()\n",
        "        #print('Search for start:',end_t-start_t)\n",
        "\n",
        "        normalised_time = (time_array[saturation_start:]-time_array[saturation_start+1]) / 365\n",
        "\n",
        "        return normalised_time,magnitude[saturation_start:]\n",
        "\n",
        "\n",
        "class Observations_RDRW(Dataset):\n",
        "\n",
        "    def __init__(self, labels: np.ndarray,Poisson_scale = 5,\n",
        "                 min_years=1,\n",
        "                 max_years=10,\n",
        "                 border_gap_params=(72, 25), border_gap_bounds=(0, np.inf),\n",
        "                 light_curve_norm=(1, -1), Saturation_offset = None,\n",
        "                 time_random_seed = 7,magnitude_random_seed=42,\n",
        "                 gaps_random_seed = 18,years_random_seed = 32,subsampling_random_seed=48):\n",
        "\n",
        "        super().__init__()\n",
        "\n",
        "        self.labels = labels\n",
        "        self.RDRW_simulator = RDRW_simulator(Poisson_scale,Saturation_offset,time_random_seed,magnitude_random_seed)\n",
        "\n",
        "        self.rng_gaps = np.random.default_rng(gaps_random_seed)\n",
        "        self.border_params = np.array([*border_gap_params, *border_gap_bounds]) / 365\n",
        "\n",
        "        #self.border_gap_sampler = sampler\n",
        "        #self.border_gap_sampler = get_truncnorm_sampler(*border_params, self.rng_gaps)\n",
        "\n",
        "        self.normalise_class = Normalise(*light_curve_norm)\n",
        "\n",
        "        self.min_years = min_years\n",
        "        self.max_years = max_years\n",
        "        self.rng_years = np.random.default_rng(years_random_seed)\n",
        "\n",
        "        self.rng_subsampling = np.random.default_rng(subsampling_random_seed)\n",
        "\n",
        "    def subsampling_mask(self,shape,Poisson_scale = 5):\n",
        "        return Poisson_process_subsampling_mask(1/self.RDRW_simulator.Poisson_scale,1/Poisson_scale,shape,self.rng_subsampling)\n",
        "\n",
        "\n",
        "    def get_no_gaps_masks(self,time_array,num_observed_years):\n",
        "\n",
        "        gaps = self.rng_gaps.normal(loc = self.border_params[0],scale = self.border_params[1],size=2 * num_observed_years).reshape(2, num_observed_years)\n",
        "        gaps *= (gaps>0)\n",
        "\n",
        "        #gaps = self.border_gap_sampler(2 * num_observed_years).reshape(2, num_observed_years)\n",
        "        gaps[0] += (np.arange(num_observed_years))\n",
        "        gaps[1] = (np.arange(1, 1 + num_observed_years)) - gaps[1]\n",
        "        gaps_mask = ((time_array[None, :] > gaps[0, :, None]) & (time_array[None, :] < gaps[1, :, None])).sum(0).astype(\n",
        "            bool)\n",
        "\n",
        "        return gaps_mask\n",
        "\n",
        "    def normalise_magnitudes(self,observed,complete = None,labels = None):\n",
        "\n",
        "        value_bounds = (np.max(observed), np.min(observed))\n",
        "        value_normalisation = self.normalise_class.light_curve_normalisation(*value_bounds)\n",
        "\n",
        "        normalised_observed =  self.normalise_class.normalise_light_curve(observed, *value_normalisation)\n",
        "\n",
        "        if complete is None:\n",
        "            normalised_complete = None\n",
        "        else:\n",
        "            normalised_complete = self.normalise_class.normalise_light_curve(complete, *value_normalisation)\n",
        "\n",
        "        if labels is None:\n",
        "            normalised_labels = None\n",
        "        else:\n",
        "            normalised_labels = self.normalise_class.normalise_label(labels, *value_normalisation,\n",
        "                                                                     time_factor=1.)\n",
        "\n",
        "        return normalised_observed,normalised_complete,normalised_labels\n",
        "\n",
        "    def __len__(self):\n",
        "      return len(self.labels)\n",
        "\n",
        "    def get_item(self,label_index):\n",
        "\n",
        "        labels = self.labels[label_index]\n",
        "\n",
        "        start_t = time.time()\n",
        "        num_observed_years = self.rng_years.integers(low=self.min_years,\n",
        "                                                     high=self.max_years+1)\n",
        "        \n",
        "        end_t = time.time()\n",
        "        #print('Num years sampling:',end_t-start_t)\n",
        "        \n",
        "\n",
        "        start_t = time.time()\n",
        "        time_array,magnitude_array = self.RDRW_simulator(*labels,duration=num_observed_years)\n",
        "        end_t = time.time()\n",
        "        #print('RDRW simulator:',end_t-start_t)\n",
        "\n",
        "        start_t = time.time()\n",
        "        no_gaps_mask = self.get_no_gaps_masks(time_array,num_observed_years)\n",
        "        end_t = time.time()\n",
        "        #print('Gaps masks:',end_t-start_t)\n",
        "\n",
        "        obs_time_array = time_array[no_gaps_mask]\n",
        "        obs_magnitude_array = magnitude_array[no_gaps_mask]\n",
        "\n",
        "        complete_labels = np.array([0, 1, *labels])\n",
        "        obs_magnitude_array,magnitude_array,normalised_labels = self.normalise_magnitudes(obs_magnitude_array,magnitude_array,complete_labels)\n",
        "\n",
        "        log_labels = np.array([normalised_labels[0], *np.log10(normalised_labels[1:])])\n",
        "\n",
        "        return obs_time_array,obs_magnitude_array,time_array,magnitude_array,log_labels,num_observed_years\n",
        "\n",
        "class Spline_Observations_RDRW(Observations_RDRW):\n",
        "\n",
        "  def __init__(self, *args,**kwargs):\n",
        "\n",
        "    super().__init__(*args,**kwargs)\n",
        "\n",
        "\n",
        "    num_ref_points = 365\n",
        "    step = 1 / num_ref_points\n",
        "    self.query = np.linspace(step/2, 1 - step/2, num_ref_points,dtype=np.float32)\n",
        "    self.full_query = np.repeat([self.query],self.max_years,axis=0) + np.arange(self.max_years)[:,None]\n",
        "\n",
        "  def interpolate(self,time,light,padding='zeros'):\n",
        "\n",
        "      spline_degree = 1\n",
        "      spliner = BSpline(np.pad(time,(spline_degree,spline_degree),'edge'),\n",
        "                         np.pad(light,(0,spline_degree+1),'edge'), spline_degree, extrapolate=False)\n",
        "      spline = spliner(self.full_query)\n",
        "      \n",
        "      mask_left = self.full_query < time[0]\n",
        "      mask_right =  self.full_query > time[-1]\n",
        "      spline_masks = ~np.logical_or(mask_left,mask_right)\n",
        "      # edge padding\n",
        "      if padding=='edge':\n",
        "          spline[mask_left] = light[0]\n",
        "          spline[mask_right] = light[-1]\n",
        "      elif padding=='zeros':\n",
        "          spline[mask_left] = 0.\n",
        "          spline[mask_right] = 0.\n",
        "      else:\n",
        "          raise  ValueError(\"Paddding should be either 'zeros' or 'edge\")\n",
        "      return spline,spline_masks\n",
        "\n",
        "  def get_item(self,label_index):\n",
        "\n",
        "    labels = self.labels[label_index]\n",
        "\n",
        "    num_observed_years = self.rng_years.integers(low=self.min_years,\n",
        "                                                 high=self.max_years+1)\n",
        "\n",
        "    time_array,magnitude_array = self.RDRW_simulator(*labels,duration=num_observed_years)\n",
        "\n",
        "    no_gaps_mask = self.get_no_gaps_masks(time_array,num_observed_years)\n",
        "\n",
        "    obs_time_array = time_array[no_gaps_mask]\n",
        "    obs_magnitude_array = magnitude_array[no_gaps_mask]\n",
        "\n",
        "    complete_labels = np.array([0, 1, *labels])\n",
        "    obs_magnitude_array,_,normalised_labels = self.normalise_magnitudes(obs_magnitude_array,None,complete_labels)\n",
        "\n",
        "    log_labels = np.array([normalised_labels[0], *np.log10(normalised_labels[1:])])\n",
        "\n",
        "    context_splines,_ = self.interpolate(obs_time_array,obs_magnitude_array)\n",
        "\n",
        "    return context_splines,log_labels\n",
        "\n",
        "  def __getitem__(self, index):\n",
        "      item = self.get_item(index)\n",
        "      return (*item,index)\n",
        "\n",
        "  def _to_tensor(self, array,device = None):\n",
        "      if device is None:\n",
        "        device = self.device\n",
        "      return torch.from_numpy(np.stack(array)).type(torch.float32).to(device)\n",
        "\n",
        "  def collate_fn(self, batch):\n",
        "      # meant to be redefined in subclasses for training purposes\n",
        "      # this is an example of full use of functionality\n",
        "\n",
        "      context_splines,labels,  idx = np.stack(batch, axis=1)\n",
        "\n",
        "      #return [self._to_tensor(x) for x in [context_splines,out_labels,num_observed_years]]\n",
        "      return [self._to_tensor(x,'cpu') for x in [context_splines,labels]]"
      ]
    },
    {
      "cell_type": "code",
      "execution_count": 17,
      "metadata": {
        "id": "M9k1xWjy8ypu"
      },
      "outputs": [],
      "source": [
        "dataset = Observations_RDRW(np.array([[400,30]]),Poisson_scale=5,min_years=5)"
      ]
    },
    {
      "cell_type": "code",
      "execution_count": 18,
      "metadata": {
        "colab": {
          "base_uri": "https://localhost:8080/",
          "height": 447
        },
        "id": "U9U32G0jzAVr",
        "outputId": "bafa5fc9-a28c-46c5-af72-2de17d31d180"
      },
      "outputs": [
        {
          "output_type": "execute_result",
          "data": {
            "text/plain": [
              "[<matplotlib.lines.Line2D at 0x7f40450c3710>]"
            ]
          },
          "metadata": {},
          "execution_count": 18
        },
        {
          "output_type": "display_data",
          "data": {
            "text/plain": [
              "<Figure size 640x480 with 1 Axes>"
            ],
            "image/png": "[encoded data removed]"
          },
          "metadata": {}
        }
      ],
      "source": [
        "obs_time_array,obs_magnitude_array,time_array,magnitude_array,log_labels,num_observed_years = dataset.get_item(0)\n",
        "\n",
        "plt.scatter(time_array,magnitude_array)\n",
        "plt.plot(obs_time_array,obs_magnitude_array,color='C1')"
      ]
    },
    {
      "cell_type": "markdown",
      "metadata": {
        "id": "4VmLbPSmh6oM"
      },
      "source": [
        "## Simulate labels"
      ]
    },
    {
      "cell_type": "code",
      "execution_count": 19,
      "metadata": {
        "id": "0vhWX0CehmwO"
      },
      "outputs": [],
      "source": [
        "from scipy import stats\n",
        "def get_truncnorm_sampler(mean,std,lower_limit,upper_limit,rng):\n",
        "    normalised_limits = (lower_limit - mean) / std , (upper_limit - mean) / std\n",
        "\n",
        "    def sampler(size):\n",
        "        return stats.truncnorm.rvs(*normalised_limits, size=size, loc=mean, scale=std,random_state=rng)\n",
        "\n",
        "    return sampler\n",
        "\n",
        "mu_logcorr = 2.6\n",
        "std_logcorr = 0.4\n",
        "\n",
        "log_corr_bounds=(1.8,3.4)\n",
        "\n",
        "mu_logrev = 1.25\n",
        "std_logrev = 0.28\n",
        "\n",
        "log_rev_bounds=(0.6,1.8)\n",
        "logcorr_rng = np.random.default_rng(78)\n",
        "logrev_rng = np.random.default_rng(18)\n",
        "\n",
        "log_corr_sampler=get_truncnorm_sampler(mu_logcorr,std_logcorr,*log_corr_bounds,logcorr_rng)\n",
        "log_rev_sampler=get_truncnorm_sampler(mu_logrev,std_logrev,*log_rev_bounds,logrev_rng)"
      ]
    },
    {
      "cell_type": "code",
      "execution_count": 20,
      "metadata": {
        "id": "siJmIl1diHb5"
      },
      "outputs": [],
      "source": [
        "num_labels = 100000\n",
        "log_rev_samples = log_rev_sampler(size=num_labels)\n",
        "log_corr_samples = log_corr_sampler(size=num_labels)\n",
        "\n",
        "labels_data = np.power(10, np.array([log_corr_samples, log_rev_samples])).T"
      ]
    },
    {
      "cell_type": "markdown",
      "metadata": {
        "id": "Lb777kMciPq9"
      },
      "source": [
        "## Compile dataset"
      ]
    },
    {
      "cell_type": "code",
      "execution_count": 21,
      "metadata": {
        "colab": {
          "base_uri": "https://localhost:8080/"
        },
        "id": "7jtfOFEji5IO",
        "outputId": "52ff8d58-f0d9-463e-d288-81bedb42b1d5"
      },
      "outputs": [
        {
          "output_type": "stream",
          "name": "stdout",
          "text": [
            "[0.8 0.1 0.1]\n"
          ]
        }
      ],
      "source": [
        "from sklearn.model_selection import train_test_split\n",
        "train_labels,val_labels = train_test_split(labels_data,test_size=0.2,random_state=42)\n",
        "test_labels,val_labels = train_test_split(val_labels,test_size=0.5,random_state=24)\n",
        "print(np.array([len(train_labels),len(val_labels),len(test_labels)])/num_labels)"
      ]
    },
    {
      "cell_type": "code",
      "execution_count": 22,
      "metadata": {
        "id": "XdpQx7nMj42M"
      },
      "outputs": [],
      "source": [
        "from torch.utils.data import DataLoader\n",
        "batch_size = 128\n",
        "num_workers=0\n",
        "\n",
        "def get_dataloader(labels):\n",
        "  _ = jax_RDRW_Cholesky(np.arange(365),400,30)\n",
        "  dataset = Spline_Observations_RDRW(labels,Poisson_scale=5,min_years=min_years,max_years=max_years)\n",
        "\n",
        "  dataloader = DataLoader(\n",
        "    dataset, batch_size=batch_size, shuffle=False,\n",
        "    drop_last=True, collate_fn=dataset.collate_fn,pin_memory=True,num_workers = num_workers)\n",
        "  \n",
        "  return dataloader"
      ]
    },
    {
      "cell_type": "code",
      "execution_count": 23,
      "metadata": {
        "id": "rv3olmZ8ictX"
      },
      "outputs": [],
      "source": [
        "train_loader = get_dataloader(train_labels)\n",
        "val_loader = get_dataloader(val_labels)\n",
        "test_loader = get_dataloader(test_labels)"
      ]
    },
    {
      "cell_type": "code",
      "execution_count": 24,
      "metadata": {
        "id": "enKs5oJXGjO_"
      },
      "outputs": [],
      "source": [
        "context_splines,out_labels = next(iter(test_loader))\n",
        "context_splines = context_splines.to(device)\n",
        "out_labels = out_labels.to(device)"
      ]
    },
    {
      "cell_type": "markdown",
      "metadata": {
        "id": "VpowVzx91k3v"
      },
      "source": [
        "## Prepare for training"
      ]
    },
    {
      "cell_type": "code",
      "execution_count": 25,
      "metadata": {
        "id": "XVOgmfNE1YZg"
      },
      "outputs": [],
      "source": [
        "def plot_grad_flow(named_parameters):\n",
        "    ave_grads = []\n",
        "    sum_grads = []\n",
        "    layers = []\n",
        "    ave_grad_dict={}\n",
        "    sum_grad_dict = {}\n",
        "    fig,ax = plt.subplots(1,2,figsize=(15,7))\n",
        "    for n, p in named_parameters:\n",
        "        if(p.requires_grad) and (\"bias\" not in n):\n",
        "            if (p.grad is None) or ((p.grad==0).all()):\n",
        "                continue\n",
        "            layers.append(n)\n",
        "            grads = p.grad\n",
        "            ave_grads.append(np.log10(grads[grads!=0].abs().mean().item()))\n",
        "            sum_grads.append(np.log10(grads[grads!=0].abs().sum().item()))\n",
        "            ave_grad_dict[n] = ave_grads[-1]\n",
        "            sum_grad_dict[n] = sum_grads[-1]\n",
        "\n",
        "    ax[0].plot(ave_grads, alpha=0.3, color=\"b\")\n",
        "    ax[0].hlines(np.mean(ave_grads), 0, len(ave_grads)+1, linewidth=1, color=\"k\" )\n",
        "    ax[0].set_ylabel(\"Log average abs gradient\")\n",
        "\n",
        "    ax[1].plot(sum_grads, alpha=0.3, color=\"b\")\n",
        "    ax[1].hlines(np.mean(sum_grads), 0, len(ave_grads)+1, linewidth=1, color=\"k\" )\n",
        "    ax[1].set_ylabel(\"Log sum abs gradient\")\n",
        "\n",
        "    for i in range(2):\n",
        "        ax[i].set_xticks(range(0,len(ave_grads), 1))\n",
        "        ax[i].set_xticklabels(layers, rotation=90)\n",
        "        ax[i].set_xlim(xmin=0, xmax=len(ave_grads))\n",
        "        ax[i].set_xlabel(\"Layers\")\n",
        "\n",
        "    fig.suptitle(\"Gradient flow\")\n",
        "    plt.grid(True)\n",
        "    #fig.patch.set_alpha(0)\n",
        "\n",
        "    return ave_grad_dict,sum_grad_dict"
      ]
    },
    {
      "cell_type": "markdown",
      "metadata": {
        "id": "bPdgG1fl2CGd"
      },
      "source": [
        "# Baseline"
      ]
    },
    {
      "cell_type": "markdown",
      "metadata": {
        "id": "hGiSOOUm2E6G"
      },
      "source": [
        "## Architecture\n"
      ]
    },
    {
      "cell_type": "code",
      "execution_count": 26,
      "metadata": {
        "id": "7Za-LQ1g1Yb2"
      },
      "outputs": [],
      "source": [
        "from Modules.Neural_Networks.Continuous_Convolutional_NNs.CConv_NN_modules.Continuous_convolution import build_Bspline\n",
        "import torch.nn as nn\n",
        "import torch.optim as optim\n",
        "import torch.nn.functional as F\n",
        "\n",
        "def conv_bn_relu(in_dim, out_dim,width_stride=2):\n",
        "    return nn.Sequential(\n",
        "        nn.Conv2d(in_dim, out_dim, (3,3), (1,width_stride), 1,bias=False),\n",
        "        nn.BatchNorm2d(out_dim),\n",
        "        nn.ReLU())\n",
        "\n",
        "def dconv_bn_relu(in_dim, out_dim,width_stride=2,output_w_padding = 1):\n",
        "    return nn.Sequential(\n",
        "        nn.ConvTranspose2d(in_dim, out_dim, (3,3), (1,width_stride),\n",
        "                           padding=1, output_padding=(0,output_w_padding), bias=False),\n",
        "        nn.BatchNorm2d(out_dim),\n",
        "        nn.ReLU())\n",
        "\n",
        "def L_out_conv(L_in,width_stride=2):\n",
        "    return (L_in+2*1-1*(3-1)-1)//width_stride+1\n",
        "\n",
        "def L_out_dconv(L_in,width_stride=2):\n",
        "    return (L_in-1)*width_stride-2*1+1*(3-1)+1\n",
        "\n",
        "\n",
        "num_ref_points = 365\n",
        "# Size after encoder's convolutional layers\n",
        "size_change = lambda f,x: f(f(f(f(x))))\n",
        "conv_size=size_change(L_out_conv,num_ref_points)"
      ]
    },
    {
      "cell_type": "code",
      "execution_count": 27,
      "metadata": {
        "id": "RwBDlHrE1YeM"
      },
      "outputs": [],
      "source": [
        "from copy import deepcopy\n",
        "import time\n",
        "import einops\n",
        "from typing import Union\n",
        "\n",
        "class LDE(nn.Module):\n",
        "    \"\"\"\n",
        "    Learnable dictionary encoding layer\n",
        "\n",
        "    Layer accumulate statistics on more detailed units. It combines\n",
        "    the dictionary learning and vector encoding steps into a single\n",
        "    layer for end-to-end learning. It used for speaker embedding creation.\n",
        "\n",
        "    Parameters\n",
        "    ----------\n",
        "    num_clusters : int\n",
        "        Number of learnable clusters. (defines `C` in papers)\n",
        "    input_dim : int\n",
        "        Second dimension of input tensor. The frequency/bands dimension\n",
        "        of spectrogram squeezed by a encoder model.\n",
        "    bias : bool\n",
        "        Parameter of using bias for `weights` creation. default `False`.\n",
        "        (Is in the original implementation)\n",
        "    trainable_weights : bool\n",
        "        Parameter determines the use of additional\n",
        "        trainable weights for `weights` creation. default `False`.\n",
        "    pooling : 'mean' or 'mean+std'\n",
        "        Parameter determines what the returned tensor consists of.\n",
        "        It change size of last dimension of returned tensor!\n",
        "\n",
        "    References\n",
        "    ----------\n",
        "     - Original implementation:\n",
        "       https://github.com/jefflai108/pytorch-kaldi-neural-speaker-embeddings/blob/master/scripts/model.py#L334;\n",
        "     - Introduction of LDE for speaker recognition: https://arxiv.org/abs/1804.05160;\n",
        "     - LDE for creation speaker embedding for TTS purpose: https://arxiv.org/abs/1910.10838.\n",
        "    \"\"\"\n",
        "    def __init__(self, num_clusters: int, input_dim: int,\n",
        "                 bias: bool = False, trainable_weights: bool = False,\n",
        "                 smoothing_factor: float=1., pooling: Union['mean', 'mean+std'] = 'mean+std'):\n",
        "        super(LDE,self).__init__()\n",
        "\n",
        "\n",
        "        self.dict = nn.Parameter(torch.randn(num_clusters, input_dim))\n",
        "        torch.nn.init.normal_(self.dict.data, mean=0.0, std=1.0)\n",
        "        if trainable_weights:\n",
        "            self.w = nn.Parameter(torch.ones(num_clusters))\n",
        "        else:\n",
        "            self.register_buffer('w', torch.ones(num_clusters) * smoothing_factor)\n",
        "        self.bias = nn.Parameter(torch.zeros(num_clusters)) if bias else 0\n",
        "        self.pool = pooling\n",
        "\n",
        "        # it could be x**2 for 'sqr' instead of 'norm'\n",
        "        self.distance = lambda x: torch.norm(x, p=2, dim=-1)\n",
        "\n",
        "        #self.norm = lambda x: F.softmax(-self.distance(x) * (self.w ** 2) + self.bias, dim = -1)\n",
        "\n",
        "    def norm(self,x,ignore_mask = None):\n",
        "\n",
        "      weighted_distance = -self.distance(x) * (self.w ** 2) + self.bias\n",
        "\n",
        "      if ignore_mask is not None:\n",
        "        weighted_distance.masked_fill_(ignore_mask.view((*weighted_distance.shape[:-1],1)),-1e9)\n",
        "\n",
        "      return F.softmax(weighted_distance,dim=-1)\n",
        "\n",
        "\n",
        "    def forward(self, x, ignore_mask = None):\n",
        "        \"\"\"\n",
        "        x: [Batch, Timesteps, 1, Freq]\n",
        "        mask: [Batch,Freq]\n",
        "\n",
        "        \"\"\"\n",
        "\n",
        "        x = x.unsqueeze(-2)                                                     # [Batch, Timesteps, 1, Freq]\n",
        "        residual_tensor = (x - self.dict)                                # [Batch, Timesteps, num_clusters, Freq]\n",
        "\n",
        "        weights = self.norm(residual_tensor,ignore_mask)                        # [Batch, Timesteps, num_clusters]\n",
        "        weights = weights.unsqueeze(-1)                                         # [Batch, Timesteps, num_clusters, 1]\n",
        "        weights = weights / (torch.sum(weights, dim=1, keepdim=True) + 1e-9)\n",
        "\n",
        "        means = torch.sum(weights * residual_tensor, dim=1)    # [Batch, num_clusters, Freq]\n",
        "        if self.pool == 'mean+std':\n",
        "            stds = torch.sqrt(torch.sum(weights * residual_tensor ** 2, dim=1) + 1e-9)\n",
        "            means_and_stds = torch.cat([means, stds], dim=-1)\n",
        "            return means_and_stds.view(x.size(0), -1)                           # [Batch, 2 * num_clusters * Freq]\n",
        "\n",
        "        return means\n",
        "        #return means.view(x.size(0), -1)                                        # [Batch, num_clusters * Freq]\n",
        "\n",
        "class Encoder(nn.Module):\n",
        "    def __init__(self, seasons_num,reference_points_num, ignore_unseen = False):\n",
        "        super().__init__()\n",
        "        self.seasons_num = seasons_num\n",
        "        self.reference_points_num = reference_points_num\n",
        "        self.ignore_unseen = ignore_unseen\n",
        "\n",
        "        # Conv block in ResNet\n",
        "        self.grid_conv = nn.Sequential(\n",
        "            conv_bn_relu(1, 64,width_stride=2),\n",
        "            conv_bn_relu(64, 64,width_stride=2),\n",
        "            nn.MaxPool2d((1,2),(1,2)),\n",
        "            conv_bn_relu(64, 128,width_stride=1),\n",
        "            conv_bn_relu(128, 128,width_stride=1),\n",
        "            nn.MaxPool2d((1,2),(1,2)),\n",
        "            conv_bn_relu(128, 256,width_stride=1),\n",
        "            conv_bn_relu(256, 256,width_stride=1),\n",
        "            nn.MaxPool2d((1,2),(1,2))\n",
        "        )\n",
        "\n",
        "    def forward(self, context_splines):\n",
        "\n",
        "        #spline_image = context_splines.view(context_splines.shape[0],1,context_splines.shape[1],self.reference_points_num)\n",
        "        spline_image = context_splines.unsqueeze(1)\n",
        "\n",
        "        not_observed_mask = (spline_image == 0).all(-1).unsqueeze(-1)\n",
        "        # grid convolutions\n",
        "\n",
        "        x = spline_image\n",
        "        for layer in self.grid_conv:\n",
        "            x =layer(x)\n",
        "            if self.ignore_unseen:\n",
        "              x = torch.mul(x,not_observed_mask)\n",
        "\n",
        "        return x\n",
        "\n",
        "class Regressor(nn.Module):\n",
        "\n",
        "    def __init__(self,encoder,num_clusters=8,output_dim=2,ignore_unseen_lde = False,dropout_rate=0.,intermediate_linear = None):\n",
        "        super(Regressor,self).__init__()\n",
        "\n",
        "        self.encoder = encoder\n",
        "        self.ignore_unseen_lde = ignore_unseen_lde\n",
        "\n",
        "        transformer_dim = 64\n",
        "        transformer_heads = 4\n",
        "        transformer_dim_head = None\n",
        "        transformer_dim_head = (int(transformer_dim / transformer_heads)) if transformer_dim_head is None else transformer_dim_head\n",
        "        dropout = 0\n",
        "\n",
        "\n",
        "        self.project_patches = torch.nn.Linear(256,transformer_dim)\n",
        "        self.dropout = nn.Dropout(dropout_rate)\n",
        "\n",
        "        self.lde = LDE(num_clusters,transformer_dim,bias= True,trainable_weights=True,pooling='mean')\n",
        "\n",
        "\n",
        "        if intermediate_linear is None:\n",
        "          self.linear = nn.Linear(num_clusters*transformer_dim,output_dim)\n",
        "          self.intermediate_linear = None\n",
        "        else:\n",
        "          self.linear = nn.Linear(num_clusters*transformer_dim,intermediate_linear)\n",
        "          self.intermediate_linear = nn.Linear(intermediate_linear,output_dim)\n",
        "\n",
        "\n",
        "\n",
        "    def forward(self,context_splines):\n",
        "\n",
        "        encoding = self.encoder(context_splines)\n",
        "        batched_encodings = einops.rearrange(encoding, 'b c (h p1) (w p2)->b (h w p1 p2) c', p1=encoding.shape[-2], p2=encoding.shape[-1])\n",
        "\n",
        "        patches = self.project_patches(batched_encodings)\n",
        "        patches = self.dropout(patches)\n",
        "\n",
        "        if self.ignore_unseen_lde:\n",
        "          not_observed_mask = (context_splines == 0).all(-1)\n",
        "          ignore_mask = torch.repeat_interleave(not_observed_mask.unsqueeze(-1),encoding.shape[-1],dim=-1)\n",
        "          ignore_mask = ignore_mask.flatten(1,2)\n",
        "        else:\n",
        "          ignore_mask = None\n",
        "\n",
        "        y = self.lde(patches,ignore_mask = ignore_mask)\n",
        "        y =self.dropout(y)\n",
        "        y = self.linear(y.view(context_splines.shape[0],-1))\n",
        "\n",
        "        if self.intermediate_linear is not None:\n",
        "          y = nn.ReLU()(y)\n",
        "          y = self.intermediate_linear(y)\n",
        "\n",
        "        return y"
      ]
    },
    {
      "cell_type": "markdown",
      "metadata": {
        "id": "zlC9EGqL2Y2k"
      },
      "source": [
        "## Initialize"
      ]
    },
    {
      "cell_type": "code",
      "execution_count": 28,
      "metadata": {
        "id": "t2x5cwu4FA5m"
      },
      "outputs": [],
      "source": [
        "encoding = None\n",
        "batched_encodings = None\n",
        "patches = None\n",
        "y = None\n",
        "\n",
        "encoder = None\n",
        "regressor = None\n",
        "optimizer = None\n",
        "\n",
        "import gc\n",
        "gc.collect()\n",
        "torch.cuda.empty_cache()"
      ]
    },
    {
      "cell_type": "code",
      "execution_count": 29,
      "metadata": {
        "id": "jorpTQpr2c7i"
      },
      "outputs": [],
      "source": [
        "def _init_weights(m):\n",
        "    if isinstance(m, torch.nn.Linear):\n",
        "        #torch.nn.init.kaiming_uniform_(m.weight)\n",
        "        torch.nn.init.kaiming_normal_(m.weight,mode='fan_in',nonlinearity='relu')\n",
        "        #torch.nn.init.xavier_uniform_(m.weight)\n",
        "        if m.bias is not None:\n",
        "            m.bias.data.fill_(0.)\n",
        "    if isinstance(m, torch.nn.Conv2d):\n",
        "        torch.nn.init.kaiming_normal_(m.weight,mode='fan_in',nonlinearity='relu')\n",
        "        #torch.nn.init.xavier_normal_(m.weight)\n",
        "        if m.bias is not None:\n",
        "            m.bias.data.fill_(0.)"
      ]
    },
    {
      "cell_type": "code",
      "execution_count": 45,
      "metadata": {
        "id": "9cLA4FAx1Ygi"
      },
      "outputs": [],
      "source": [
        "encoder = Encoder(10,num_ref_points,ignore_unseen = False)\n",
        "regressor = Regressor(encoder,ignore_unseen_lde = False,num_clusters = 64,dropout_rate=0.1, intermediate_linear = 64).to(device)\n",
        "\n",
        "\n",
        "_ = encoder.apply(_init_weights)\n",
        "if regressor.intermediate_linear is None:\n",
        "  _ = torch.nn.init.xavier_normal_(regressor.linear.weight)\n",
        "else:\n",
        "  _ = torch.nn.init.kaiming_normal_(regressor.linear.weight,mode='fan_in',nonlinearity='relu')\n",
        "  _ = torch.nn.init.xavier_normal_(regressor.intermediate_linear.weight)\n",
        "\n",
        "\n",
        "_ = torch.nn.init.xavier_uniform_(regressor.lde.dict)\n",
        "_ = torch.nn.init.xavier_uniform_(regressor.project_patches.weight,0.3)"
      ]
    },
    {
      "cell_type": "code",
      "execution_count": null,
      "metadata": {
        "colab": {
          "base_uri": "https://localhost:8080/",
          "height": 122
        },
        "id": "6gb9K3C3Gbrf",
        "outputId": "43acc4f1-9636-401d-f67f-fc9956b8cf50"
      },
      "outputs": [
        {
          "data": {
            "application/vnd.google.colaboratory.intrinsic+json": {
              "type": "string"
            },
            "text/plain": [
              "\"\\nlog_dir= Folder+'Neural_Networks/VGG_LDE_Regressor/checkpoints_var_input_1_more/conv_64_64_128_128_256_256_proj_64_4_clusters_dopout_0_1/'\\nmodel_dict = torch.load(log_dir+'%d_epoch.pth'%15)\\nregressor.load_state_dict(model_dict['regressor'])\\ntrain_loss_history = model_dict['train_loss_history']\\nt_cov_history = model_dict['t_cov_history']\\nt_rev_history = model_dict['t_rev_history']\\nval_loss_history = model_dict['val_loss_history']\\nlearning_rate = model_dict['lr']\\n\\n_ = 1\\n\""
            ]
          },
          "execution_count": 73,
          "metadata": {},
          "output_type": "execute_result"
        }
      ],
      "source": [
        "\"\"\"\n",
        "log_dir= Folder+'Neural_Networks/VGG_LDE_Regressor/checkpoints_var_input_1_more/conv_64_64_128_128_256_256_proj_64_4_clusters_dopout_0_1/'\n",
        "model_dict = torch.load(log_dir+'%d_epoch.pth'%15)\n",
        "regressor.load_state_dict(model_dict['regressor'])\n",
        "train_loss_history = model_dict['train_loss_history']\n",
        "t_cov_history = model_dict['t_cov_history']\n",
        "t_rev_history = model_dict['t_rev_history']\n",
        "val_loss_history = model_dict['val_loss_history']\n",
        "learning_rate = model_dict['lr']\n",
        "\n",
        "_ = 1\n",
        "\"\"\""
      ]
    },
    {
      "cell_type": "markdown",
      "metadata": {
        "id": "f2_4rEIEGaZE"
      },
      "source": [
        "## Sanity check"
      ]
    },
    {
      "cell_type": "code",
      "execution_count": 31,
      "metadata": {
        "colab": {
          "base_uri": "https://localhost:8080/"
        },
        "id": "9-ixOWTw76Yb",
        "outputId": "99f2b927-1d08-46ce-a17e-f052483b56e8"
      },
      "outputs": [
        {
          "output_type": "stream",
          "name": "stdout",
          "text": [
            "----------------------------------------------------------------\n",
            "        Layer (type)               Output Shape         Param #\n",
            "================================================================\n",
            "            Conv2d-1          [-1, 64, 10, 183]             576\n",
            "       BatchNorm2d-2          [-1, 64, 10, 183]             128\n",
            "              ReLU-3          [-1, 64, 10, 183]               0\n",
            "            Conv2d-4           [-1, 64, 10, 92]          36,864\n",
            "       BatchNorm2d-5           [-1, 64, 10, 92]             128\n",
            "              ReLU-6           [-1, 64, 10, 92]               0\n",
            "         MaxPool2d-7           [-1, 64, 10, 46]               0\n",
            "            Conv2d-8          [-1, 128, 10, 46]          73,728\n",
            "       BatchNorm2d-9          [-1, 128, 10, 46]             256\n",
            "             ReLU-10          [-1, 128, 10, 46]               0\n",
            "           Conv2d-11          [-1, 128, 10, 46]         147,456\n",
            "      BatchNorm2d-12          [-1, 128, 10, 46]             256\n",
            "             ReLU-13          [-1, 128, 10, 46]               0\n",
            "        MaxPool2d-14          [-1, 128, 10, 23]               0\n",
            "           Conv2d-15          [-1, 256, 10, 23]         294,912\n",
            "      BatchNorm2d-16          [-1, 256, 10, 23]             512\n",
            "             ReLU-17          [-1, 256, 10, 23]               0\n",
            "           Conv2d-18          [-1, 256, 10, 23]         589,824\n",
            "      BatchNorm2d-19          [-1, 256, 10, 23]             512\n",
            "             ReLU-20          [-1, 256, 10, 23]               0\n",
            "        MaxPool2d-21          [-1, 256, 10, 11]               0\n",
            "          Encoder-22          [-1, 256, 10, 11]               0\n",
            "           Linear-23              [-1, 110, 64]          16,448\n",
            "          Dropout-24              [-1, 110, 64]               0\n",
            "              LDE-25               [-1, 64, 64]              64\n",
            "          Dropout-26               [-1, 64, 64]               0\n",
            "           Linear-27                   [-1, 64]         262,208\n",
            "           Linear-28                    [-1, 2]             130\n",
            "================================================================\n",
            "Total params: 1,424,002\n",
            "Trainable params: 1,423,938\n",
            "Non-trainable params: 64\n",
            "----------------------------------------------------------------\n",
            "Input size (MB): 0.01\n",
            "Forward/backward pass size (MB): 10.47\n",
            "Params size (MB): 5.43\n",
            "Estimated Total Size (MB): 15.91\n",
            "----------------------------------------------------------------\n"
          ]
        }
      ],
      "source": [
        "import torchsummary\n",
        "torchsummary.summary(regressor,(10,365))"
      ]
    },
    {
      "cell_type": "code",
      "source": [
        "sns.heatmap(context_splines[1].cpu().detach())"
      ],
      "metadata": {
        "colab": {
          "base_uri": "https://localhost:8080/",
          "height": 459
        },
        "id": "ubvOvJyBbwbq",
        "outputId": "9d38f54e-4f2d-4fd8-bdf2-a79b88054b4b"
      },
      "execution_count": 32,
      "outputs": [
        {
          "output_type": "execute_result",
          "data": {
            "text/plain": [
              "<matplotlib.axes._subplots.AxesSubplot at 0x7f3de2f10f10>"
            ]
          },
          "metadata": {},
          "execution_count": 32
        },
        {
          "output_type": "display_data",
          "data": {
            "text/plain": [
              "<Figure size 640x480 with 2 Axes>"
            ],
            "image/png": "[encoded data removed]"
          },
          "metadata": {}
        }
      ]
    },
    {
      "cell_type": "code",
      "execution_count": 33,
      "metadata": {
        "colab": {
          "base_uri": "https://localhost:8080/"
        },
        "id": "fCwCO_Vz2XW4",
        "outputId": "f1d166ca-d39f-4a48-d6ef-0f2f5467d942"
      },
      "outputs": [
        {
          "output_type": "execute_result",
          "data": {
            "text/plain": [
              "tensor([[-0.3404, -0.3764],\n",
              "        [-0.3779, -0.3103],\n",
              "        [-0.3902, -0.3857],\n",
              "        [-0.2781, -0.4379],\n",
              "        [-0.2636, -0.2430],\n",
              "        [-0.1985, -0.3960],\n",
              "        [-0.2936, -0.3027],\n",
              "        [-0.3081, -0.3632],\n",
              "        [-0.2805, -0.5084],\n",
              "        [-0.4936, -0.4454]], device='cuda:0', grad_fn=<SliceBackward0>)"
            ]
          },
          "metadata": {},
          "execution_count": 33
        }
      ],
      "source": [
        "y = regressor(context_splines)\n",
        "y[:10]"
      ]
    },
    {
      "cell_type": "code",
      "execution_count": 34,
      "metadata": {
        "id": "5Z5eEGEm9S6L"
      },
      "outputs": [],
      "source": [
        "train_theta = torch.tensor(np.log10(train_labels),dtype=torch.float32)\n",
        "label_mean = train_theta.mean(0).to(device)\n",
        "label_std = train_theta.std(0).to(device)"
      ]
    },
    {
      "cell_type": "code",
      "execution_count": 35,
      "metadata": {
        "id": "aeW9McNm9emM"
      },
      "outputs": [],
      "source": [
        "def normalize_labels(labels,mean=label_mean,std=label_std):\n",
        "    norm_labels = labels - mean\n",
        "    norm_labels /= std\n",
        "    return norm_labels"
      ]
    },
    {
      "cell_type": "code",
      "execution_count": 36,
      "metadata": {
        "colab": {
          "base_uri": "https://localhost:8080/",
          "height": 879
        },
        "id": "z2GIVtiRxisP",
        "outputId": "0185dbb9-5065-441b-c385-6b58c04fa625"
      },
      "outputs": [
        {
          "output_type": "display_data",
          "data": {
            "text/plain": [
              "<Figure size 1500x700 with 2 Axes>"
            ],
            "image/png": "[encoded data removed]"
          },
          "metadata": {}
        }
      ],
      "source": [
        "#labels = limit_Corr_t_with_Dur_t(out_labels[:,2:],num_observed_years)\n",
        "labels = out_labels[:,2:]\n",
        "true_labels = normalize_labels(labels)\n",
        "y = regressor(context_splines)\n",
        "train_loss = torch.mean((y-true_labels)**2)\n",
        "train_loss.backward()\n",
        "grad_dict = plot_grad_flow(regressor.named_parameters())"
      ]
    },
    {
      "cell_type": "code",
      "execution_count": 37,
      "metadata": {
        "id": "l8izRY4d9mvV"
      },
      "outputs": [],
      "source": [
        "from pathlib import Path\n",
        "def train_epoch(log_dir,regressor,learning_rate=5e-4,\n",
        "                train_loss_history = [],val_loss_history = [],\n",
        "                t_cov_history = [],t_rev_history = [],\n",
        "                report_iter = 1000,epoch_num=1):\n",
        "  \n",
        "\n",
        "  optimizer = torch.optim.Adam(\n",
        "                list(regressor.parameters()), lr=learning_rate\n",
        "            )  \n",
        "\n",
        "  Path(log_dir).mkdir(parents=True, exist_ok=True)\n",
        "\n",
        "  train_history = []\n",
        "  train_t_cov_history = []\n",
        "  train_t_rev_history = []\n",
        "  regressor.train()\n",
        "\n",
        "  for i,(context_splines,out_labels) in enumerate(tqdm(train_loader)):\n",
        "\n",
        "\n",
        "    context_splines = context_splines.to(device)\n",
        "    out_labels = out_labels.to(device)\n",
        "\n",
        "    optimizer.zero_grad()\n",
        "\n",
        "    y = regressor(context_splines)\n",
        "    #labels = limit_Corr_t_with_Dur_t(out_labels[:,2:],num_observed_years)\n",
        "    labels = out_labels[:,2:]\n",
        "    true_labels = normalize_labels(labels)\n",
        "    #true_labels = normalize_labels(out_labels[:,2:])\n",
        "    mse = (y-true_labels)**2\n",
        "    #chi = mse*num_observed_years.unsqueeze(-1)\n",
        "    loss = torch.mean(mse,dim=0)\n",
        "    t_cov_loss = loss[0]\n",
        "    t_rev_loss = loss[1]\n",
        "\n",
        "\n",
        "    train_loss = torch.mean(loss)\n",
        "\n",
        "    train_loss.backward()\n",
        "    optimizer.step()\n",
        "\n",
        "    train_history.append(train_loss.item())\n",
        "    train_t_cov_history.append(loss[0].item())\n",
        "    train_t_rev_history.append(loss[1].item())\n",
        "\n",
        "    if i%report_iter==(report_iter-1):\n",
        "        print('Iter {} loss={:.4f} t_cov_loss ={:.4f} t_rev_loss = {:.4f}'.format(i+1,\n",
        "                        np.mean(train_history[-report_iter:]),np.mean(train_t_cov_history[-report_iter:]),np.mean(train_t_rev_history[-report_iter:])))\n",
        "\n",
        "\n",
        "  val_history = []\n",
        "  regressor.eval()\n",
        "\n",
        "  for i,(context_splines,out_labels) in enumerate(tqdm(val_loader)):\n",
        "\n",
        "    context_splines = context_splines.to(device)\n",
        "    out_labels = out_labels.to(device)\n",
        "\n",
        "    y = regressor(context_splines)\n",
        "    #true_labels = normalize_labels(out_labels[:,2:])\n",
        "    #labels = limit_Corr_t_with_Dur_t(out_labels[:,2:],num_observed_years)\n",
        "    labels = out_labels[:,2:]\n",
        "    true_labels = normalize_labels(labels)\n",
        "    mse = (y-true_labels)**2\n",
        "    #chi = mse*num_observed_years.unsqueeze(-1)\n",
        "    loss = torch.mean(mse,dim=0)\n",
        "    val_loss = torch.mean(loss)\n",
        "\n",
        "    val_history.append(val_loss.item())\n",
        "\n",
        "  print('Epoch {}, Train loss {:.4f} t_cov {:.4f} t_rev {:.4f}, Val loss {:.4f}'.format(epoch_num,\n",
        "                      np.mean(train_history),np.mean(train_t_cov_history),np.mean(train_t_rev_history),np.mean(val_history)))\n",
        "  \n",
        "  train_loss_history.append(train_history)\n",
        "  t_cov_history.append(train_t_cov_history)\n",
        "  t_rev_history.append(train_t_rev_history)\n",
        "  val_loss_history.append(np.mean(val_history))\n",
        "\n",
        "  model_dict = {\n",
        "                'regressor': regressor.state_dict(),\n",
        "                'epoch': epoch_num,\n",
        "                'string': regressor.__str__(),\n",
        "                'train_loss_history': train_loss_history,\n",
        "                't_cov_history':t_cov_history,\n",
        "                't_rev_history':t_rev_history,\n",
        "                'val_loss_history':val_loss_history,\n",
        "                'lr': learning_rate,\n",
        "                'label_mean':label_mean.detach().cpu().numpy(),\n",
        "                'label_std':label_std.detach().cpu().numpy()}\n",
        "\n",
        "  \n",
        "  torch.save(model_dict, log_dir + '%d_epoch.pth'%epoch_num)"
      ]
    },
    {
      "cell_type": "markdown",
      "metadata": {
        "id": "FWnY5WToHXoB"
      },
      "source": [
        "# Training with stochastic dataset"
      ]
    },
    {
      "cell_type": "markdown",
      "source": [
        "## 64 LDE clusters, 64 features (like in LDE paper) + intermediate_linear for 64 lr 1e-4 dropout 0.1\n",
        "\n",
        "\n"
      ],
      "metadata": {
        "id": "2sejwe95xoPn"
      }
    },
    {
      "cell_type": "code",
      "source": [
        "log_dir= Folder+'Neural_Networks/VGG_LDE_Regressor/checkpoints_stochastic_10_years/0_0001_lr_conv_64_64_128_128_256_256_proj_64_64_clusters_dopout_0_1_inter_linear_64/'\n",
        "learning_rate = 1e-4\n",
        "\n",
        "train_loss_history = []\n",
        "val_loss_history = []\n",
        "t_cov_history = []\n",
        "t_rev_history = []"
      ],
      "metadata": {
        "id": "EA-Q-EwYxrMr"
      },
      "execution_count": 46,
      "outputs": []
    },
    {
      "cell_type": "code",
      "source": [
        "# jax with 50% of gpu (same with 10% actually)\n",
        "for epoch in range(0,6):\n",
        "  train_epoch(log_dir,regressor,learning_rate,\n",
        "                train_loss_history,val_loss_history,\n",
        "                t_cov_history,t_rev_history,\n",
        "                report_iter = 200,epoch_num=epoch+1)"
      ],
      "metadata": {
        "colab": {
          "base_uri": "https://localhost:8080/"
        },
        "id": "dtwDvpXCxrPN",
        "outputId": "53bfbd3a-e28c-4c74-a623-d34df200849b"
      },
      "execution_count": 47,
      "outputs": [
        {
          "output_type": "stream",
          "name": "stderr",
          "text": [
            " 32%|███▏      | 200/625 [02:38<05:29,  1.29it/s]"
          ]
        },
        {
          "output_type": "stream",
          "name": "stdout",
          "text": [
            "Iter 200 loss=0.7401 t_cov_loss =0.6297 t_rev_loss = 0.8504\n"
          ]
        },
        {
          "output_type": "stream",
          "name": "stderr",
          "text": [
            " 64%|██████▍   | 400/625 [05:16<02:56,  1.28it/s]"
          ]
        },
        {
          "output_type": "stream",
          "name": "stdout",
          "text": [
            "Iter 400 loss=0.6430 t_cov_loss =0.5822 t_rev_loss = 0.7037\n"
          ]
        },
        {
          "output_type": "stream",
          "name": "stderr",
          "text": [
            " 96%|█████████▌| 600/625 [07:53<00:19,  1.28it/s]"
          ]
        },
        {
          "output_type": "stream",
          "name": "stdout",
          "text": [
            "Iter 600 loss=0.5889 t_cov_loss =0.5625 t_rev_loss = 0.6154\n"
          ]
        },
        {
          "output_type": "stream",
          "name": "stderr",
          "text": [
            "100%|██████████| 625/625 [08:14<00:00,  1.26it/s]\n",
            "100%|██████████| 78/78 [00:58<00:00,  1.32it/s]\n"
          ]
        },
        {
          "output_type": "stream",
          "name": "stdout",
          "text": [
            "Epoch 1, Train loss 0.6526 t_cov 0.5890 t_rev 0.7163, Val loss 0.5585\n"
          ]
        },
        {
          "output_type": "stream",
          "name": "stderr",
          "text": [
            " 32%|███▏      | 200/625 [02:38<05:29,  1.29it/s]"
          ]
        },
        {
          "output_type": "stream",
          "name": "stdout",
          "text": [
            "Iter 200 loss=0.5319 t_cov_loss =0.5628 t_rev_loss = 0.5010\n"
          ]
        },
        {
          "output_type": "stream",
          "name": "stderr",
          "text": [
            " 64%|██████▍   | 400/625 [05:16<02:56,  1.28it/s]"
          ]
        },
        {
          "output_type": "stream",
          "name": "stdout",
          "text": [
            "Iter 400 loss=0.4794 t_cov_loss =0.5388 t_rev_loss = 0.4199\n"
          ]
        },
        {
          "output_type": "stream",
          "name": "stderr",
          "text": [
            " 96%|█████████▌| 600/625 [07:51<00:19,  1.30it/s]"
          ]
        },
        {
          "output_type": "stream",
          "name": "stdout",
          "text": [
            "Iter 600 loss=0.4433 t_cov_loss =0.5272 t_rev_loss = 0.3595\n"
          ]
        },
        {
          "output_type": "stream",
          "name": "stderr",
          "text": [
            "100%|██████████| 625/625 [08:11<00:00,  1.27it/s]\n",
            "100%|██████████| 78/78 [00:59<00:00,  1.32it/s]\n"
          ]
        },
        {
          "output_type": "stream",
          "name": "stdout",
          "text": [
            "Epoch 2, Train loss 0.4823 t_cov 0.5411 t_rev 0.4236, Val loss 0.4161\n"
          ]
        },
        {
          "output_type": "stream",
          "name": "stderr",
          "text": [
            " 32%|███▏      | 200/625 [02:36<06:34,  1.08it/s]"
          ]
        },
        {
          "output_type": "stream",
          "name": "stdout",
          "text": [
            "Iter 200 loss=0.4242 t_cov_loss =0.5237 t_rev_loss = 0.3248\n"
          ]
        },
        {
          "output_type": "stream",
          "name": "stderr",
          "text": [
            " 64%|██████▍   | 400/625 [05:12<02:52,  1.30it/s]"
          ]
        },
        {
          "output_type": "stream",
          "name": "stdout",
          "text": [
            "Iter 400 loss=0.4064 t_cov_loss =0.5195 t_rev_loss = 0.2934\n"
          ]
        },
        {
          "output_type": "stream",
          "name": "stderr",
          "text": [
            " 96%|█████████▌| 600/625 [07:49<00:19,  1.29it/s]"
          ]
        },
        {
          "output_type": "stream",
          "name": "stdout",
          "text": [
            "Iter 600 loss=0.3923 t_cov_loss =0.5077 t_rev_loss = 0.2769\n"
          ]
        },
        {
          "output_type": "stream",
          "name": "stderr",
          "text": [
            "100%|██████████| 625/625 [08:08<00:00,  1.28it/s]\n",
            "100%|██████████| 78/78 [00:58<00:00,  1.33it/s]\n"
          ]
        },
        {
          "output_type": "stream",
          "name": "stdout",
          "text": [
            "Epoch 3, Train loss 0.4065 t_cov 0.5158 t_rev 0.2972, Val loss 0.3754\n"
          ]
        },
        {
          "output_type": "stream",
          "name": "stderr",
          "text": [
            " 32%|███▏      | 200/625 [02:39<05:31,  1.28it/s]"
          ]
        },
        {
          "output_type": "stream",
          "name": "stdout",
          "text": [
            "Iter 200 loss=0.3880 t_cov_loss =0.5104 t_rev_loss = 0.2657\n"
          ]
        },
        {
          "output_type": "stream",
          "name": "stderr",
          "text": [
            " 64%|██████▍   | 400/625 [05:15<02:51,  1.31it/s]"
          ]
        },
        {
          "output_type": "stream",
          "name": "stdout",
          "text": [
            "Iter 400 loss=0.3789 t_cov_loss =0.5109 t_rev_loss = 0.2469\n"
          ]
        },
        {
          "output_type": "stream",
          "name": "stderr",
          "text": [
            " 96%|█████████▌| 600/625 [07:53<00:20,  1.24it/s]"
          ]
        },
        {
          "output_type": "stream",
          "name": "stdout",
          "text": [
            "Iter 600 loss=0.3682 t_cov_loss =0.4988 t_rev_loss = 0.2376\n"
          ]
        },
        {
          "output_type": "stream",
          "name": "stderr",
          "text": [
            "100%|██████████| 625/625 [08:12<00:00,  1.27it/s]\n",
            "100%|██████████| 78/78 [00:57<00:00,  1.35it/s]\n"
          ]
        },
        {
          "output_type": "stream",
          "name": "stdout",
          "text": [
            "Epoch 4, Train loss 0.3773 t_cov 0.5057 t_rev 0.2489, Val loss 0.3589\n"
          ]
        },
        {
          "output_type": "stream",
          "name": "stderr",
          "text": [
            " 32%|███▏      | 200/625 [02:39<05:38,  1.25it/s]"
          ]
        },
        {
          "output_type": "stream",
          "name": "stdout",
          "text": [
            "Iter 200 loss=0.3661 t_cov_loss =0.5070 t_rev_loss = 0.2252\n"
          ]
        },
        {
          "output_type": "stream",
          "name": "stderr",
          "text": [
            " 64%|██████▍   | 400/625 [05:18<02:53,  1.29it/s]"
          ]
        },
        {
          "output_type": "stream",
          "name": "stdout",
          "text": [
            "Iter 400 loss=0.3610 t_cov_loss =0.5038 t_rev_loss = 0.2182\n"
          ]
        },
        {
          "output_type": "stream",
          "name": "stderr",
          "text": [
            " 96%|█████████▌| 600/625 [07:54<00:19,  1.31it/s]"
          ]
        },
        {
          "output_type": "stream",
          "name": "stdout",
          "text": [
            "Iter 600 loss=0.3548 t_cov_loss =0.4992 t_rev_loss = 0.2105\n"
          ]
        },
        {
          "output_type": "stream",
          "name": "stderr",
          "text": [
            "100%|██████████| 625/625 [08:14<00:00,  1.26it/s]\n",
            "100%|██████████| 78/78 [00:58<00:00,  1.34it/s]\n"
          ]
        },
        {
          "output_type": "stream",
          "name": "stdout",
          "text": [
            "Epoch 5, Train loss 0.3600 t_cov 0.5027 t_rev 0.2173, Val loss 0.3698\n"
          ]
        },
        {
          "output_type": "stream",
          "name": "stderr",
          "text": [
            " 32%|███▏      | 200/625 [02:37<05:36,  1.26it/s]"
          ]
        },
        {
          "output_type": "stream",
          "name": "stdout",
          "text": [
            "Iter 200 loss=0.3526 t_cov_loss =0.4946 t_rev_loss = 0.2107\n"
          ]
        },
        {
          "output_type": "stream",
          "name": "stderr",
          "text": [
            " 64%|██████▍   | 400/625 [05:12<02:55,  1.28it/s]"
          ]
        },
        {
          "output_type": "stream",
          "name": "stdout",
          "text": [
            "Iter 400 loss=0.3467 t_cov_loss =0.4948 t_rev_loss = 0.1986\n"
          ]
        },
        {
          "output_type": "stream",
          "name": "stderr",
          "text": [
            " 96%|█████████▌| 600/625 [07:48<00:19,  1.28it/s]"
          ]
        },
        {
          "output_type": "stream",
          "name": "stdout",
          "text": [
            "Iter 600 loss=0.3457 t_cov_loss =0.4929 t_rev_loss = 0.1984\n"
          ]
        },
        {
          "output_type": "stream",
          "name": "stderr",
          "text": [
            "100%|██████████| 625/625 [08:08<00:00,  1.28it/s]\n",
            "100%|██████████| 78/78 [00:59<00:00,  1.32it/s]"
          ]
        },
        {
          "output_type": "stream",
          "name": "stdout",
          "text": [
            "Epoch 6, Train loss 0.3479 t_cov 0.4937 t_rev 0.2022, Val loss 0.3416\n"
          ]
        },
        {
          "output_type": "stream",
          "name": "stderr",
          "text": [
            "\n"
          ]
        }
      ]
    },
    {
      "cell_type": "code",
      "source": [
        "learning_rate = 5e-5"
      ],
      "metadata": {
        "id": "6ncB9pamBNVv"
      },
      "execution_count": 48,
      "outputs": []
    },
    {
      "cell_type": "code",
      "source": [
        "# jax with 50% of gpu (same with 10% actually)\n",
        "for epoch in range(6,10):\n",
        "  train_epoch(log_dir,regressor,learning_rate,\n",
        "                train_loss_history,val_loss_history,\n",
        "                t_cov_history,t_rev_history,\n",
        "                report_iter = 200,epoch_num=epoch+1)"
      ],
      "metadata": {
        "colab": {
          "base_uri": "https://localhost:8080/"
        },
        "id": "pNQl8dHoxub-",
        "outputId": "06ec1107-ee1e-48f3-d477-00a1ce2f3170"
      },
      "execution_count": 49,
      "outputs": [
        {
          "output_type": "stream",
          "name": "stderr",
          "text": [
            " 32%|███▏      | 200/625 [02:36<05:33,  1.27it/s]"
          ]
        },
        {
          "output_type": "stream",
          "name": "stdout",
          "text": [
            "Iter 200 loss=0.3416 t_cov_loss =0.4970 t_rev_loss = 0.1863\n"
          ]
        },
        {
          "output_type": "stream",
          "name": "stderr",
          "text": [
            " 64%|██████▍   | 400/625 [05:12<02:52,  1.30it/s]"
          ]
        },
        {
          "output_type": "stream",
          "name": "stdout",
          "text": [
            "Iter 400 loss=0.3362 t_cov_loss =0.4874 t_rev_loss = 0.1850\n"
          ]
        },
        {
          "output_type": "stream",
          "name": "stderr",
          "text": [
            " 96%|█████████▌| 600/625 [07:49<00:19,  1.29it/s]"
          ]
        },
        {
          "output_type": "stream",
          "name": "stdout",
          "text": [
            "Iter 600 loss=0.3334 t_cov_loss =0.4851 t_rev_loss = 0.1816\n"
          ]
        },
        {
          "output_type": "stream",
          "name": "stderr",
          "text": [
            "100%|██████████| 625/625 [08:08<00:00,  1.28it/s]\n",
            "100%|██████████| 78/78 [00:56<00:00,  1.37it/s]\n"
          ]
        },
        {
          "output_type": "stream",
          "name": "stdout",
          "text": [
            "Epoch 7, Train loss 0.3367 t_cov 0.4895 t_rev 0.1839, Val loss 0.3237\n"
          ]
        },
        {
          "output_type": "stream",
          "name": "stderr",
          "text": [
            " 32%|███▏      | 200/625 [02:37<05:26,  1.30it/s]"
          ]
        },
        {
          "output_type": "stream",
          "name": "stdout",
          "text": [
            "Iter 200 loss=0.3317 t_cov_loss =0.4833 t_rev_loss = 0.1801\n"
          ]
        },
        {
          "output_type": "stream",
          "name": "stderr",
          "text": [
            " 64%|██████▍   | 400/625 [05:14<03:05,  1.21it/s]"
          ]
        },
        {
          "output_type": "stream",
          "name": "stdout",
          "text": [
            "Iter 400 loss=0.3311 t_cov_loss =0.4838 t_rev_loss = 0.1783\n"
          ]
        },
        {
          "output_type": "stream",
          "name": "stderr",
          "text": [
            " 96%|█████████▌| 600/625 [07:51<00:19,  1.29it/s]"
          ]
        },
        {
          "output_type": "stream",
          "name": "stdout",
          "text": [
            "Iter 600 loss=0.3280 t_cov_loss =0.4809 t_rev_loss = 0.1752\n"
          ]
        },
        {
          "output_type": "stream",
          "name": "stderr",
          "text": [
            "100%|██████████| 625/625 [08:10<00:00,  1.27it/s]\n",
            "100%|██████████| 78/78 [00:59<00:00,  1.30it/s]\n"
          ]
        },
        {
          "output_type": "stream",
          "name": "stdout",
          "text": [
            "Epoch 8, Train loss 0.3300 t_cov 0.4822 t_rev 0.1777, Val loss 0.3237\n"
          ]
        },
        {
          "output_type": "stream",
          "name": "stderr",
          "text": [
            " 32%|███▏      | 200/625 [02:36<05:58,  1.19it/s]"
          ]
        },
        {
          "output_type": "stream",
          "name": "stdout",
          "text": [
            "Iter 200 loss=0.3296 t_cov_loss =0.4829 t_rev_loss = 0.1762\n"
          ]
        },
        {
          "output_type": "stream",
          "name": "stderr",
          "text": [
            " 64%|██████▍   | 400/625 [05:12<02:53,  1.30it/s]"
          ]
        },
        {
          "output_type": "stream",
          "name": "stdout",
          "text": [
            "Iter 400 loss=0.3285 t_cov_loss =0.4817 t_rev_loss = 0.1753\n"
          ]
        },
        {
          "output_type": "stream",
          "name": "stderr",
          "text": [
            " 96%|█████████▌| 600/625 [07:50<00:18,  1.32it/s]"
          ]
        },
        {
          "output_type": "stream",
          "name": "stdout",
          "text": [
            "Iter 600 loss=0.3239 t_cov_loss =0.4749 t_rev_loss = 0.1729\n"
          ]
        },
        {
          "output_type": "stream",
          "name": "stderr",
          "text": [
            "100%|██████████| 625/625 [08:09<00:00,  1.28it/s]\n",
            "100%|██████████| 78/78 [00:58<00:00,  1.34it/s]\n"
          ]
        },
        {
          "output_type": "stream",
          "name": "stdout",
          "text": [
            "Epoch 9, Train loss 0.3271 t_cov 0.4792 t_rev 0.1750, Val loss 0.3287\n"
          ]
        },
        {
          "output_type": "stream",
          "name": "stderr",
          "text": [
            " 32%|███▏      | 200/625 [02:36<05:29,  1.29it/s]"
          ]
        },
        {
          "output_type": "stream",
          "name": "stdout",
          "text": [
            "Iter 200 loss=0.3231 t_cov_loss =0.4759 t_rev_loss = 0.1703\n"
          ]
        },
        {
          "output_type": "stream",
          "name": "stderr",
          "text": [
            " 64%|██████▍   | 400/625 [05:14<02:58,  1.26it/s]"
          ]
        },
        {
          "output_type": "stream",
          "name": "stdout",
          "text": [
            "Iter 400 loss=0.3307 t_cov_loss =0.4924 t_rev_loss = 0.1691\n"
          ]
        },
        {
          "output_type": "stream",
          "name": "stderr",
          "text": [
            " 96%|█████████▌| 600/625 [07:52<00:19,  1.30it/s]"
          ]
        },
        {
          "output_type": "stream",
          "name": "stdout",
          "text": [
            "Iter 600 loss=0.3257 t_cov_loss =0.4819 t_rev_loss = 0.1694\n"
          ]
        },
        {
          "output_type": "stream",
          "name": "stderr",
          "text": [
            "100%|██████████| 625/625 [08:12<00:00,  1.27it/s]\n",
            "100%|██████████| 78/78 [00:57<00:00,  1.35it/s]"
          ]
        },
        {
          "output_type": "stream",
          "name": "stdout",
          "text": [
            "Epoch 10, Train loss 0.3260 t_cov 0.4830 t_rev 0.1690, Val loss 0.3453\n"
          ]
        },
        {
          "output_type": "stream",
          "name": "stderr",
          "text": [
            "\n"
          ]
        }
      ]
    },
    {
      "cell_type": "code",
      "source": [
        "model_dict = torch.load(log_dir+'%d_epoch.pth'%7)\n",
        "regressor.load_state_dict(model_dict['regressor'])\n",
        "train_loss_history = model_dict['train_loss_history']\n",
        "t_cov_history = model_dict['t_cov_history']\n",
        "t_rev_history = model_dict['t_rev_history']\n",
        "val_loss_history = model_dict['val_loss_history']\n",
        "learning_rate = model_dict['lr']"
      ],
      "metadata": {
        "id": "M3v7sOQOxufE"
      },
      "execution_count": 50,
      "outputs": []
    },
    {
      "cell_type": "code",
      "source": [
        "learning_rate = 1e-5"
      ],
      "metadata": {
        "id": "acArEHYsxuhe"
      },
      "execution_count": 51,
      "outputs": []
    },
    {
      "cell_type": "code",
      "source": [
        "# jax with 50% of gpu (same with 10% actually)\n",
        "for epoch in range(7,10):\n",
        "  train_epoch(log_dir,regressor,learning_rate,\n",
        "                train_loss_history,val_loss_history,\n",
        "                t_cov_history,t_rev_history,\n",
        "                report_iter = 200,epoch_num=epoch+1)"
      ],
      "metadata": {
        "colab": {
          "base_uri": "https://localhost:8080/",
          "height": 579
        },
        "id": "KW5YzyIBMfWg",
        "outputId": "f0eca682-b08b-40ec-be27-9c60f7372e08"
      },
      "execution_count": 52,
      "outputs": [
        {
          "output_type": "stream",
          "name": "stderr",
          "text": [
            " 32%|███▏      | 200/625 [02:38<06:03,  1.17it/s]"
          ]
        },
        {
          "output_type": "stream",
          "name": "stdout",
          "text": [
            "Iter 200 loss=0.3245 t_cov_loss =0.4766 t_rev_loss = 0.1723\n"
          ]
        },
        {
          "output_type": "stream",
          "name": "stderr",
          "text": [
            " 64%|██████▍   | 400/625 [05:16<02:55,  1.28it/s]"
          ]
        },
        {
          "output_type": "stream",
          "name": "stdout",
          "text": [
            "Iter 400 loss=0.3253 t_cov_loss =0.4765 t_rev_loss = 0.1741\n"
          ]
        },
        {
          "output_type": "stream",
          "name": "stderr",
          "text": [
            " 96%|█████████▌| 600/625 [07:53<00:19,  1.31it/s]"
          ]
        },
        {
          "output_type": "stream",
          "name": "stdout",
          "text": [
            "Iter 600 loss=0.3253 t_cov_loss =0.4784 t_rev_loss = 0.1722\n"
          ]
        },
        {
          "output_type": "stream",
          "name": "stderr",
          "text": [
            "100%|██████████| 625/625 [08:13<00:00,  1.27it/s]\n",
            "100%|██████████| 78/78 [00:57<00:00,  1.35it/s]\n"
          ]
        },
        {
          "output_type": "stream",
          "name": "stdout",
          "text": [
            "Epoch 8, Train loss 0.3247 t_cov 0.4765 t_rev 0.1730, Val loss 0.3133\n"
          ]
        },
        {
          "output_type": "stream",
          "name": "stderr",
          "text": [
            " 32%|███▏      | 200/625 [02:36<05:29,  1.29it/s]"
          ]
        },
        {
          "output_type": "stream",
          "name": "stdout",
          "text": [
            "Iter 200 loss=0.3252 t_cov_loss =0.4792 t_rev_loss = 0.1713\n"
          ]
        },
        {
          "output_type": "stream",
          "name": "stderr",
          "text": [
            " 64%|██████▍   | 400/625 [05:13<02:59,  1.26it/s]"
          ]
        },
        {
          "output_type": "stream",
          "name": "stdout",
          "text": [
            "Iter 400 loss=0.3243 t_cov_loss =0.4750 t_rev_loss = 0.1736\n"
          ]
        },
        {
          "output_type": "stream",
          "name": "stderr",
          "text": [
            " 96%|█████████▌| 600/625 [07:51<00:19,  1.27it/s]"
          ]
        },
        {
          "output_type": "stream",
          "name": "stdout",
          "text": [
            "Iter 600 loss=0.3223 t_cov_loss =0.4764 t_rev_loss = 0.1683\n"
          ]
        },
        {
          "output_type": "stream",
          "name": "stderr",
          "text": [
            "100%|██████████| 625/625 [08:10<00:00,  1.27it/s]\n",
            "100%|██████████| 78/78 [00:59<00:00,  1.32it/s]\n"
          ]
        },
        {
          "output_type": "stream",
          "name": "stdout",
          "text": [
            "Epoch 9, Train loss 0.3238 t_cov 0.4766 t_rev 0.1710, Val loss 0.3133\n"
          ]
        },
        {
          "output_type": "stream",
          "name": "stderr",
          "text": [
            " 32%|███▏      | 200/625 [02:38<05:30,  1.28it/s]"
          ]
        },
        {
          "output_type": "stream",
          "name": "stdout",
          "text": [
            "Iter 200 loss=0.3254 t_cov_loss =0.4815 t_rev_loss = 0.1693\n"
          ]
        },
        {
          "output_type": "stream",
          "name": "stderr",
          "text": [
            " 45%|████▌     | 284/625 [03:44<04:29,  1.27it/s]\n"
          ]
        },
        {
          "output_type": "error",
          "ename": "KeyboardInterrupt",
          "evalue": "ignored",
          "traceback": [
            "\u001b[0;31m---------------------------------------------------------------------------\u001b[0m",
            "\u001b[0;31mKeyboardInterrupt\u001b[0m                         Traceback (most recent call last)",
            "\u001b[0;32m<ipython-input-52-2eb0bfce2114>\u001b[0m in \u001b[0;36m<module>\u001b[0;34m()\u001b[0m\n\u001b[1;32m      4\u001b[0m                 \u001b[0mtrain_loss_history\u001b[0m\u001b[0;34m,\u001b[0m\u001b[0mval_loss_history\u001b[0m\u001b[0;34m,\u001b[0m\u001b[0;34m\u001b[0m\u001b[0;34m\u001b[0m\u001b[0m\n\u001b[1;32m      5\u001b[0m                 \u001b[0mt_cov_history\u001b[0m\u001b[0;34m,\u001b[0m\u001b[0mt_rev_history\u001b[0m\u001b[0;34m,\u001b[0m\u001b[0;34m\u001b[0m\u001b[0;34m\u001b[0m\u001b[0m\n\u001b[0;32m----> 6\u001b[0;31m                 report_iter = 200,epoch_num=epoch+1)\n\u001b[0m",
            "\u001b[0;32m<ipython-input-37-17932109f3c3>\u001b[0m in \u001b[0;36mtrain_epoch\u001b[0;34m(log_dir, regressor, learning_rate, train_loss_history, val_loss_history, t_cov_history, t_rev_history, report_iter, epoch_num)\u001b[0m\n\u001b[1;32m     17\u001b[0m   \u001b[0mregressor\u001b[0m\u001b[0;34m.\u001b[0m\u001b[0mtrain\u001b[0m\u001b[0;34m(\u001b[0m\u001b[0;34m)\u001b[0m\u001b[0;34m\u001b[0m\u001b[0;34m\u001b[0m\u001b[0m\n\u001b[1;32m     18\u001b[0m \u001b[0;34m\u001b[0m\u001b[0m\n\u001b[0;32m---> 19\u001b[0;31m   \u001b[0;32mfor\u001b[0m \u001b[0mi\u001b[0m\u001b[0;34m,\u001b[0m\u001b[0;34m(\u001b[0m\u001b[0mcontext_splines\u001b[0m\u001b[0;34m,\u001b[0m\u001b[0mout_labels\u001b[0m\u001b[0;34m)\u001b[0m \u001b[0;32min\u001b[0m \u001b[0menumerate\u001b[0m\u001b[0;34m(\u001b[0m\u001b[0mtqdm\u001b[0m\u001b[0;34m(\u001b[0m\u001b[0mtrain_loader\u001b[0m\u001b[0;34m)\u001b[0m\u001b[0;34m)\u001b[0m\u001b[0;34m:\u001b[0m\u001b[0;34m\u001b[0m\u001b[0;34m\u001b[0m\u001b[0m\n\u001b[0m\u001b[1;32m     20\u001b[0m \u001b[0;34m\u001b[0m\u001b[0m\n\u001b[1;32m     21\u001b[0m \u001b[0;34m\u001b[0m\u001b[0m\n",
            "\u001b[0;32m/usr/local/lib/python3.7/dist-packages/tqdm/std.py\u001b[0m in \u001b[0;36m__iter__\u001b[0;34m(self)\u001b[0m\n\u001b[1;32m   1193\u001b[0m \u001b[0;34m\u001b[0m\u001b[0m\n\u001b[1;32m   1194\u001b[0m         \u001b[0;32mtry\u001b[0m\u001b[0;34m:\u001b[0m\u001b[0;34m\u001b[0m\u001b[0;34m\u001b[0m\u001b[0m\n\u001b[0;32m-> 1195\u001b[0;31m             \u001b[0;32mfor\u001b[0m \u001b[0mobj\u001b[0m \u001b[0;32min\u001b[0m \u001b[0miterable\u001b[0m\u001b[0;34m:\u001b[0m\u001b[0;34m\u001b[0m\u001b[0;34m\u001b[0m\u001b[0m\n\u001b[0m\u001b[1;32m   1196\u001b[0m                 \u001b[0;32myield\u001b[0m \u001b[0mobj\u001b[0m\u001b[0;34m\u001b[0m\u001b[0;34m\u001b[0m\u001b[0m\n\u001b[1;32m   1197\u001b[0m                 \u001b[0;31m# Update and possibly print the progressbar.\u001b[0m\u001b[0;34m\u001b[0m\u001b[0;34m\u001b[0m\u001b[0;34m\u001b[0m\u001b[0m\n",
            "\u001b[0;32m/usr/local/lib/python3.7/dist-packages/torch/utils/data/dataloader.py\u001b[0m in \u001b[0;36m__next__\u001b[0;34m(self)\u001b[0m\n\u001b[1;32m    679\u001b[0m                 \u001b[0;31m# TODO(https://github.com/pytorch/pytorch/issues/76750)\u001b[0m\u001b[0;34m\u001b[0m\u001b[0;34m\u001b[0m\u001b[0;34m\u001b[0m\u001b[0m\n\u001b[1;32m    680\u001b[0m                 \u001b[0mself\u001b[0m\u001b[0;34m.\u001b[0m\u001b[0m_reset\u001b[0m\u001b[0;34m(\u001b[0m\u001b[0;34m)\u001b[0m  \u001b[0;31m# type: ignore[call-arg]\u001b[0m\u001b[0;34m\u001b[0m\u001b[0;34m\u001b[0m\u001b[0m\n\u001b[0;32m--> 681\u001b[0;31m             \u001b[0mdata\u001b[0m \u001b[0;34m=\u001b[0m \u001b[0mself\u001b[0m\u001b[0;34m.\u001b[0m\u001b[0m_next_data\u001b[0m\u001b[0;34m(\u001b[0m\u001b[0;34m)\u001b[0m\u001b[0;34m\u001b[0m\u001b[0;34m\u001b[0m\u001b[0m\n\u001b[0m\u001b[1;32m    682\u001b[0m             \u001b[0mself\u001b[0m\u001b[0;34m.\u001b[0m\u001b[0m_num_yielded\u001b[0m \u001b[0;34m+=\u001b[0m \u001b[0;36m1\u001b[0m\u001b[0;34m\u001b[0m\u001b[0;34m\u001b[0m\u001b[0m\n\u001b[1;32m    683\u001b[0m             \u001b[0;32mif\u001b[0m \u001b[0mself\u001b[0m\u001b[0;34m.\u001b[0m\u001b[0m_dataset_kind\u001b[0m \u001b[0;34m==\u001b[0m \u001b[0m_DatasetKind\u001b[0m\u001b[0;34m.\u001b[0m\u001b[0mIterable\u001b[0m \u001b[0;32mand\u001b[0m\u001b[0;31m \u001b[0m\u001b[0;31m\\\u001b[0m\u001b[0;34m\u001b[0m\u001b[0;34m\u001b[0m\u001b[0m\n",
            "\u001b[0;32m/usr/local/lib/python3.7/dist-packages/torch/utils/data/dataloader.py\u001b[0m in \u001b[0;36m_next_data\u001b[0;34m(self)\u001b[0m\n\u001b[1;32m    719\u001b[0m     \u001b[0;32mdef\u001b[0m \u001b[0m_next_data\u001b[0m\u001b[0;34m(\u001b[0m\u001b[0mself\u001b[0m\u001b[0;34m)\u001b[0m\u001b[0;34m:\u001b[0m\u001b[0;34m\u001b[0m\u001b[0;34m\u001b[0m\u001b[0m\n\u001b[1;32m    720\u001b[0m         \u001b[0mindex\u001b[0m \u001b[0;34m=\u001b[0m \u001b[0mself\u001b[0m\u001b[0;34m.\u001b[0m\u001b[0m_next_index\u001b[0m\u001b[0;34m(\u001b[0m\u001b[0;34m)\u001b[0m  \u001b[0;31m# may raise StopIteration\u001b[0m\u001b[0;34m\u001b[0m\u001b[0;34m\u001b[0m\u001b[0m\n\u001b[0;32m--> 721\u001b[0;31m         \u001b[0mdata\u001b[0m \u001b[0;34m=\u001b[0m \u001b[0mself\u001b[0m\u001b[0;34m.\u001b[0m\u001b[0m_dataset_fetcher\u001b[0m\u001b[0;34m.\u001b[0m\u001b[0mfetch\u001b[0m\u001b[0;34m(\u001b[0m\u001b[0mindex\u001b[0m\u001b[0;34m)\u001b[0m  \u001b[0;31m# may raise StopIteration\u001b[0m\u001b[0;34m\u001b[0m\u001b[0;34m\u001b[0m\u001b[0m\n\u001b[0m\u001b[1;32m    722\u001b[0m         \u001b[0;32mif\u001b[0m \u001b[0mself\u001b[0m\u001b[0;34m.\u001b[0m\u001b[0m_pin_memory\u001b[0m\u001b[0;34m:\u001b[0m\u001b[0;34m\u001b[0m\u001b[0;34m\u001b[0m\u001b[0m\n\u001b[1;32m    723\u001b[0m             \u001b[0mdata\u001b[0m \u001b[0;34m=\u001b[0m \u001b[0m_utils\u001b[0m\u001b[0;34m.\u001b[0m\u001b[0mpin_memory\u001b[0m\u001b[0;34m.\u001b[0m\u001b[0mpin_memory\u001b[0m\u001b[0;34m(\u001b[0m\u001b[0mdata\u001b[0m\u001b[0;34m,\u001b[0m \u001b[0mself\u001b[0m\u001b[0;34m.\u001b[0m\u001b[0m_pin_memory_device\u001b[0m\u001b[0;34m)\u001b[0m\u001b[0;34m\u001b[0m\u001b[0;34m\u001b[0m\u001b[0m\n",
            "\u001b[0;32m/usr/local/lib/python3.7/dist-packages/torch/utils/data/_utils/fetch.py\u001b[0m in \u001b[0;36mfetch\u001b[0;34m(self, possibly_batched_index)\u001b[0m\n\u001b[1;32m     47\u001b[0m     \u001b[0;32mdef\u001b[0m \u001b[0mfetch\u001b[0m\u001b[0;34m(\u001b[0m\u001b[0mself\u001b[0m\u001b[0;34m,\u001b[0m \u001b[0mpossibly_batched_index\u001b[0m\u001b[0;34m)\u001b[0m\u001b[0;34m:\u001b[0m\u001b[0;34m\u001b[0m\u001b[0;34m\u001b[0m\u001b[0m\n\u001b[1;32m     48\u001b[0m         \u001b[0;32mif\u001b[0m \u001b[0mself\u001b[0m\u001b[0;34m.\u001b[0m\u001b[0mauto_collation\u001b[0m\u001b[0;34m:\u001b[0m\u001b[0;34m\u001b[0m\u001b[0;34m\u001b[0m\u001b[0m\n\u001b[0;32m---> 49\u001b[0;31m             \u001b[0mdata\u001b[0m \u001b[0;34m=\u001b[0m \u001b[0;34m[\u001b[0m\u001b[0mself\u001b[0m\u001b[0;34m.\u001b[0m\u001b[0mdataset\u001b[0m\u001b[0;34m[\u001b[0m\u001b[0midx\u001b[0m\u001b[0;34m]\u001b[0m \u001b[0;32mfor\u001b[0m \u001b[0midx\u001b[0m \u001b[0;32min\u001b[0m \u001b[0mpossibly_batched_index\u001b[0m\u001b[0;34m]\u001b[0m\u001b[0;34m\u001b[0m\u001b[0;34m\u001b[0m\u001b[0m\n\u001b[0m\u001b[1;32m     50\u001b[0m         \u001b[0;32melse\u001b[0m\u001b[0;34m:\u001b[0m\u001b[0;34m\u001b[0m\u001b[0;34m\u001b[0m\u001b[0m\n\u001b[1;32m     51\u001b[0m             \u001b[0mdata\u001b[0m \u001b[0;34m=\u001b[0m \u001b[0mself\u001b[0m\u001b[0;34m.\u001b[0m\u001b[0mdataset\u001b[0m\u001b[0;34m[\u001b[0m\u001b[0mpossibly_batched_index\u001b[0m\u001b[0;34m]\u001b[0m\u001b[0;34m\u001b[0m\u001b[0;34m\u001b[0m\u001b[0m\n",
            "\u001b[0;32m/usr/local/lib/python3.7/dist-packages/torch/utils/data/_utils/fetch.py\u001b[0m in \u001b[0;36m<listcomp>\u001b[0;34m(.0)\u001b[0m\n\u001b[1;32m     47\u001b[0m     \u001b[0;32mdef\u001b[0m \u001b[0mfetch\u001b[0m\u001b[0;34m(\u001b[0m\u001b[0mself\u001b[0m\u001b[0;34m,\u001b[0m \u001b[0mpossibly_batched_index\u001b[0m\u001b[0;34m)\u001b[0m\u001b[0;34m:\u001b[0m\u001b[0;34m\u001b[0m\u001b[0;34m\u001b[0m\u001b[0m\n\u001b[1;32m     48\u001b[0m         \u001b[0;32mif\u001b[0m \u001b[0mself\u001b[0m\u001b[0;34m.\u001b[0m\u001b[0mauto_collation\u001b[0m\u001b[0;34m:\u001b[0m\u001b[0;34m\u001b[0m\u001b[0;34m\u001b[0m\u001b[0m\n\u001b[0;32m---> 49\u001b[0;31m             \u001b[0mdata\u001b[0m \u001b[0;34m=\u001b[0m \u001b[0;34m[\u001b[0m\u001b[0mself\u001b[0m\u001b[0;34m.\u001b[0m\u001b[0mdataset\u001b[0m\u001b[0;34m[\u001b[0m\u001b[0midx\u001b[0m\u001b[0;34m]\u001b[0m \u001b[0;32mfor\u001b[0m \u001b[0midx\u001b[0m \u001b[0;32min\u001b[0m \u001b[0mpossibly_batched_index\u001b[0m\u001b[0;34m]\u001b[0m\u001b[0;34m\u001b[0m\u001b[0;34m\u001b[0m\u001b[0m\n\u001b[0m\u001b[1;32m     50\u001b[0m         \u001b[0;32melse\u001b[0m\u001b[0;34m:\u001b[0m\u001b[0;34m\u001b[0m\u001b[0;34m\u001b[0m\u001b[0m\n\u001b[1;32m     51\u001b[0m             \u001b[0mdata\u001b[0m \u001b[0;34m=\u001b[0m \u001b[0mself\u001b[0m\u001b[0;34m.\u001b[0m\u001b[0mdataset\u001b[0m\u001b[0;34m[\u001b[0m\u001b[0mpossibly_batched_index\u001b[0m\u001b[0;34m]\u001b[0m\u001b[0;34m\u001b[0m\u001b[0;34m\u001b[0m\u001b[0m\n",
            "\u001b[0;32m<ipython-input-16-b9a93dbc612e>\u001b[0m in \u001b[0;36m__getitem__\u001b[0;34m(self, index)\u001b[0m\n\u001b[1;32m    286\u001b[0m \u001b[0;34m\u001b[0m\u001b[0m\n\u001b[1;32m    287\u001b[0m   \u001b[0;32mdef\u001b[0m \u001b[0m__getitem__\u001b[0m\u001b[0;34m(\u001b[0m\u001b[0mself\u001b[0m\u001b[0;34m,\u001b[0m \u001b[0mindex\u001b[0m\u001b[0;34m)\u001b[0m\u001b[0;34m:\u001b[0m\u001b[0;34m\u001b[0m\u001b[0;34m\u001b[0m\u001b[0m\n\u001b[0;32m--> 288\u001b[0;31m       \u001b[0mitem\u001b[0m \u001b[0;34m=\u001b[0m \u001b[0mself\u001b[0m\u001b[0;34m.\u001b[0m\u001b[0mget_item\u001b[0m\u001b[0;34m(\u001b[0m\u001b[0mindex\u001b[0m\u001b[0;34m)\u001b[0m\u001b[0;34m\u001b[0m\u001b[0;34m\u001b[0m\u001b[0m\n\u001b[0m\u001b[1;32m    289\u001b[0m       \u001b[0;32mreturn\u001b[0m \u001b[0;34m(\u001b[0m\u001b[0;34m*\u001b[0m\u001b[0mitem\u001b[0m\u001b[0;34m,\u001b[0m\u001b[0mindex\u001b[0m\u001b[0;34m)\u001b[0m\u001b[0;34m\u001b[0m\u001b[0;34m\u001b[0m\u001b[0m\n\u001b[1;32m    290\u001b[0m \u001b[0;34m\u001b[0m\u001b[0m\n",
            "\u001b[0;32m<ipython-input-16-b9a93dbc612e>\u001b[0m in \u001b[0;36mget_item\u001b[0;34m(self, label_index)\u001b[0m\n\u001b[1;32m    269\u001b[0m                                                  high=self.max_years+1)\n\u001b[1;32m    270\u001b[0m \u001b[0;34m\u001b[0m\u001b[0m\n\u001b[0;32m--> 271\u001b[0;31m     \u001b[0mtime_array\u001b[0m\u001b[0;34m,\u001b[0m\u001b[0mmagnitude_array\u001b[0m \u001b[0;34m=\u001b[0m \u001b[0mself\u001b[0m\u001b[0;34m.\u001b[0m\u001b[0mRDRW_simulator\u001b[0m\u001b[0;34m(\u001b[0m\u001b[0;34m*\u001b[0m\u001b[0mlabels\u001b[0m\u001b[0;34m,\u001b[0m\u001b[0mduration\u001b[0m\u001b[0;34m=\u001b[0m\u001b[0mnum_observed_years\u001b[0m\u001b[0;34m)\u001b[0m\u001b[0;34m\u001b[0m\u001b[0;34m\u001b[0m\u001b[0m\n\u001b[0m\u001b[1;32m    272\u001b[0m \u001b[0;34m\u001b[0m\u001b[0m\n\u001b[1;32m    273\u001b[0m     \u001b[0mno_gaps_mask\u001b[0m \u001b[0;34m=\u001b[0m \u001b[0mself\u001b[0m\u001b[0;34m.\u001b[0m\u001b[0mget_no_gaps_masks\u001b[0m\u001b[0;34m(\u001b[0m\u001b[0mtime_array\u001b[0m\u001b[0;34m,\u001b[0m\u001b[0mnum_observed_years\u001b[0m\u001b[0;34m)\u001b[0m\u001b[0;34m\u001b[0m\u001b[0;34m\u001b[0m\u001b[0m\n",
            "\u001b[0;32m<ipython-input-16-b9a93dbc612e>\u001b[0m in \u001b[0;36m__call__\u001b[0;34m(self, Correlation_time, Reverberation_time, duration)\u001b[0m\n\u001b[1;32m    104\u001b[0m         \u001b[0;31m#start_t = time.time()\u001b[0m\u001b[0;34m\u001b[0m\u001b[0;34m\u001b[0m\u001b[0;34m\u001b[0m\u001b[0m\n\u001b[1;32m    105\u001b[0m \u001b[0;34m\u001b[0m\u001b[0m\n\u001b[0;32m--> 106\u001b[0;31m         \u001b[0mCholesky\u001b[0m \u001b[0;34m=\u001b[0m \u001b[0mnp\u001b[0m\u001b[0;34m.\u001b[0m\u001b[0masarray\u001b[0m\u001b[0;34m(\u001b[0m\u001b[0mjax_RDRW_Cholesky\u001b[0m\u001b[0;34m(\u001b[0m\u001b[0mtime_array\u001b[0m\u001b[0;34m,\u001b[0m \u001b[0mCorrelation_time\u001b[0m\u001b[0;34m,\u001b[0m\u001b[0mReverberation_time\u001b[0m\u001b[0;34m)\u001b[0m\u001b[0;34m)\u001b[0m\u001b[0;34m\u001b[0m\u001b[0;34m\u001b[0m\u001b[0m\n\u001b[0m\u001b[1;32m    107\u001b[0m         \u001b[0;31m#end_t = time.time()\u001b[0m\u001b[0;34m\u001b[0m\u001b[0;34m\u001b[0m\u001b[0;34m\u001b[0m\u001b[0m\n\u001b[1;32m    108\u001b[0m         \u001b[0;31m#print('Cholesky decomposition:',end_t-start_t)\u001b[0m\u001b[0;34m\u001b[0m\u001b[0;34m\u001b[0m\u001b[0;34m\u001b[0m\u001b[0m\n",
            "\u001b[0;32m/usr/local/lib/python3.7/dist-packages/jax/_src/api.py\u001b[0m in \u001b[0;36m_nan_check_posthook\u001b[0;34m(fun, args, kwargs, output)\u001b[0m\n\u001b[1;32m    125\u001b[0m \u001b[0;34m\u001b[0m\u001b[0m\n\u001b[1;32m    126\u001b[0m \u001b[0;34m\u001b[0m\u001b[0m\n\u001b[0;32m--> 127\u001b[0;31m \u001b[0;32mdef\u001b[0m \u001b[0m_nan_check_posthook\u001b[0m\u001b[0;34m(\u001b[0m\u001b[0mfun\u001b[0m\u001b[0;34m,\u001b[0m \u001b[0margs\u001b[0m\u001b[0;34m,\u001b[0m \u001b[0mkwargs\u001b[0m\u001b[0;34m,\u001b[0m \u001b[0moutput\u001b[0m\u001b[0;34m)\u001b[0m\u001b[0;34m:\u001b[0m\u001b[0;34m\u001b[0m\u001b[0;34m\u001b[0m\u001b[0m\n\u001b[0m\u001b[1;32m    128\u001b[0m   \u001b[0;34m\"\"\"Hook function called by the C++ jit/pmap to perform NaN checking.\"\"\"\u001b[0m\u001b[0;34m\u001b[0m\u001b[0;34m\u001b[0m\u001b[0m\n\u001b[1;32m    129\u001b[0m   \u001b[0mleaves\u001b[0m \u001b[0;34m=\u001b[0m \u001b[0mtree_leaves\u001b[0m\u001b[0;34m(\u001b[0m\u001b[0moutput\u001b[0m\u001b[0;34m)\u001b[0m\u001b[0;34m\u001b[0m\u001b[0;34m\u001b[0m\u001b[0m\n",
            "\u001b[0;31mKeyboardInterrupt\u001b[0m: "
          ]
        }
      ]
    },
    {
      "cell_type": "code",
      "source": [
        "model_dict = torch.load(log_dir+'%d_epoch.pth'%8)\n",
        "regressor.load_state_dict(model_dict['regressor'])\n",
        "train_loss_history = model_dict['train_loss_history']\n",
        "t_cov_history = model_dict['t_cov_history']\n",
        "t_rev_history = model_dict['t_rev_history']\n",
        "val_loss_history = model_dict['val_loss_history']\n",
        "learning_rate = model_dict['lr']"
      ],
      "metadata": {
        "id": "jG6g2JujMfZO"
      },
      "execution_count": 54,
      "outputs": []
    },
    {
      "cell_type": "code",
      "source": [
        "learning_rate = 5e-6"
      ],
      "metadata": {
        "id": "_fWDOhZHRo3X"
      },
      "execution_count": 55,
      "outputs": []
    },
    {
      "cell_type": "code",
      "source": [
        "# jax with 50% of gpu (same with 10% actually)\n",
        "for epoch in range(8,10):\n",
        "  train_epoch(log_dir,regressor,learning_rate,\n",
        "                train_loss_history,val_loss_history,\n",
        "                t_cov_history,t_rev_history,\n",
        "                report_iter = 200,epoch_num=epoch+1)"
      ],
      "metadata": {
        "colab": {
          "base_uri": "https://localhost:8080/"
        },
        "id": "tm6sDJlSRo8y",
        "outputId": "07b9e174-f17b-43e4-f4c2-b8ababd38be7"
      },
      "execution_count": 56,
      "outputs": [
        {
          "output_type": "stream",
          "name": "stderr",
          "text": [
            " 32%|███▏      | 200/625 [02:40<05:28,  1.29it/s]"
          ]
        },
        {
          "output_type": "stream",
          "name": "stdout",
          "text": [
            "Iter 200 loss=0.3218 t_cov_loss =0.4758 t_rev_loss = 0.1677\n"
          ]
        },
        {
          "output_type": "stream",
          "name": "stderr",
          "text": [
            " 64%|██████▍   | 400/625 [05:17<02:56,  1.27it/s]"
          ]
        },
        {
          "output_type": "stream",
          "name": "stdout",
          "text": [
            "Iter 400 loss=0.3274 t_cov_loss =0.4839 t_rev_loss = 0.1710\n"
          ]
        },
        {
          "output_type": "stream",
          "name": "stderr",
          "text": [
            " 96%|█████████▌| 600/625 [07:54<00:19,  1.28it/s]"
          ]
        },
        {
          "output_type": "stream",
          "name": "stdout",
          "text": [
            "Iter 600 loss=0.3204 t_cov_loss =0.4726 t_rev_loss = 0.1682\n"
          ]
        },
        {
          "output_type": "stream",
          "name": "stderr",
          "text": [
            "100%|██████████| 625/625 [08:14<00:00,  1.27it/s]\n",
            "100%|██████████| 78/78 [00:58<00:00,  1.33it/s]\n"
          ]
        },
        {
          "output_type": "stream",
          "name": "stdout",
          "text": [
            "Epoch 9, Train loss 0.3231 t_cov 0.4774 t_rev 0.1688, Val loss 0.3137\n"
          ]
        },
        {
          "output_type": "stream",
          "name": "stderr",
          "text": [
            " 32%|███▏      | 200/625 [02:36<05:31,  1.28it/s]"
          ]
        },
        {
          "output_type": "stream",
          "name": "stdout",
          "text": [
            "Iter 200 loss=0.3279 t_cov_loss =0.4889 t_rev_loss = 0.1669\n"
          ]
        },
        {
          "output_type": "stream",
          "name": "stderr",
          "text": [
            " 64%|██████▍   | 400/625 [05:14<02:52,  1.30it/s]"
          ]
        },
        {
          "output_type": "stream",
          "name": "stdout",
          "text": [
            "Iter 400 loss=0.3244 t_cov_loss =0.4802 t_rev_loss = 0.1687\n"
          ]
        },
        {
          "output_type": "stream",
          "name": "stderr",
          "text": [
            " 96%|█████████▌| 600/625 [07:51<00:19,  1.27it/s]"
          ]
        },
        {
          "output_type": "stream",
          "name": "stdout",
          "text": [
            "Iter 600 loss=0.3214 t_cov_loss =0.4768 t_rev_loss = 0.1661\n"
          ]
        },
        {
          "output_type": "stream",
          "name": "stderr",
          "text": [
            "100%|██████████| 625/625 [08:12<00:00,  1.27it/s]\n",
            "100%|██████████| 78/78 [00:58<00:00,  1.34it/s]"
          ]
        },
        {
          "output_type": "stream",
          "name": "stdout",
          "text": [
            "Epoch 10, Train loss 0.3243 t_cov 0.4812 t_rev 0.1674, Val loss 0.3106\n"
          ]
        },
        {
          "output_type": "stream",
          "name": "stderr",
          "text": [
            "\n"
          ]
        }
      ]
    },
    {
      "cell_type": "code",
      "source": [
        "model_dict = torch.load(log_dir+'%d_epoch.pth'%10)\n",
        "regressor.load_state_dict(model_dict['regressor'])\n",
        "train_loss_history = model_dict['train_loss_history']\n",
        "t_cov_history = model_dict['t_cov_history']\n",
        "t_rev_history = model_dict['t_rev_history']\n",
        "val_loss_history = model_dict['val_loss_history']\n",
        "learning_rate = model_dict['lr']"
      ],
      "metadata": {
        "id": "rGkWvI7SWTA7"
      },
      "execution_count": 58,
      "outputs": []
    },
    {
      "cell_type": "code",
      "source": [
        "Performance_array = np.empty(shape=(0,5))\n",
        "result = np.zeros((batch_size,5))\n",
        "\n",
        "for context_splines,out_labels  in tqdm(val_loader):\n",
        "  \n",
        "  context_splines = context_splines.to(device)\n",
        "  y = regressor(context_splines)\n",
        "  prediction = y * label_std + label_mean\n",
        "  truth = out_labels[:,2:]\n",
        "\n",
        "  num_years = (context_splines!=0).any(-1).sum(-1)\n",
        "\n",
        "  result[:,0] = num_years.cpu().numpy()\n",
        "  result[:,1:3] = truth.numpy()\n",
        "  result[:,3:5] = prediction.cpu().detach().numpy()\n",
        "\n",
        "  Performance_array = np.append(Performance_array,result,axis=0)"
      ],
      "metadata": {
        "colab": {
          "base_uri": "https://localhost:8080/"
        },
        "id": "KQa70PMzWc7K",
        "outputId": "9232f128-493a-4cb7-e2e7-8a9296fd5a1c"
      },
      "execution_count": 59,
      "outputs": [
        {
          "output_type": "stream",
          "name": "stderr",
          "text": [
            "100%|██████████| 78/78 [01:05<00:00,  1.19it/s]\n"
          ]
        }
      ]
    },
    {
      "cell_type": "code",
      "source": [
        "import pandas as pd\n",
        "df = pd.DataFrame(Performance_array,columns=['num years','true tau','true rho','pred tau','pred rho'])\n",
        "\n",
        "#df.to_csv(log_dir + 'Performance.csv')"
      ],
      "metadata": {
        "id": "UAO2ooh_Wgre"
      },
      "execution_count": 60,
      "outputs": []
    },
    {
      "cell_type": "code",
      "source": [
        "learning_rate_history = [1e-4]*6 + [5e-5]*1 + [1e-5]*1 + [5e-6]*2\n",
        "#np.savez(log_dir+'training_stats.npz',learning_rate_history = learning_rate_history,train_loss_history=np.array(train_loss_history),\n",
        "#         t_cov_history = np.array(t_cov_history),t_rev_history = np.array(t_rev_history),val_loss_history = np.array(val_loss_history))"
      ],
      "metadata": {
        "id": "GljiiDz8WgvK"
      },
      "execution_count": 61,
      "outputs": []
    },
    {
      "cell_type": "code",
      "source": [
        "# jax with 50% of gpu (same with 10% actually)\n",
        "for epoch in range(10,12):\n",
        "  train_epoch(log_dir,regressor,learning_rate,\n",
        "                train_loss_history,val_loss_history,\n",
        "                t_cov_history,t_rev_history,\n",
        "                report_iter = 200,epoch_num=epoch+1)"
      ],
      "metadata": {
        "colab": {
          "base_uri": "https://localhost:8080/"
        },
        "id": "urSapFooMfbn",
        "outputId": "eadec73b-35cb-4300-f8f0-8cf387e22e3d"
      },
      "execution_count": 62,
      "outputs": [
        {
          "output_type": "stream",
          "name": "stderr",
          "text": [
            " 32%|███▏      | 200/625 [02:37<05:24,  1.31it/s]"
          ]
        },
        {
          "output_type": "stream",
          "name": "stdout",
          "text": [
            "Iter 200 loss=0.3227 t_cov_loss =0.4794 t_rev_loss = 0.1660\n"
          ]
        },
        {
          "output_type": "stream",
          "name": "stderr",
          "text": [
            " 64%|██████▍   | 400/625 [05:13<02:55,  1.28it/s]"
          ]
        },
        {
          "output_type": "stream",
          "name": "stdout",
          "text": [
            "Iter 400 loss=0.3236 t_cov_loss =0.4795 t_rev_loss = 0.1678\n"
          ]
        },
        {
          "output_type": "stream",
          "name": "stderr",
          "text": [
            " 96%|█████████▌| 600/625 [07:53<00:19,  1.29it/s]"
          ]
        },
        {
          "output_type": "stream",
          "name": "stdout",
          "text": [
            "Iter 600 loss=0.3194 t_cov_loss =0.4720 t_rev_loss = 0.1668\n"
          ]
        },
        {
          "output_type": "stream",
          "name": "stderr",
          "text": [
            "100%|██████████| 625/625 [08:12<00:00,  1.27it/s]\n",
            "100%|██████████| 78/78 [00:59<00:00,  1.31it/s]\n"
          ]
        },
        {
          "output_type": "stream",
          "name": "stdout",
          "text": [
            "Epoch 11, Train loss 0.3215 t_cov 0.4763 t_rev 0.1667, Val loss 0.3195\n"
          ]
        },
        {
          "output_type": "stream",
          "name": "stderr",
          "text": [
            " 32%|███▏      | 200/625 [02:36<05:22,  1.32it/s]"
          ]
        },
        {
          "output_type": "stream",
          "name": "stdout",
          "text": [
            "Iter 200 loss=0.3212 t_cov_loss =0.4777 t_rev_loss = 0.1646\n"
          ]
        },
        {
          "output_type": "stream",
          "name": "stderr",
          "text": [
            " 64%|██████▍   | 400/625 [05:13<02:55,  1.28it/s]"
          ]
        },
        {
          "output_type": "stream",
          "name": "stdout",
          "text": [
            "Iter 400 loss=0.3207 t_cov_loss =0.4739 t_rev_loss = 0.1675\n"
          ]
        },
        {
          "output_type": "stream",
          "name": "stderr",
          "text": [
            " 96%|█████████▌| 600/625 [07:50<00:19,  1.28it/s]"
          ]
        },
        {
          "output_type": "stream",
          "name": "stdout",
          "text": [
            "Iter 600 loss=0.3206 t_cov_loss =0.4765 t_rev_loss = 0.1647\n"
          ]
        },
        {
          "output_type": "stream",
          "name": "stderr",
          "text": [
            "100%|██████████| 625/625 [08:10<00:00,  1.27it/s]\n",
            "100%|██████████| 78/78 [00:59<00:00,  1.31it/s]"
          ]
        },
        {
          "output_type": "stream",
          "name": "stdout",
          "text": [
            "Epoch 12, Train loss 0.3203 t_cov 0.4750 t_rev 0.1656, Val loss 0.3066\n"
          ]
        },
        {
          "output_type": "stream",
          "name": "stderr",
          "text": [
            "\n"
          ]
        }
      ]
    },
    {
      "cell_type": "code",
      "source": [
        "model_dict = torch.load(log_dir+'%d_epoch.pth'%12)\n",
        "regressor.load_state_dict(model_dict['regressor'])\n",
        "train_loss_history = model_dict['train_loss_history']\n",
        "t_cov_history = model_dict['t_cov_history']\n",
        "t_rev_history = model_dict['t_rev_history']\n",
        "val_loss_history = model_dict['val_loss_history']\n",
        "learning_rate = model_dict['lr']"
      ],
      "metadata": {
        "id": "Q9ta5YPDgptZ"
      },
      "execution_count": 64,
      "outputs": []
    },
    {
      "cell_type": "code",
      "source": [
        "learning_rate = 1e-6"
      ],
      "metadata": {
        "id": "lqSnVDYogsen"
      },
      "execution_count": 65,
      "outputs": []
    },
    {
      "cell_type": "code",
      "source": [
        "# jax with 50% of gpu (same with 10% actually)\n",
        "for epoch in range(12,15):\n",
        "  train_epoch(log_dir,regressor,learning_rate,\n",
        "                train_loss_history,val_loss_history,\n",
        "                t_cov_history,t_rev_history,\n",
        "                report_iter = 200,epoch_num=epoch+1)"
      ],
      "metadata": {
        "colab": {
          "base_uri": "https://localhost:8080/",
          "height": 460
        },
        "id": "AtEHL6oIxrRV",
        "outputId": "e995f7cb-337a-4869-b380-025b398ed1e4"
      },
      "execution_count": 66,
      "outputs": [
        {
          "output_type": "stream",
          "name": "stderr",
          "text": [
            " 32%|███▏      | 200/625 [02:42<05:31,  1.28it/s]"
          ]
        },
        {
          "output_type": "stream",
          "name": "stdout",
          "text": [
            "Iter 200 loss=0.3212 t_cov_loss =0.4758 t_rev_loss = 0.1665\n"
          ]
        },
        {
          "output_type": "stream",
          "name": "stderr",
          "text": [
            " 64%|██████▍   | 400/625 [05:20<02:58,  1.26it/s]"
          ]
        },
        {
          "output_type": "stream",
          "name": "stdout",
          "text": [
            "Iter 400 loss=0.3210 t_cov_loss =0.4756 t_rev_loss = 0.1664\n"
          ]
        },
        {
          "output_type": "stream",
          "name": "stderr",
          "text": [
            " 96%|█████████▌| 600/625 [07:59<00:19,  1.27it/s]"
          ]
        },
        {
          "output_type": "stream",
          "name": "stdout",
          "text": [
            "Iter 600 loss=0.3204 t_cov_loss =0.4747 t_rev_loss = 0.1661\n"
          ]
        },
        {
          "output_type": "stream",
          "name": "stderr",
          "text": [
            "100%|██████████| 625/625 [08:19<00:00,  1.25it/s]\n",
            "100%|██████████| 78/78 [00:57<00:00,  1.35it/s]\n"
          ]
        },
        {
          "output_type": "stream",
          "name": "stdout",
          "text": [
            "Epoch 13, Train loss 0.3207 t_cov 0.4752 t_rev 0.1661, Val loss 0.3097\n"
          ]
        },
        {
          "output_type": "stream",
          "name": "stderr",
          "text": [
            "  6%|▌         | 38/625 [00:31<07:59,  1.22it/s]\n"
          ]
        },
        {
          "output_type": "error",
          "ename": "KeyboardInterrupt",
          "evalue": "ignored",
          "traceback": [
            "\u001b[0;31m---------------------------------------------------------------------------\u001b[0m",
            "\u001b[0;31mKeyboardInterrupt\u001b[0m                         Traceback (most recent call last)",
            "\u001b[0;32m<ipython-input-66-3eeda0586f9b>\u001b[0m in \u001b[0;36m<module>\u001b[0;34m()\u001b[0m\n\u001b[1;32m      4\u001b[0m                 \u001b[0mtrain_loss_history\u001b[0m\u001b[0;34m,\u001b[0m\u001b[0mval_loss_history\u001b[0m\u001b[0;34m,\u001b[0m\u001b[0;34m\u001b[0m\u001b[0;34m\u001b[0m\u001b[0m\n\u001b[1;32m      5\u001b[0m                 \u001b[0mt_cov_history\u001b[0m\u001b[0;34m,\u001b[0m\u001b[0mt_rev_history\u001b[0m\u001b[0;34m,\u001b[0m\u001b[0;34m\u001b[0m\u001b[0;34m\u001b[0m\u001b[0m\n\u001b[0;32m----> 6\u001b[0;31m                 report_iter = 200,epoch_num=epoch+1)\n\u001b[0m",
            "\u001b[0;32m<ipython-input-37-17932109f3c3>\u001b[0m in \u001b[0;36mtrain_epoch\u001b[0;34m(log_dir, regressor, learning_rate, train_loss_history, val_loss_history, t_cov_history, t_rev_history, report_iter, epoch_num)\u001b[0m\n\u001b[1;32m     17\u001b[0m   \u001b[0mregressor\u001b[0m\u001b[0;34m.\u001b[0m\u001b[0mtrain\u001b[0m\u001b[0;34m(\u001b[0m\u001b[0;34m)\u001b[0m\u001b[0;34m\u001b[0m\u001b[0;34m\u001b[0m\u001b[0m\n\u001b[1;32m     18\u001b[0m \u001b[0;34m\u001b[0m\u001b[0m\n\u001b[0;32m---> 19\u001b[0;31m   \u001b[0;32mfor\u001b[0m \u001b[0mi\u001b[0m\u001b[0;34m,\u001b[0m\u001b[0;34m(\u001b[0m\u001b[0mcontext_splines\u001b[0m\u001b[0;34m,\u001b[0m\u001b[0mout_labels\u001b[0m\u001b[0;34m)\u001b[0m \u001b[0;32min\u001b[0m \u001b[0menumerate\u001b[0m\u001b[0;34m(\u001b[0m\u001b[0mtqdm\u001b[0m\u001b[0;34m(\u001b[0m\u001b[0mtrain_loader\u001b[0m\u001b[0;34m)\u001b[0m\u001b[0;34m)\u001b[0m\u001b[0;34m:\u001b[0m\u001b[0;34m\u001b[0m\u001b[0;34m\u001b[0m\u001b[0m\n\u001b[0m\u001b[1;32m     20\u001b[0m \u001b[0;34m\u001b[0m\u001b[0m\n\u001b[1;32m     21\u001b[0m \u001b[0;34m\u001b[0m\u001b[0m\n",
            "\u001b[0;32m/usr/local/lib/python3.7/dist-packages/tqdm/std.py\u001b[0m in \u001b[0;36m__iter__\u001b[0;34m(self)\u001b[0m\n\u001b[1;32m   1193\u001b[0m \u001b[0;34m\u001b[0m\u001b[0m\n\u001b[1;32m   1194\u001b[0m         \u001b[0;32mtry\u001b[0m\u001b[0;34m:\u001b[0m\u001b[0;34m\u001b[0m\u001b[0;34m\u001b[0m\u001b[0m\n\u001b[0;32m-> 1195\u001b[0;31m             \u001b[0;32mfor\u001b[0m \u001b[0mobj\u001b[0m \u001b[0;32min\u001b[0m \u001b[0miterable\u001b[0m\u001b[0;34m:\u001b[0m\u001b[0;34m\u001b[0m\u001b[0;34m\u001b[0m\u001b[0m\n\u001b[0m\u001b[1;32m   1196\u001b[0m                 \u001b[0;32myield\u001b[0m \u001b[0mobj\u001b[0m\u001b[0;34m\u001b[0m\u001b[0;34m\u001b[0m\u001b[0m\n\u001b[1;32m   1197\u001b[0m                 \u001b[0;31m# Update and possibly print the progressbar.\u001b[0m\u001b[0;34m\u001b[0m\u001b[0;34m\u001b[0m\u001b[0;34m\u001b[0m\u001b[0m\n",
            "\u001b[0;32m/usr/local/lib/python3.7/dist-packages/torch/utils/data/dataloader.py\u001b[0m in \u001b[0;36m__next__\u001b[0;34m(self)\u001b[0m\n\u001b[1;32m    679\u001b[0m                 \u001b[0;31m# TODO(https://github.com/pytorch/pytorch/issues/76750)\u001b[0m\u001b[0;34m\u001b[0m\u001b[0;34m\u001b[0m\u001b[0;34m\u001b[0m\u001b[0m\n\u001b[1;32m    680\u001b[0m                 \u001b[0mself\u001b[0m\u001b[0;34m.\u001b[0m\u001b[0m_reset\u001b[0m\u001b[0;34m(\u001b[0m\u001b[0;34m)\u001b[0m  \u001b[0;31m# type: ignore[call-arg]\u001b[0m\u001b[0;34m\u001b[0m\u001b[0;34m\u001b[0m\u001b[0m\n\u001b[0;32m--> 681\u001b[0;31m             \u001b[0mdata\u001b[0m \u001b[0;34m=\u001b[0m \u001b[0mself\u001b[0m\u001b[0;34m.\u001b[0m\u001b[0m_next_data\u001b[0m\u001b[0;34m(\u001b[0m\u001b[0;34m)\u001b[0m\u001b[0;34m\u001b[0m\u001b[0;34m\u001b[0m\u001b[0m\n\u001b[0m\u001b[1;32m    682\u001b[0m             \u001b[0mself\u001b[0m\u001b[0;34m.\u001b[0m\u001b[0m_num_yielded\u001b[0m \u001b[0;34m+=\u001b[0m \u001b[0;36m1\u001b[0m\u001b[0;34m\u001b[0m\u001b[0;34m\u001b[0m\u001b[0m\n\u001b[1;32m    683\u001b[0m             \u001b[0;32mif\u001b[0m \u001b[0mself\u001b[0m\u001b[0;34m.\u001b[0m\u001b[0m_dataset_kind\u001b[0m \u001b[0;34m==\u001b[0m \u001b[0m_DatasetKind\u001b[0m\u001b[0;34m.\u001b[0m\u001b[0mIterable\u001b[0m \u001b[0;32mand\u001b[0m\u001b[0;31m \u001b[0m\u001b[0;31m\\\u001b[0m\u001b[0;34m\u001b[0m\u001b[0;34m\u001b[0m\u001b[0m\n",
            "\u001b[0;32m/usr/local/lib/python3.7/dist-packages/torch/utils/data/dataloader.py\u001b[0m in \u001b[0;36m_next_data\u001b[0;34m(self)\u001b[0m\n\u001b[1;32m    719\u001b[0m     \u001b[0;32mdef\u001b[0m \u001b[0m_next_data\u001b[0m\u001b[0;34m(\u001b[0m\u001b[0mself\u001b[0m\u001b[0;34m)\u001b[0m\u001b[0;34m:\u001b[0m\u001b[0;34m\u001b[0m\u001b[0;34m\u001b[0m\u001b[0m\n\u001b[1;32m    720\u001b[0m         \u001b[0mindex\u001b[0m \u001b[0;34m=\u001b[0m \u001b[0mself\u001b[0m\u001b[0;34m.\u001b[0m\u001b[0m_next_index\u001b[0m\u001b[0;34m(\u001b[0m\u001b[0;34m)\u001b[0m  \u001b[0;31m# may raise StopIteration\u001b[0m\u001b[0;34m\u001b[0m\u001b[0;34m\u001b[0m\u001b[0m\n\u001b[0;32m--> 721\u001b[0;31m         \u001b[0mdata\u001b[0m \u001b[0;34m=\u001b[0m \u001b[0mself\u001b[0m\u001b[0;34m.\u001b[0m\u001b[0m_dataset_fetcher\u001b[0m\u001b[0;34m.\u001b[0m\u001b[0mfetch\u001b[0m\u001b[0;34m(\u001b[0m\u001b[0mindex\u001b[0m\u001b[0;34m)\u001b[0m  \u001b[0;31m# may raise StopIteration\u001b[0m\u001b[0;34m\u001b[0m\u001b[0;34m\u001b[0m\u001b[0m\n\u001b[0m\u001b[1;32m    722\u001b[0m         \u001b[0;32mif\u001b[0m \u001b[0mself\u001b[0m\u001b[0;34m.\u001b[0m\u001b[0m_pin_memory\u001b[0m\u001b[0;34m:\u001b[0m\u001b[0;34m\u001b[0m\u001b[0;34m\u001b[0m\u001b[0m\n\u001b[1;32m    723\u001b[0m             \u001b[0mdata\u001b[0m \u001b[0;34m=\u001b[0m \u001b[0m_utils\u001b[0m\u001b[0;34m.\u001b[0m\u001b[0mpin_memory\u001b[0m\u001b[0;34m.\u001b[0m\u001b[0mpin_memory\u001b[0m\u001b[0;34m(\u001b[0m\u001b[0mdata\u001b[0m\u001b[0;34m,\u001b[0m \u001b[0mself\u001b[0m\u001b[0;34m.\u001b[0m\u001b[0m_pin_memory_device\u001b[0m\u001b[0;34m)\u001b[0m\u001b[0;34m\u001b[0m\u001b[0;34m\u001b[0m\u001b[0m\n",
            "\u001b[0;32m/usr/local/lib/python3.7/dist-packages/torch/utils/data/_utils/fetch.py\u001b[0m in \u001b[0;36mfetch\u001b[0;34m(self, possibly_batched_index)\u001b[0m\n\u001b[1;32m     47\u001b[0m     \u001b[0;32mdef\u001b[0m \u001b[0mfetch\u001b[0m\u001b[0;34m(\u001b[0m\u001b[0mself\u001b[0m\u001b[0;34m,\u001b[0m \u001b[0mpossibly_batched_index\u001b[0m\u001b[0;34m)\u001b[0m\u001b[0;34m:\u001b[0m\u001b[0;34m\u001b[0m\u001b[0;34m\u001b[0m\u001b[0m\n\u001b[1;32m     48\u001b[0m         \u001b[0;32mif\u001b[0m \u001b[0mself\u001b[0m\u001b[0;34m.\u001b[0m\u001b[0mauto_collation\u001b[0m\u001b[0;34m:\u001b[0m\u001b[0;34m\u001b[0m\u001b[0;34m\u001b[0m\u001b[0m\n\u001b[0;32m---> 49\u001b[0;31m             \u001b[0mdata\u001b[0m \u001b[0;34m=\u001b[0m \u001b[0;34m[\u001b[0m\u001b[0mself\u001b[0m\u001b[0;34m.\u001b[0m\u001b[0mdataset\u001b[0m\u001b[0;34m[\u001b[0m\u001b[0midx\u001b[0m\u001b[0;34m]\u001b[0m \u001b[0;32mfor\u001b[0m \u001b[0midx\u001b[0m \u001b[0;32min\u001b[0m \u001b[0mpossibly_batched_index\u001b[0m\u001b[0;34m]\u001b[0m\u001b[0;34m\u001b[0m\u001b[0;34m\u001b[0m\u001b[0m\n\u001b[0m\u001b[1;32m     50\u001b[0m         \u001b[0;32melse\u001b[0m\u001b[0;34m:\u001b[0m\u001b[0;34m\u001b[0m\u001b[0;34m\u001b[0m\u001b[0m\n\u001b[1;32m     51\u001b[0m             \u001b[0mdata\u001b[0m \u001b[0;34m=\u001b[0m \u001b[0mself\u001b[0m\u001b[0;34m.\u001b[0m\u001b[0mdataset\u001b[0m\u001b[0;34m[\u001b[0m\u001b[0mpossibly_batched_index\u001b[0m\u001b[0;34m]\u001b[0m\u001b[0;34m\u001b[0m\u001b[0;34m\u001b[0m\u001b[0m\n",
            "\u001b[0;32m/usr/local/lib/python3.7/dist-packages/torch/utils/data/_utils/fetch.py\u001b[0m in \u001b[0;36m<listcomp>\u001b[0;34m(.0)\u001b[0m\n\u001b[1;32m     47\u001b[0m     \u001b[0;32mdef\u001b[0m \u001b[0mfetch\u001b[0m\u001b[0;34m(\u001b[0m\u001b[0mself\u001b[0m\u001b[0;34m,\u001b[0m \u001b[0mpossibly_batched_index\u001b[0m\u001b[0;34m)\u001b[0m\u001b[0;34m:\u001b[0m\u001b[0;34m\u001b[0m\u001b[0;34m\u001b[0m\u001b[0m\n\u001b[1;32m     48\u001b[0m         \u001b[0;32mif\u001b[0m \u001b[0mself\u001b[0m\u001b[0;34m.\u001b[0m\u001b[0mauto_collation\u001b[0m\u001b[0;34m:\u001b[0m\u001b[0;34m\u001b[0m\u001b[0;34m\u001b[0m\u001b[0m\n\u001b[0;32m---> 49\u001b[0;31m             \u001b[0mdata\u001b[0m \u001b[0;34m=\u001b[0m \u001b[0;34m[\u001b[0m\u001b[0mself\u001b[0m\u001b[0;34m.\u001b[0m\u001b[0mdataset\u001b[0m\u001b[0;34m[\u001b[0m\u001b[0midx\u001b[0m\u001b[0;34m]\u001b[0m \u001b[0;32mfor\u001b[0m \u001b[0midx\u001b[0m \u001b[0;32min\u001b[0m \u001b[0mpossibly_batched_index\u001b[0m\u001b[0;34m]\u001b[0m\u001b[0;34m\u001b[0m\u001b[0;34m\u001b[0m\u001b[0m\n\u001b[0m\u001b[1;32m     50\u001b[0m         \u001b[0;32melse\u001b[0m\u001b[0;34m:\u001b[0m\u001b[0;34m\u001b[0m\u001b[0;34m\u001b[0m\u001b[0m\n\u001b[1;32m     51\u001b[0m             \u001b[0mdata\u001b[0m \u001b[0;34m=\u001b[0m \u001b[0mself\u001b[0m\u001b[0;34m.\u001b[0m\u001b[0mdataset\u001b[0m\u001b[0;34m[\u001b[0m\u001b[0mpossibly_batched_index\u001b[0m\u001b[0;34m]\u001b[0m\u001b[0;34m\u001b[0m\u001b[0;34m\u001b[0m\u001b[0m\n",
            "\u001b[0;32m<ipython-input-16-b9a93dbc612e>\u001b[0m in \u001b[0;36m__getitem__\u001b[0;34m(self, index)\u001b[0m\n\u001b[1;32m    286\u001b[0m \u001b[0;34m\u001b[0m\u001b[0m\n\u001b[1;32m    287\u001b[0m   \u001b[0;32mdef\u001b[0m \u001b[0m__getitem__\u001b[0m\u001b[0;34m(\u001b[0m\u001b[0mself\u001b[0m\u001b[0;34m,\u001b[0m \u001b[0mindex\u001b[0m\u001b[0;34m)\u001b[0m\u001b[0;34m:\u001b[0m\u001b[0;34m\u001b[0m\u001b[0;34m\u001b[0m\u001b[0m\n\u001b[0;32m--> 288\u001b[0;31m       \u001b[0mitem\u001b[0m \u001b[0;34m=\u001b[0m \u001b[0mself\u001b[0m\u001b[0;34m.\u001b[0m\u001b[0mget_item\u001b[0m\u001b[0;34m(\u001b[0m\u001b[0mindex\u001b[0m\u001b[0;34m)\u001b[0m\u001b[0;34m\u001b[0m\u001b[0;34m\u001b[0m\u001b[0m\n\u001b[0m\u001b[1;32m    289\u001b[0m       \u001b[0;32mreturn\u001b[0m \u001b[0;34m(\u001b[0m\u001b[0;34m*\u001b[0m\u001b[0mitem\u001b[0m\u001b[0;34m,\u001b[0m\u001b[0mindex\u001b[0m\u001b[0;34m)\u001b[0m\u001b[0;34m\u001b[0m\u001b[0;34m\u001b[0m\u001b[0m\n\u001b[1;32m    290\u001b[0m \u001b[0;34m\u001b[0m\u001b[0m\n",
            "\u001b[0;32m<ipython-input-16-b9a93dbc612e>\u001b[0m in \u001b[0;36mget_item\u001b[0;34m(self, label_index)\u001b[0m\n\u001b[1;32m    269\u001b[0m                                                  high=self.max_years+1)\n\u001b[1;32m    270\u001b[0m \u001b[0;34m\u001b[0m\u001b[0m\n\u001b[0;32m--> 271\u001b[0;31m     \u001b[0mtime_array\u001b[0m\u001b[0;34m,\u001b[0m\u001b[0mmagnitude_array\u001b[0m \u001b[0;34m=\u001b[0m \u001b[0mself\u001b[0m\u001b[0;34m.\u001b[0m\u001b[0mRDRW_simulator\u001b[0m\u001b[0;34m(\u001b[0m\u001b[0;34m*\u001b[0m\u001b[0mlabels\u001b[0m\u001b[0;34m,\u001b[0m\u001b[0mduration\u001b[0m\u001b[0;34m=\u001b[0m\u001b[0mnum_observed_years\u001b[0m\u001b[0;34m)\u001b[0m\u001b[0;34m\u001b[0m\u001b[0;34m\u001b[0m\u001b[0m\n\u001b[0m\u001b[1;32m    272\u001b[0m \u001b[0;34m\u001b[0m\u001b[0m\n\u001b[1;32m    273\u001b[0m     \u001b[0mno_gaps_mask\u001b[0m \u001b[0;34m=\u001b[0m \u001b[0mself\u001b[0m\u001b[0;34m.\u001b[0m\u001b[0mget_no_gaps_masks\u001b[0m\u001b[0;34m(\u001b[0m\u001b[0mtime_array\u001b[0m\u001b[0;34m,\u001b[0m\u001b[0mnum_observed_years\u001b[0m\u001b[0;34m)\u001b[0m\u001b[0;34m\u001b[0m\u001b[0;34m\u001b[0m\u001b[0m\n",
            "\u001b[0;32m<ipython-input-16-b9a93dbc612e>\u001b[0m in \u001b[0;36m__call__\u001b[0;34m(self, Correlation_time, Reverberation_time, duration)\u001b[0m\n\u001b[1;32m    114\u001b[0m \u001b[0;34m\u001b[0m\u001b[0m\n\u001b[1;32m    115\u001b[0m         \u001b[0;31m#start_t = time.time()\u001b[0m\u001b[0;34m\u001b[0m\u001b[0;34m\u001b[0m\u001b[0;34m\u001b[0m\u001b[0m\n\u001b[0;32m--> 116\u001b[0;31m         \u001b[0mmagnitude\u001b[0m \u001b[0;34m=\u001b[0m \u001b[0mCholesky\u001b[0m \u001b[0;34m@\u001b[0m \u001b[0mmagnitude_noise\u001b[0m\u001b[0;34m\u001b[0m\u001b[0;34m\u001b[0m\u001b[0m\n\u001b[0m\u001b[1;32m    117\u001b[0m         \u001b[0;31m#end_t = time.time()\u001b[0m\u001b[0;34m\u001b[0m\u001b[0;34m\u001b[0m\u001b[0;34m\u001b[0m\u001b[0m\n\u001b[1;32m    118\u001b[0m         \u001b[0;31m#print('Matrix multiplication:',end_t-start_t)\u001b[0m\u001b[0;34m\u001b[0m\u001b[0;34m\u001b[0m\u001b[0;34m\u001b[0m\u001b[0m\n",
            "\u001b[0;31mKeyboardInterrupt\u001b[0m: "
          ]
        }
      ]
    },
    {
      "cell_type": "code",
      "source": [
        "model_dict = torch.load(log_dir+'%d_epoch.pth'%12)\n",
        "regressor.load_state_dict(model_dict['regressor'])\n",
        "train_loss_history = model_dict['train_loss_history']\n",
        "t_cov_history = model_dict['t_cov_history']\n",
        "t_rev_history = model_dict['t_rev_history']\n",
        "val_loss_history = model_dict['val_loss_history']\n",
        "learning_rate = model_dict['lr']"
      ],
      "metadata": {
        "id": "3LOQ6_nSjEPu"
      },
      "execution_count": 67,
      "outputs": []
    },
    {
      "cell_type": "code",
      "source": [
        "Performance_array = np.empty(shape=(0,5))\n",
        "result = np.zeros((batch_size,5))\n",
        "\n",
        "for context_splines,out_labels  in tqdm(test_loader):\n",
        "  \n",
        "  context_splines = context_splines.to(device)\n",
        "  y = regressor(context_splines)\n",
        "  prediction = y * label_std + label_mean\n",
        "  truth = out_labels[:,2:]\n",
        "\n",
        "  num_years = (context_splines!=0).any(-1).sum(-1)\n",
        "\n",
        "  result[:,0] = num_years.cpu().numpy()\n",
        "  result[:,1:3] = truth.numpy()\n",
        "  result[:,3:5] = prediction.cpu().detach().numpy()\n",
        "\n",
        "  Performance_array = np.append(Performance_array,result,axis=0)"
      ],
      "metadata": {
        "colab": {
          "base_uri": "https://localhost:8080/"
        },
        "id": "ftQPCRK_eaZn",
        "outputId": "03367e94-38e7-498f-b7a1-fb4c9e278265"
      },
      "execution_count": 68,
      "outputs": [
        {
          "output_type": "stream",
          "name": "stderr",
          "text": [
            "100%|██████████| 78/78 [01:07<00:00,  1.15it/s]\n"
          ]
        }
      ]
    },
    {
      "cell_type": "code",
      "source": [
        "import pandas as pd\n",
        "df = pd.DataFrame(Performance_array,columns=['num years','true tau','true rho','pred tau','pred rho'])\n",
        "\n",
        "df.to_csv(log_dir + 'Performance.csv')"
      ],
      "metadata": {
        "id": "t32w5CvpjI7j"
      },
      "execution_count": 69,
      "outputs": []
    },
    {
      "cell_type": "code",
      "source": [
        "learning_rate_history = [1e-4]*6 + [5e-5]*1 + [1e-5]*1 + [5e-6]*4\n",
        "np.savez(log_dir+'training_stats.npz',learning_rate_history = learning_rate_history,train_loss_history=np.array(train_loss_history),\n",
        "         t_cov_history = np.array(t_cov_history),t_rev_history = np.array(t_rev_history),val_loss_history = np.array(val_loss_history))"
      ],
      "metadata": {
        "id": "1NtJm1bajI_7"
      },
      "execution_count": 70,
      "outputs": []
    },
    {
      "cell_type": "code",
      "source": [
        ""
      ],
      "metadata": {
        "id": "tJKo1oq7ead4"
      },
      "execution_count": null,
      "outputs": []
    },
    {
      "cell_type": "markdown",
      "metadata": {
        "id": "pQwwx0sdFoxa"
      },
      "source": [
        "## 64 LDE clusters, 64 features (like in LDE paper) + intermediate_linear for 64 lr 1e-4\n",
        "\n",
        "\n"
      ]
    },
    {
      "cell_type": "code",
      "execution_count": 38,
      "metadata": {
        "id": "Fl8nFlLOFqwe"
      },
      "outputs": [],
      "source": [
        "log_dir= Folder+'Neural_Networks/VGG_LDE_Regressor/checkpoints_stochastic_10_years/0_0001_lr_conv_64_64_128_128_256_256_proj_64_64_clusters_dopout_0_inter_linear_64/'\n",
        "learning_rate = 1e-4\n",
        "\n",
        "train_loss_history = []\n",
        "val_loss_history = []\n",
        "t_cov_history = []\n",
        "t_rev_history = []"
      ]
    },
    {
      "cell_type": "code",
      "execution_count": 39,
      "metadata": {
        "colab": {
          "base_uri": "https://localhost:8080/"
        },
        "id": "WdshM3FHF65F",
        "outputId": "18116371-11c1-4944-8243-e5a507ed612a"
      },
      "outputs": [
        {
          "output_type": "stream",
          "name": "stderr",
          "text": [
            " 32%|███▏      | 200/625 [02:36<05:24,  1.31it/s]"
          ]
        },
        {
          "output_type": "stream",
          "name": "stdout",
          "text": [
            "Iter 200 loss=0.7280 t_cov_loss =0.6332 t_rev_loss = 0.8228\n"
          ]
        },
        {
          "output_type": "stream",
          "name": "stderr",
          "text": [
            " 64%|██████▍   | 400/625 [05:11<02:52,  1.30it/s]"
          ]
        },
        {
          "output_type": "stream",
          "name": "stdout",
          "text": [
            "Iter 400 loss=0.6266 t_cov_loss =0.5771 t_rev_loss = 0.6761\n"
          ]
        },
        {
          "output_type": "stream",
          "name": "stderr",
          "text": [
            " 96%|█████████▌| 600/625 [07:45<00:19,  1.30it/s]"
          ]
        },
        {
          "output_type": "stream",
          "name": "stdout",
          "text": [
            "Iter 600 loss=0.5647 t_cov_loss =0.5610 t_rev_loss = 0.5684\n"
          ]
        },
        {
          "output_type": "stream",
          "name": "stderr",
          "text": [
            "100%|██████████| 625/625 [08:04<00:00,  1.29it/s]\n",
            "100%|██████████| 78/78 [00:57<00:00,  1.35it/s]\n"
          ]
        },
        {
          "output_type": "stream",
          "name": "stdout",
          "text": [
            "Epoch 1, Train loss 0.6350 t_cov 0.5882 t_rev 0.6818, Val loss 0.5351\n"
          ]
        },
        {
          "output_type": "stream",
          "name": "stderr",
          "text": [
            " 32%|███▏      | 200/625 [02:34<05:33,  1.27it/s]"
          ]
        },
        {
          "output_type": "stream",
          "name": "stdout",
          "text": [
            "Iter 200 loss=0.5037 t_cov_loss =0.5494 t_rev_loss = 0.4579\n"
          ]
        },
        {
          "output_type": "stream",
          "name": "stderr",
          "text": [
            " 64%|██████▍   | 400/625 [05:10<02:52,  1.30it/s]"
          ]
        },
        {
          "output_type": "stream",
          "name": "stdout",
          "text": [
            "Iter 400 loss=0.4705 t_cov_loss =0.5460 t_rev_loss = 0.3949\n"
          ]
        },
        {
          "output_type": "stream",
          "name": "stderr",
          "text": [
            " 96%|█████████▌| 600/625 [07:45<00:18,  1.32it/s]"
          ]
        },
        {
          "output_type": "stream",
          "name": "stdout",
          "text": [
            "Iter 600 loss=0.4334 t_cov_loss =0.5218 t_rev_loss = 0.3450\n"
          ]
        },
        {
          "output_type": "stream",
          "name": "stderr",
          "text": [
            "100%|██████████| 625/625 [08:04<00:00,  1.29it/s]\n",
            "100%|██████████| 78/78 [00:58<00:00,  1.32it/s]\n"
          ]
        },
        {
          "output_type": "stream",
          "name": "stdout",
          "text": [
            "Epoch 2, Train loss 0.4666 t_cov 0.5377 t_rev 0.3955, Val loss 0.4162\n"
          ]
        },
        {
          "output_type": "stream",
          "name": "stderr",
          "text": [
            " 32%|███▏      | 200/625 [02:34<05:22,  1.32it/s]"
          ]
        },
        {
          "output_type": "stream",
          "name": "stdout",
          "text": [
            "Iter 200 loss=0.4217 t_cov_loss =0.5298 t_rev_loss = 0.3136\n"
          ]
        },
        {
          "output_type": "stream",
          "name": "stderr",
          "text": [
            " 64%|██████▍   | 400/625 [05:09<02:53,  1.29it/s]"
          ]
        },
        {
          "output_type": "stream",
          "name": "stdout",
          "text": [
            "Iter 400 loss=0.4022 t_cov_loss =0.5187 t_rev_loss = 0.2857\n"
          ]
        },
        {
          "output_type": "stream",
          "name": "stderr",
          "text": [
            " 96%|█████████▌| 600/625 [07:44<00:19,  1.30it/s]"
          ]
        },
        {
          "output_type": "stream",
          "name": "stdout",
          "text": [
            "Iter 600 loss=0.3858 t_cov_loss =0.5087 t_rev_loss = 0.2628\n"
          ]
        },
        {
          "output_type": "stream",
          "name": "stderr",
          "text": [
            "100%|██████████| 625/625 [08:04<00:00,  1.29it/s]\n",
            "100%|██████████| 78/78 [00:58<00:00,  1.33it/s]\n"
          ]
        },
        {
          "output_type": "stream",
          "name": "stdout",
          "text": [
            "Epoch 3, Train loss 0.4017 t_cov 0.5173 t_rev 0.2862, Val loss 0.4195\n"
          ]
        },
        {
          "output_type": "stream",
          "name": "stderr",
          "text": [
            " 32%|███▏      | 200/625 [02:37<05:30,  1.29it/s]"
          ]
        },
        {
          "output_type": "stream",
          "name": "stdout",
          "text": [
            "Iter 200 loss=0.3794 t_cov_loss =0.5086 t_rev_loss = 0.2501\n"
          ]
        },
        {
          "output_type": "stream",
          "name": "stderr",
          "text": [
            " 64%|██████▍   | 400/625 [05:12<03:22,  1.11it/s]"
          ]
        },
        {
          "output_type": "stream",
          "name": "stdout",
          "text": [
            "Iter 400 loss=0.3696 t_cov_loss =0.5047 t_rev_loss = 0.2346\n"
          ]
        },
        {
          "output_type": "stream",
          "name": "stderr",
          "text": [
            " 96%|█████████▌| 600/625 [07:46<00:18,  1.32it/s]"
          ]
        },
        {
          "output_type": "stream",
          "name": "stdout",
          "text": [
            "Iter 600 loss=0.3574 t_cov_loss =0.4923 t_rev_loss = 0.2225\n"
          ]
        },
        {
          "output_type": "stream",
          "name": "stderr",
          "text": [
            "100%|██████████| 625/625 [08:05<00:00,  1.29it/s]\n",
            "100%|██████████| 78/78 [00:58<00:00,  1.34it/s]\n"
          ]
        },
        {
          "output_type": "stream",
          "name": "stdout",
          "text": [
            "Epoch 4, Train loss 0.3681 t_cov 0.5014 t_rev 0.2348, Val loss 0.3549\n"
          ]
        },
        {
          "output_type": "stream",
          "name": "stderr",
          "text": [
            " 32%|███▏      | 200/625 [02:35<06:47,  1.04it/s]"
          ]
        },
        {
          "output_type": "stream",
          "name": "stdout",
          "text": [
            "Iter 200 loss=0.3621 t_cov_loss =0.5032 t_rev_loss = 0.2209\n"
          ]
        },
        {
          "output_type": "stream",
          "name": "stderr",
          "text": [
            " 64%|██████▍   | 400/625 [05:10<02:51,  1.31it/s]"
          ]
        },
        {
          "output_type": "stream",
          "name": "stdout",
          "text": [
            "Iter 400 loss=0.3565 t_cov_loss =0.5046 t_rev_loss = 0.2085\n"
          ]
        },
        {
          "output_type": "stream",
          "name": "stderr",
          "text": [
            " 96%|█████████▌| 600/625 [07:45<00:19,  1.31it/s]"
          ]
        },
        {
          "output_type": "stream",
          "name": "stdout",
          "text": [
            "Iter 600 loss=0.3461 t_cov_loss =0.4904 t_rev_loss = 0.2018\n"
          ]
        },
        {
          "output_type": "stream",
          "name": "stderr",
          "text": [
            "100%|██████████| 625/625 [08:04<00:00,  1.29it/s]\n",
            "100%|██████████| 78/78 [00:57<00:00,  1.36it/s]\n"
          ]
        },
        {
          "output_type": "stream",
          "name": "stdout",
          "text": [
            "Epoch 5, Train loss 0.3542 t_cov 0.4989 t_rev 0.2095, Val loss 0.3378\n"
          ]
        },
        {
          "output_type": "stream",
          "name": "stderr",
          "text": [
            " 32%|███▏      | 200/625 [02:35<05:30,  1.28it/s]"
          ]
        },
        {
          "output_type": "stream",
          "name": "stdout",
          "text": [
            "Iter 200 loss=0.3470 t_cov_loss =0.4973 t_rev_loss = 0.1966\n"
          ]
        },
        {
          "output_type": "stream",
          "name": "stderr",
          "text": [
            " 64%|██████▍   | 400/625 [05:10<02:52,  1.31it/s]"
          ]
        },
        {
          "output_type": "stream",
          "name": "stdout",
          "text": [
            "Iter 400 loss=0.3401 t_cov_loss =0.4889 t_rev_loss = 0.1913\n"
          ]
        },
        {
          "output_type": "stream",
          "name": "stderr",
          "text": [
            " 96%|█████████▌| 600/625 [07:44<00:19,  1.30it/s]"
          ]
        },
        {
          "output_type": "stream",
          "name": "stdout",
          "text": [
            "Iter 600 loss=0.3380 t_cov_loss =0.4906 t_rev_loss = 0.1854\n"
          ]
        },
        {
          "output_type": "stream",
          "name": "stderr",
          "text": [
            "100%|██████████| 625/625 [08:04<00:00,  1.29it/s]\n",
            "100%|██████████| 78/78 [01:03<00:00,  1.23it/s]"
          ]
        },
        {
          "output_type": "stream",
          "name": "stdout",
          "text": [
            "Epoch 6, Train loss 0.3410 t_cov 0.4913 t_rev 0.1907, Val loss 0.3838\n"
          ]
        },
        {
          "output_type": "stream",
          "name": "stderr",
          "text": [
            "\n"
          ]
        }
      ],
      "source": [
        "# jax with 50% of gpu (same with 10% actually)\n",
        "for epoch in range(0,6):\n",
        "  train_epoch(log_dir,regressor,learning_rate,\n",
        "                train_loss_history,val_loss_history,\n",
        "                t_cov_history,t_rev_history,\n",
        "                report_iter = 200,epoch_num=epoch+1)"
      ]
    },
    {
      "cell_type": "code",
      "source": [
        "learning_rate = 5e-5"
      ],
      "metadata": {
        "id": "RO1oB4maoglc"
      },
      "execution_count": 40,
      "outputs": []
    },
    {
      "cell_type": "code",
      "source": [
        "# jax with 50% of gpu (same with 10% actually)\n",
        "for epoch in range(6,10):\n",
        "  train_epoch(log_dir,regressor,learning_rate,\n",
        "                train_loss_history,val_loss_history,\n",
        "                t_cov_history,t_rev_history,\n",
        "                report_iter = 200,epoch_num=epoch+1)"
      ],
      "metadata": {
        "colab": {
          "base_uri": "https://localhost:8080/"
        },
        "id": "6WGdinfooQX7",
        "outputId": "04601761-3642-4925-f04a-31e7b397b483"
      },
      "execution_count": 41,
      "outputs": [
        {
          "metadata": {
            "tags": null
          },
          "name": "stderr",
          "output_type": "stream",
          "text": [
            " 32%|███▏      | 200/625 [02:37<05:27,  1.30it/s]"
          ]
        },
        {
          "metadata": {
            "tags": null
          },
          "name": "stdout",
          "output_type": "stream",
          "text": [
            "Iter 200 loss=0.3333 t_cov_loss =0.4890 t_rev_loss = 0.1775\n"
          ]
        },
        {
          "metadata": {
            "tags": null
          },
          "name": "stderr",
          "output_type": "stream",
          "text": [
            " 64%|██████▍   | 400/625 [05:12<02:51,  1.31it/s]"
          ]
        },
        {
          "metadata": {
            "tags": null
          },
          "name": "stdout",
          "output_type": "stream",
          "text": [
            "Iter 400 loss=0.3301 t_cov_loss =0.4884 t_rev_loss = 0.1718\n"
          ]
        },
        {
          "metadata": {
            "tags": null
          },
          "name": "stderr",
          "output_type": "stream",
          "text": [
            " 96%|█████████▌| 600/625 [07:47<00:18,  1.32it/s]"
          ]
        },
        {
          "metadata": {
            "tags": null
          },
          "name": "stdout",
          "output_type": "stream",
          "text": [
            "Iter 600 loss=0.3251 t_cov_loss =0.4805 t_rev_loss = 0.1696\n"
          ]
        },
        {
          "metadata": {
            "tags": null
          },
          "name": "stderr",
          "output_type": "stream",
          "text": [
            "100%|██████████| 625/625 [08:07<00:00,  1.28it/s]\n",
            "100%|██████████| 78/78 [00:57<00:00,  1.36it/s]\n"
          ]
        },
        {
          "metadata": {
            "tags": null
          },
          "name": "stdout",
          "output_type": "stream",
          "text": [
            "Epoch 7, Train loss 0.3289 t_cov 0.4852 t_rev 0.1726, Val loss 0.3472\n"
          ]
        },
        {
          "metadata": {
            "tags": null
          },
          "name": "stderr",
          "output_type": "stream",
          "text": [
            " 32%|███▏      | 200/625 [02:36<05:26,  1.30it/s]"
          ]
        },
        {
          "metadata": {
            "tags": null
          },
          "name": "stdout",
          "output_type": "stream",
          "text": [
            "Iter 200 loss=0.3250 t_cov_loss =0.4815 t_rev_loss = 0.1686\n"
          ]
        },
        {
          "metadata": {
            "tags": null
          },
          "name": "stderr",
          "output_type": "stream",
          "text": [
            " 64%|██████▍   | 400/625 [05:10<02:53,  1.30it/s]"
          ]
        },
        {
          "metadata": {
            "tags": null
          },
          "name": "stdout",
          "output_type": "stream",
          "text": [
            "Iter 400 loss=0.3248 t_cov_loss =0.4828 t_rev_loss = 0.1668\n"
          ]
        },
        {
          "metadata": {
            "tags": null
          },
          "name": "stderr",
          "output_type": "stream",
          "text": [
            " 96%|█████████▌| 600/625 [07:45<00:19,  1.31it/s]"
          ]
        },
        {
          "metadata": {
            "tags": null
          },
          "name": "stdout",
          "output_type": "stream",
          "text": [
            "Iter 600 loss=0.3246 t_cov_loss =0.4851 t_rev_loss = 0.1642\n"
          ]
        },
        {
          "metadata": {
            "tags": null
          },
          "name": "stderr",
          "output_type": "stream",
          "text": [
            "100%|██████████| 625/625 [08:04<00:00,  1.29it/s]\n",
            "100%|██████████| 78/78 [00:58<00:00,  1.34it/s]\n"
          ]
        },
        {
          "metadata": {
            "tags": null
          },
          "name": "stdout",
          "output_type": "stream",
          "text": [
            "Epoch 8, Train loss 0.3239 t_cov 0.4818 t_rev 0.1661, Val loss 0.3178\n"
          ]
        },
        {
          "metadata": {
            "tags": null
          },
          "name": "stderr",
          "output_type": "stream",
          "text": [
            " 32%|███▏      | 200/625 [02:34<05:27,  1.30it/s]"
          ]
        },
        {
          "metadata": {
            "tags": null
          },
          "name": "stdout",
          "output_type": "stream",
          "text": [
            "Iter 200 loss=0.3202 t_cov_loss =0.4802 t_rev_loss = 0.1603\n"
          ]
        },
        {
          "metadata": {
            "tags": null
          },
          "name": "stderr",
          "output_type": "stream",
          "text": [
            " 64%|██████▍   | 400/625 [05:07<02:52,  1.31it/s]"
          ]
        },
        {
          "metadata": {
            "tags": null
          },
          "name": "stdout",
          "output_type": "stream",
          "text": [
            "Iter 400 loss=0.3222 t_cov_loss =0.4821 t_rev_loss = 0.1623\n"
          ]
        },
        {
          "metadata": {
            "tags": null
          },
          "name": "stderr",
          "output_type": "stream",
          "text": [
            " 96%|█████████▌| 600/625 [07:40<00:21,  1.16it/s]"
          ]
        },
        {
          "metadata": {
            "tags": null
          },
          "name": "stdout",
          "output_type": "stream",
          "text": [
            "Iter 600 loss=0.3163 t_cov_loss =0.4753 t_rev_loss = 0.1573\n"
          ]
        },
        {
          "metadata": {
            "tags": null
          },
          "name": "stderr",
          "output_type": "stream",
          "text": [
            "100%|██████████| 625/625 [08:00<00:00,  1.30it/s]\n",
            "100%|██████████| 78/78 [00:58<00:00,  1.34it/s]\n"
          ]
        },
        {
          "metadata": {
            "tags": null
          },
          "name": "stdout",
          "output_type": "stream",
          "text": [
            "Epoch 9, Train loss 0.3191 t_cov 0.4784 t_rev 0.1598, Val loss 0.3257\n"
          ]
        },
        {
          "output_type": "stream",
          "name": "stderr",
          "text": [
            " 32%|███▏      | 200/625 [02:35<05:22,  1.32it/s]"
          ]
        },
        {
          "output_type": "stream",
          "name": "stdout",
          "text": [
            "Iter 200 loss=0.3221 t_cov_loss =0.4858 t_rev_loss = 0.1584\n"
          ]
        },
        {
          "output_type": "stream",
          "name": "stderr",
          "text": [
            " 64%|██████▍   | 400/625 [05:10<02:57,  1.26it/s]"
          ]
        },
        {
          "output_type": "stream",
          "name": "stdout",
          "text": [
            "Iter 400 loss=0.3185 t_cov_loss =0.4798 t_rev_loss = 0.1573\n"
          ]
        },
        {
          "output_type": "stream",
          "name": "stderr",
          "text": [
            " 96%|█████████▌| 600/625 [07:44<00:18,  1.33it/s]"
          ]
        },
        {
          "output_type": "stream",
          "name": "stdout",
          "text": [
            "Iter 600 loss=0.3179 t_cov_loss =0.4811 t_rev_loss = 0.1547\n"
          ]
        },
        {
          "output_type": "stream",
          "name": "stderr",
          "text": [
            "100%|██████████| 625/625 [08:03<00:00,  1.29it/s]\n",
            "100%|██████████| 78/78 [00:57<00:00,  1.36it/s]"
          ]
        },
        {
          "output_type": "stream",
          "name": "stdout",
          "text": [
            "Epoch 10, Train loss 0.3191 t_cov 0.4817 t_rev 0.1564, Val loss 0.3081\n"
          ]
        },
        {
          "output_type": "stream",
          "name": "stderr",
          "text": [
            "\n"
          ]
        }
      ]
    },
    {
      "cell_type": "code",
      "source": [
        "Performance_array = np.empty(shape=(0,5))\n",
        "result = np.zeros((batch_size,5))\n",
        "\n",
        "for context_splines,out_labels  in tqdm(val_loader):\n",
        "  \n",
        "  context_splines = context_splines.to(device)\n",
        "  y = regressor(context_splines)\n",
        "  prediction = y * label_std + label_mean\n",
        "  truth = out_labels[:,2:]\n",
        "\n",
        "  num_years = (context_splines!=0).any(-1).sum(-1)\n",
        "\n",
        "  result[:,0] = num_years.cpu().numpy()\n",
        "  result[:,1:3] = truth.numpy()\n",
        "  result[:,3:5] = prediction.cpu().detach().numpy()\n",
        "\n",
        "  Performance_array = np.append(Performance_array,result,axis=0)"
      ],
      "metadata": {
        "colab": {
          "base_uri": "https://localhost:8080/"
        },
        "id": "lAOj2HAQoQae",
        "outputId": "951ff58f-3c45-4180-99ef-5892424fb4a1"
      },
      "execution_count": 42,
      "outputs": [
        {
          "output_type": "stream",
          "name": "stderr",
          "text": [
            "100%|██████████| 78/78 [01:11<00:00,  1.09it/s]\n"
          ]
        }
      ]
    },
    {
      "cell_type": "code",
      "source": [
        "import pandas as pd\n",
        "df = pd.DataFrame(Performance_array,columns=['num years','true tau','true rho','pred tau','pred rho'])\n",
        "\n",
        "df.to_csv(log_dir + 'Performance.csv')"
      ],
      "metadata": {
        "id": "547y4dQaw9Jh"
      },
      "execution_count": 43,
      "outputs": []
    },
    {
      "cell_type": "code",
      "source": [
        "learning_rate_history = [1e-4]*6 + [5e-5]*4\n",
        "np.savez(log_dir+'training_stats.npz',learning_rate_history = learning_rate_history,train_loss_history=np.array(train_loss_history),\n",
        "         t_cov_history = np.array(t_cov_history),t_rev_history = np.array(t_rev_history),val_loss_history = np.array(val_loss_history))"
      ],
      "metadata": {
        "id": "B2p2cDxJw9Nb"
      },
      "execution_count": 44,
      "outputs": []
    },
    {
      "cell_type": "code",
      "source": [
        ""
      ],
      "metadata": {
        "id": "sU2kigP6w9RN"
      },
      "execution_count": null,
      "outputs": []
    },
    {
      "cell_type": "code",
      "source": [
        ""
      ],
      "metadata": {
        "id": "sP6sAKNkoQdF"
      },
      "execution_count": null,
      "outputs": []
    },
    {
      "cell_type": "code",
      "execution_count": null,
      "metadata": {
        "id": "Le2IXtEmKFzq",
        "colab": {
          "base_uri": "https://localhost:8080/",
          "height": 664
        },
        "outputId": "24ea750e-5665-453e-d0d8-18a55410990b"
      },
      "outputs": [
        {
          "output_type": "stream",
          "name": "stderr",
          "text": [
            " 32%|███▏      | 200/625 [02:14<04:31,  1.56it/s]"
          ]
        },
        {
          "output_type": "stream",
          "name": "stdout",
          "text": [
            "Iter 200 loss=0.4154 t_cov_loss =0.6006 t_rev_loss = 0.2301\n"
          ]
        },
        {
          "output_type": "stream",
          "name": "stderr",
          "text": [
            " 64%|██████▍   | 400/625 [04:28<02:27,  1.52it/s]"
          ]
        },
        {
          "output_type": "stream",
          "name": "stdout",
          "text": [
            "Iter 400 loss=0.4045 t_cov_loss =0.5933 t_rev_loss = 0.2158\n"
          ]
        },
        {
          "output_type": "stream",
          "name": "stderr",
          "text": [
            " 96%|█████████▌| 600/625 [06:40<00:16,  1.54it/s]"
          ]
        },
        {
          "output_type": "stream",
          "name": "stdout",
          "text": [
            "Iter 600 loss=0.4057 t_cov_loss =0.5969 t_rev_loss = 0.2146\n"
          ]
        },
        {
          "output_type": "stream",
          "name": "stderr",
          "text": [
            "100%|██████████| 625/625 [06:57<00:00,  1.50it/s]\n",
            "100%|██████████| 78/78 [00:49<00:00,  1.57it/s]\n"
          ]
        },
        {
          "output_type": "stream",
          "name": "stdout",
          "text": [
            "Epoch 7, Train loss 0.4083 t_cov 0.5968 t_rev 0.2197, Val loss 0.4231\n"
          ]
        },
        {
          "output_type": "stream",
          "name": "stderr",
          "text": [
            " 32%|███▏      | 200/625 [02:12<04:38,  1.53it/s]"
          ]
        },
        {
          "output_type": "stream",
          "name": "stdout",
          "text": [
            "Iter 200 loss=0.4036 t_cov_loss =0.5930 t_rev_loss = 0.2141\n"
          ]
        },
        {
          "output_type": "stream",
          "name": "stderr",
          "text": [
            " 64%|██████▍   | 400/625 [04:23<02:27,  1.52it/s]"
          ]
        },
        {
          "output_type": "stream",
          "name": "stdout",
          "text": [
            "Iter 400 loss=0.3986 t_cov_loss =0.5885 t_rev_loss = 0.2088\n"
          ]
        },
        {
          "output_type": "stream",
          "name": "stderr",
          "text": [
            " 96%|█████████▌| 600/625 [06:35<00:16,  1.55it/s]"
          ]
        },
        {
          "output_type": "stream",
          "name": "stdout",
          "text": [
            "Iter 600 loss=0.3935 t_cov_loss =0.5854 t_rev_loss = 0.2016\n"
          ]
        },
        {
          "output_type": "stream",
          "name": "stderr",
          "text": [
            "100%|██████████| 625/625 [06:51<00:00,  1.52it/s]\n",
            "100%|██████████| 78/78 [00:48<00:00,  1.59it/s]\n"
          ]
        },
        {
          "output_type": "stream",
          "name": "stdout",
          "text": [
            "Epoch 8, Train loss 0.3977 t_cov 0.5878 t_rev 0.2077, Val loss 0.4026\n"
          ]
        },
        {
          "output_type": "stream",
          "name": "stderr",
          "text": [
            " 32%|███▏      | 200/625 [02:11<04:39,  1.52it/s]"
          ]
        },
        {
          "output_type": "stream",
          "name": "stdout",
          "text": [
            "Iter 200 loss=0.4022 t_cov_loss =0.5964 t_rev_loss = 0.2080\n"
          ]
        },
        {
          "output_type": "stream",
          "name": "stderr",
          "text": [
            " 64%|██████▍   | 400/625 [04:22<02:26,  1.54it/s]"
          ]
        },
        {
          "output_type": "stream",
          "name": "stdout",
          "text": [
            "Iter 400 loss=0.3989 t_cov_loss =0.5970 t_rev_loss = 0.2007\n"
          ]
        },
        {
          "output_type": "stream",
          "name": "stderr",
          "text": [
            " 96%|█████████▌| 600/625 [06:34<00:16,  1.55it/s]"
          ]
        },
        {
          "output_type": "stream",
          "name": "stdout",
          "text": [
            "Iter 600 loss=0.3969 t_cov_loss =0.5949 t_rev_loss = 0.1990\n"
          ]
        },
        {
          "output_type": "stream",
          "name": "stderr",
          "text": [
            "100%|██████████| 625/625 [06:50<00:00,  1.52it/s]\n",
            "100%|██████████| 78/78 [00:48<00:00,  1.61it/s]\n"
          ]
        },
        {
          "output_type": "stream",
          "name": "stdout",
          "text": [
            "Epoch 9, Train loss 0.3990 t_cov 0.5960 t_rev 0.2020, Val loss 0.4227\n"
          ]
        },
        {
          "output_type": "stream",
          "name": "stderr",
          "text": [
            "  2%|▏         | 13/625 [00:08<06:54,  1.48it/s]\n"
          ]
        },
        {
          "output_type": "error",
          "ename": "KeyboardInterrupt",
          "evalue": "ignored",
          "traceback": [
            "\u001b[0;31m---------------------------------------------------------------------------\u001b[0m",
            "\u001b[0;31mKeyboardInterrupt\u001b[0m                         Traceback (most recent call last)",
            "\u001b[0;32m<ipython-input-69-0a401c52f550>\u001b[0m in \u001b[0;36m<module>\u001b[0;34m()\u001b[0m\n\u001b[1;32m      4\u001b[0m                 \u001b[0mtrain_loss_history\u001b[0m\u001b[0;34m,\u001b[0m\u001b[0mval_loss_history\u001b[0m\u001b[0;34m,\u001b[0m\u001b[0;34m\u001b[0m\u001b[0;34m\u001b[0m\u001b[0m\n\u001b[1;32m      5\u001b[0m                 \u001b[0mt_cov_history\u001b[0m\u001b[0;34m,\u001b[0m\u001b[0mt_rev_history\u001b[0m\u001b[0;34m,\u001b[0m\u001b[0;34m\u001b[0m\u001b[0;34m\u001b[0m\u001b[0m\n\u001b[0;32m----> 6\u001b[0;31m                 report_iter = 200,epoch_num=epoch+1)\n\u001b[0m",
            "\u001b[0;32m<ipython-input-60-17932109f3c3>\u001b[0m in \u001b[0;36mtrain_epoch\u001b[0;34m(log_dir, regressor, learning_rate, train_loss_history, val_loss_history, t_cov_history, t_rev_history, report_iter, epoch_num)\u001b[0m\n\u001b[1;32m     17\u001b[0m   \u001b[0mregressor\u001b[0m\u001b[0;34m.\u001b[0m\u001b[0mtrain\u001b[0m\u001b[0;34m(\u001b[0m\u001b[0;34m)\u001b[0m\u001b[0;34m\u001b[0m\u001b[0;34m\u001b[0m\u001b[0m\n\u001b[1;32m     18\u001b[0m \u001b[0;34m\u001b[0m\u001b[0m\n\u001b[0;32m---> 19\u001b[0;31m   \u001b[0;32mfor\u001b[0m \u001b[0mi\u001b[0m\u001b[0;34m,\u001b[0m\u001b[0;34m(\u001b[0m\u001b[0mcontext_splines\u001b[0m\u001b[0;34m,\u001b[0m\u001b[0mout_labels\u001b[0m\u001b[0;34m)\u001b[0m \u001b[0;32min\u001b[0m \u001b[0menumerate\u001b[0m\u001b[0;34m(\u001b[0m\u001b[0mtqdm\u001b[0m\u001b[0;34m(\u001b[0m\u001b[0mtrain_loader\u001b[0m\u001b[0;34m)\u001b[0m\u001b[0;34m)\u001b[0m\u001b[0;34m:\u001b[0m\u001b[0;34m\u001b[0m\u001b[0;34m\u001b[0m\u001b[0m\n\u001b[0m\u001b[1;32m     20\u001b[0m \u001b[0;34m\u001b[0m\u001b[0m\n\u001b[1;32m     21\u001b[0m \u001b[0;34m\u001b[0m\u001b[0m\n",
            "\u001b[0;32m/usr/local/lib/python3.7/dist-packages/tqdm/std.py\u001b[0m in \u001b[0;36m__iter__\u001b[0;34m(self)\u001b[0m\n\u001b[1;32m   1193\u001b[0m \u001b[0;34m\u001b[0m\u001b[0m\n\u001b[1;32m   1194\u001b[0m         \u001b[0;32mtry\u001b[0m\u001b[0;34m:\u001b[0m\u001b[0;34m\u001b[0m\u001b[0;34m\u001b[0m\u001b[0m\n\u001b[0;32m-> 1195\u001b[0;31m             \u001b[0;32mfor\u001b[0m \u001b[0mobj\u001b[0m \u001b[0;32min\u001b[0m \u001b[0miterable\u001b[0m\u001b[0;34m:\u001b[0m\u001b[0;34m\u001b[0m\u001b[0;34m\u001b[0m\u001b[0m\n\u001b[0m\u001b[1;32m   1196\u001b[0m                 \u001b[0;32myield\u001b[0m \u001b[0mobj\u001b[0m\u001b[0;34m\u001b[0m\u001b[0;34m\u001b[0m\u001b[0m\n\u001b[1;32m   1197\u001b[0m                 \u001b[0;31m# Update and possibly print the progressbar.\u001b[0m\u001b[0;34m\u001b[0m\u001b[0;34m\u001b[0m\u001b[0;34m\u001b[0m\u001b[0m\n",
            "\u001b[0;32m/usr/local/lib/python3.7/dist-packages/torch/utils/data/dataloader.py\u001b[0m in \u001b[0;36m__next__\u001b[0;34m(self)\u001b[0m\n\u001b[1;32m    679\u001b[0m                 \u001b[0;31m# TODO(https://github.com/pytorch/pytorch/issues/76750)\u001b[0m\u001b[0;34m\u001b[0m\u001b[0;34m\u001b[0m\u001b[0;34m\u001b[0m\u001b[0m\n\u001b[1;32m    680\u001b[0m                 \u001b[0mself\u001b[0m\u001b[0;34m.\u001b[0m\u001b[0m_reset\u001b[0m\u001b[0;34m(\u001b[0m\u001b[0;34m)\u001b[0m  \u001b[0;31m# type: ignore[call-arg]\u001b[0m\u001b[0;34m\u001b[0m\u001b[0;34m\u001b[0m\u001b[0m\n\u001b[0;32m--> 681\u001b[0;31m             \u001b[0mdata\u001b[0m \u001b[0;34m=\u001b[0m \u001b[0mself\u001b[0m\u001b[0;34m.\u001b[0m\u001b[0m_next_data\u001b[0m\u001b[0;34m(\u001b[0m\u001b[0;34m)\u001b[0m\u001b[0;34m\u001b[0m\u001b[0;34m\u001b[0m\u001b[0m\n\u001b[0m\u001b[1;32m    682\u001b[0m             \u001b[0mself\u001b[0m\u001b[0;34m.\u001b[0m\u001b[0m_num_yielded\u001b[0m \u001b[0;34m+=\u001b[0m \u001b[0;36m1\u001b[0m\u001b[0;34m\u001b[0m\u001b[0;34m\u001b[0m\u001b[0m\n\u001b[1;32m    683\u001b[0m             \u001b[0;32mif\u001b[0m \u001b[0mself\u001b[0m\u001b[0;34m.\u001b[0m\u001b[0m_dataset_kind\u001b[0m \u001b[0;34m==\u001b[0m \u001b[0m_DatasetKind\u001b[0m\u001b[0;34m.\u001b[0m\u001b[0mIterable\u001b[0m \u001b[0;32mand\u001b[0m\u001b[0;31m \u001b[0m\u001b[0;31m\\\u001b[0m\u001b[0;34m\u001b[0m\u001b[0;34m\u001b[0m\u001b[0m\n",
            "\u001b[0;32m/usr/local/lib/python3.7/dist-packages/torch/utils/data/dataloader.py\u001b[0m in \u001b[0;36m_next_data\u001b[0;34m(self)\u001b[0m\n\u001b[1;32m    719\u001b[0m     \u001b[0;32mdef\u001b[0m \u001b[0m_next_data\u001b[0m\u001b[0;34m(\u001b[0m\u001b[0mself\u001b[0m\u001b[0;34m)\u001b[0m\u001b[0;34m:\u001b[0m\u001b[0;34m\u001b[0m\u001b[0;34m\u001b[0m\u001b[0m\n\u001b[1;32m    720\u001b[0m         \u001b[0mindex\u001b[0m \u001b[0;34m=\u001b[0m \u001b[0mself\u001b[0m\u001b[0;34m.\u001b[0m\u001b[0m_next_index\u001b[0m\u001b[0;34m(\u001b[0m\u001b[0;34m)\u001b[0m  \u001b[0;31m# may raise StopIteration\u001b[0m\u001b[0;34m\u001b[0m\u001b[0;34m\u001b[0m\u001b[0m\n\u001b[0;32m--> 721\u001b[0;31m         \u001b[0mdata\u001b[0m \u001b[0;34m=\u001b[0m \u001b[0mself\u001b[0m\u001b[0;34m.\u001b[0m\u001b[0m_dataset_fetcher\u001b[0m\u001b[0;34m.\u001b[0m\u001b[0mfetch\u001b[0m\u001b[0;34m(\u001b[0m\u001b[0mindex\u001b[0m\u001b[0;34m)\u001b[0m  \u001b[0;31m# may raise StopIteration\u001b[0m\u001b[0;34m\u001b[0m\u001b[0;34m\u001b[0m\u001b[0m\n\u001b[0m\u001b[1;32m    722\u001b[0m         \u001b[0;32mif\u001b[0m \u001b[0mself\u001b[0m\u001b[0;34m.\u001b[0m\u001b[0m_pin_memory\u001b[0m\u001b[0;34m:\u001b[0m\u001b[0;34m\u001b[0m\u001b[0;34m\u001b[0m\u001b[0m\n\u001b[1;32m    723\u001b[0m             \u001b[0mdata\u001b[0m \u001b[0;34m=\u001b[0m \u001b[0m_utils\u001b[0m\u001b[0;34m.\u001b[0m\u001b[0mpin_memory\u001b[0m\u001b[0;34m.\u001b[0m\u001b[0mpin_memory\u001b[0m\u001b[0;34m(\u001b[0m\u001b[0mdata\u001b[0m\u001b[0;34m,\u001b[0m \u001b[0mself\u001b[0m\u001b[0;34m.\u001b[0m\u001b[0m_pin_memory_device\u001b[0m\u001b[0;34m)\u001b[0m\u001b[0;34m\u001b[0m\u001b[0;34m\u001b[0m\u001b[0m\n",
            "\u001b[0;32m/usr/local/lib/python3.7/dist-packages/torch/utils/data/_utils/fetch.py\u001b[0m in \u001b[0;36mfetch\u001b[0;34m(self, possibly_batched_index)\u001b[0m\n\u001b[1;32m     47\u001b[0m     \u001b[0;32mdef\u001b[0m \u001b[0mfetch\u001b[0m\u001b[0;34m(\u001b[0m\u001b[0mself\u001b[0m\u001b[0;34m,\u001b[0m \u001b[0mpossibly_batched_index\u001b[0m\u001b[0;34m)\u001b[0m\u001b[0;34m:\u001b[0m\u001b[0;34m\u001b[0m\u001b[0;34m\u001b[0m\u001b[0m\n\u001b[1;32m     48\u001b[0m         \u001b[0;32mif\u001b[0m \u001b[0mself\u001b[0m\u001b[0;34m.\u001b[0m\u001b[0mauto_collation\u001b[0m\u001b[0;34m:\u001b[0m\u001b[0;34m\u001b[0m\u001b[0;34m\u001b[0m\u001b[0m\n\u001b[0;32m---> 49\u001b[0;31m             \u001b[0mdata\u001b[0m \u001b[0;34m=\u001b[0m \u001b[0;34m[\u001b[0m\u001b[0mself\u001b[0m\u001b[0;34m.\u001b[0m\u001b[0mdataset\u001b[0m\u001b[0;34m[\u001b[0m\u001b[0midx\u001b[0m\u001b[0;34m]\u001b[0m \u001b[0;32mfor\u001b[0m \u001b[0midx\u001b[0m \u001b[0;32min\u001b[0m \u001b[0mpossibly_batched_index\u001b[0m\u001b[0;34m]\u001b[0m\u001b[0;34m\u001b[0m\u001b[0;34m\u001b[0m\u001b[0m\n\u001b[0m\u001b[1;32m     50\u001b[0m         \u001b[0;32melse\u001b[0m\u001b[0;34m:\u001b[0m\u001b[0;34m\u001b[0m\u001b[0;34m\u001b[0m\u001b[0m\n\u001b[1;32m     51\u001b[0m             \u001b[0mdata\u001b[0m \u001b[0;34m=\u001b[0m \u001b[0mself\u001b[0m\u001b[0;34m.\u001b[0m\u001b[0mdataset\u001b[0m\u001b[0;34m[\u001b[0m\u001b[0mpossibly_batched_index\u001b[0m\u001b[0;34m]\u001b[0m\u001b[0;34m\u001b[0m\u001b[0;34m\u001b[0m\u001b[0m\n",
            "\u001b[0;32m/usr/local/lib/python3.7/dist-packages/torch/utils/data/_utils/fetch.py\u001b[0m in \u001b[0;36m<listcomp>\u001b[0;34m(.0)\u001b[0m\n\u001b[1;32m     47\u001b[0m     \u001b[0;32mdef\u001b[0m \u001b[0mfetch\u001b[0m\u001b[0;34m(\u001b[0m\u001b[0mself\u001b[0m\u001b[0;34m,\u001b[0m \u001b[0mpossibly_batched_index\u001b[0m\u001b[0;34m)\u001b[0m\u001b[0;34m:\u001b[0m\u001b[0;34m\u001b[0m\u001b[0;34m\u001b[0m\u001b[0m\n\u001b[1;32m     48\u001b[0m         \u001b[0;32mif\u001b[0m \u001b[0mself\u001b[0m\u001b[0;34m.\u001b[0m\u001b[0mauto_collation\u001b[0m\u001b[0;34m:\u001b[0m\u001b[0;34m\u001b[0m\u001b[0;34m\u001b[0m\u001b[0m\n\u001b[0;32m---> 49\u001b[0;31m             \u001b[0mdata\u001b[0m \u001b[0;34m=\u001b[0m \u001b[0;34m[\u001b[0m\u001b[0mself\u001b[0m\u001b[0;34m.\u001b[0m\u001b[0mdataset\u001b[0m\u001b[0;34m[\u001b[0m\u001b[0midx\u001b[0m\u001b[0;34m]\u001b[0m \u001b[0;32mfor\u001b[0m \u001b[0midx\u001b[0m \u001b[0;32min\u001b[0m \u001b[0mpossibly_batched_index\u001b[0m\u001b[0;34m]\u001b[0m\u001b[0;34m\u001b[0m\u001b[0;34m\u001b[0m\u001b[0m\n\u001b[0m\u001b[1;32m     50\u001b[0m         \u001b[0;32melse\u001b[0m\u001b[0;34m:\u001b[0m\u001b[0;34m\u001b[0m\u001b[0;34m\u001b[0m\u001b[0m\n\u001b[1;32m     51\u001b[0m             \u001b[0mdata\u001b[0m \u001b[0;34m=\u001b[0m \u001b[0mself\u001b[0m\u001b[0;34m.\u001b[0m\u001b[0mdataset\u001b[0m\u001b[0;34m[\u001b[0m\u001b[0mpossibly_batched_index\u001b[0m\u001b[0;34m]\u001b[0m\u001b[0;34m\u001b[0m\u001b[0;34m\u001b[0m\u001b[0m\n",
            "\u001b[0;32m<ipython-input-3-ca9373ba5d53>\u001b[0m in \u001b[0;36m__getitem__\u001b[0;34m(self, index)\u001b[0m\n\u001b[1;32m    286\u001b[0m \u001b[0;34m\u001b[0m\u001b[0m\n\u001b[1;32m    287\u001b[0m   \u001b[0;32mdef\u001b[0m \u001b[0m__getitem__\u001b[0m\u001b[0;34m(\u001b[0m\u001b[0mself\u001b[0m\u001b[0;34m,\u001b[0m \u001b[0mindex\u001b[0m\u001b[0;34m)\u001b[0m\u001b[0;34m:\u001b[0m\u001b[0;34m\u001b[0m\u001b[0;34m\u001b[0m\u001b[0m\n\u001b[0;32m--> 288\u001b[0;31m       \u001b[0mitem\u001b[0m \u001b[0;34m=\u001b[0m \u001b[0mself\u001b[0m\u001b[0;34m.\u001b[0m\u001b[0mget_item\u001b[0m\u001b[0;34m(\u001b[0m\u001b[0mindex\u001b[0m\u001b[0;34m)\u001b[0m\u001b[0;34m\u001b[0m\u001b[0;34m\u001b[0m\u001b[0m\n\u001b[0m\u001b[1;32m    289\u001b[0m       \u001b[0;32mreturn\u001b[0m \u001b[0;34m(\u001b[0m\u001b[0;34m*\u001b[0m\u001b[0mitem\u001b[0m\u001b[0;34m,\u001b[0m\u001b[0mindex\u001b[0m\u001b[0;34m)\u001b[0m\u001b[0;34m\u001b[0m\u001b[0;34m\u001b[0m\u001b[0m\n\u001b[1;32m    290\u001b[0m \u001b[0;34m\u001b[0m\u001b[0m\n",
            "\u001b[0;32m<ipython-input-3-ca9373ba5d53>\u001b[0m in \u001b[0;36mget_item\u001b[0;34m(self, label_index)\u001b[0m\n\u001b[1;32m    269\u001b[0m                                                  high=self.max_years+1)\n\u001b[1;32m    270\u001b[0m \u001b[0;34m\u001b[0m\u001b[0m\n\u001b[0;32m--> 271\u001b[0;31m     \u001b[0mtime_array\u001b[0m\u001b[0;34m,\u001b[0m\u001b[0mmagnitude_array\u001b[0m \u001b[0;34m=\u001b[0m \u001b[0mself\u001b[0m\u001b[0;34m.\u001b[0m\u001b[0mRDRW_simulator\u001b[0m\u001b[0;34m(\u001b[0m\u001b[0;34m*\u001b[0m\u001b[0mlabels\u001b[0m\u001b[0;34m,\u001b[0m\u001b[0mduration\u001b[0m\u001b[0;34m=\u001b[0m\u001b[0mnum_observed_years\u001b[0m\u001b[0;34m)\u001b[0m\u001b[0;34m\u001b[0m\u001b[0;34m\u001b[0m\u001b[0m\n\u001b[0m\u001b[1;32m    272\u001b[0m \u001b[0;34m\u001b[0m\u001b[0m\n\u001b[1;32m    273\u001b[0m     \u001b[0mno_gaps_mask\u001b[0m \u001b[0;34m=\u001b[0m \u001b[0mself\u001b[0m\u001b[0;34m.\u001b[0m\u001b[0mget_no_gaps_masks\u001b[0m\u001b[0;34m(\u001b[0m\u001b[0mtime_array\u001b[0m\u001b[0;34m,\u001b[0m\u001b[0mnum_observed_years\u001b[0m\u001b[0;34m)\u001b[0m\u001b[0;34m\u001b[0m\u001b[0;34m\u001b[0m\u001b[0m\n",
            "\u001b[0;32m<ipython-input-3-ca9373ba5d53>\u001b[0m in \u001b[0;36m__call__\u001b[0;34m(self, Correlation_time, Reverberation_time, duration)\u001b[0m\n\u001b[1;32m    109\u001b[0m \u001b[0;34m\u001b[0m\u001b[0m\n\u001b[1;32m    110\u001b[0m         \u001b[0;31m#start_t = time.time()\u001b[0m\u001b[0;34m\u001b[0m\u001b[0;34m\u001b[0m\u001b[0;34m\u001b[0m\u001b[0m\n\u001b[0;32m--> 111\u001b[0;31m         \u001b[0mmagnitude_noise\u001b[0m\u001b[0;34m=\u001b[0m\u001b[0mself\u001b[0m\u001b[0;34m.\u001b[0m\u001b[0mrng_mag\u001b[0m\u001b[0;34m.\u001b[0m\u001b[0mnormal\u001b[0m\u001b[0;34m(\u001b[0m\u001b[0msize\u001b[0m\u001b[0;34m=\u001b[0m\u001b[0mlen\u001b[0m\u001b[0;34m(\u001b[0m\u001b[0mtime_array\u001b[0m\u001b[0;34m)\u001b[0m\u001b[0;34m)\u001b[0m\u001b[0;34m\u001b[0m\u001b[0;34m\u001b[0m\u001b[0m\n\u001b[0m\u001b[1;32m    112\u001b[0m         \u001b[0;31m#end_t = time.time()\u001b[0m\u001b[0;34m\u001b[0m\u001b[0;34m\u001b[0m\u001b[0;34m\u001b[0m\u001b[0m\n\u001b[1;32m    113\u001b[0m         \u001b[0;31m#print('Realisation sampling:',end_t-start_t)\u001b[0m\u001b[0;34m\u001b[0m\u001b[0;34m\u001b[0m\u001b[0;34m\u001b[0m\u001b[0m\n",
            "\u001b[0;31mKeyboardInterrupt\u001b[0m: "
          ]
        }
      ],
      "source": [
        "# jax with 50% of gpu (same with 10% actually)\n",
        "for epoch in range(6,12):\n",
        "  train_epoch(log_dir,regressor,learning_rate,\n",
        "                train_loss_history,val_loss_history,\n",
        "                t_cov_history,t_rev_history,\n",
        "                report_iter = 200,epoch_num=epoch+1)"
      ]
    },
    {
      "cell_type": "code",
      "execution_count": null,
      "metadata": {
        "id": "_jpu1pbvKF2x"
      },
      "outputs": [],
      "source": [
        ""
      ]
    },
    {
      "cell_type": "code",
      "execution_count": null,
      "metadata": {
        "id": "m6kwLPevKF7-"
      },
      "outputs": [],
      "source": [
        ""
      ]
    },
    {
      "cell_type": "code",
      "execution_count": null,
      "metadata": {
        "id": "jMMhUslYKF-O"
      },
      "outputs": [],
      "source": [
        ""
      ]
    },
    {
      "cell_type": "markdown",
      "metadata": {
        "id": "waupGYpc9YcH"
      },
      "source": [
        "## 64 LDE clusters, 64 features (like in LDE paper) + intermediate_linear for 64\n",
        "\n",
        "\n"
      ]
    },
    {
      "cell_type": "code",
      "execution_count": null,
      "metadata": {
        "id": "1uTrK-729b1n"
      },
      "outputs": [],
      "source": [
        "log_dir= Folder+'Neural_Networks/VGG_LDE_Regressor/checkpoints_stochastic_5_more/conv_64_64_128_128_256_256_proj_64_64_clusters_dopout_0_inter_linear_64/'\n",
        "learning_rate = 5e-4\n",
        "\n",
        "train_loss_history = []\n",
        "val_loss_history = []\n",
        "t_cov_history = []\n",
        "t_rev_history = []"
      ]
    },
    {
      "cell_type": "code",
      "execution_count": null,
      "metadata": {
        "colab": {
          "base_uri": "https://localhost:8080/",
          "height": 783
        },
        "id": "aSFZVGwQ9cYR",
        "outputId": "89fef6f9-f198-4f27-a46d-3a2abc2c0822"
      },
      "outputs": [
        {
          "name": "stderr",
          "output_type": "stream",
          "text": [
            " 32%|███▏      | 200/625 [02:15<04:47,  1.48it/s]"
          ]
        },
        {
          "name": "stdout",
          "output_type": "stream",
          "text": [
            "Iter 200 loss=0.8435 t_cov_loss =0.7853 t_rev_loss = 0.9017\n"
          ]
        },
        {
          "name": "stderr",
          "output_type": "stream",
          "text": [
            " 64%|██████▍   | 400/625 [04:28<02:27,  1.52it/s]"
          ]
        },
        {
          "name": "stdout",
          "output_type": "stream",
          "text": [
            "Iter 400 loss=0.6143 t_cov_loss =0.6824 t_rev_loss = 0.5463\n"
          ]
        },
        {
          "name": "stderr",
          "output_type": "stream",
          "text": [
            " 96%|█████████▌| 600/625 [06:42<00:15,  1.57it/s]"
          ]
        },
        {
          "name": "stdout",
          "output_type": "stream",
          "text": [
            "Iter 600 loss=0.4978 t_cov_loss =0.6409 t_rev_loss = 0.3548\n"
          ]
        },
        {
          "name": "stderr",
          "output_type": "stream",
          "text": [
            "100%|██████████| 625/625 [06:58<00:00,  1.49it/s]\n",
            "100%|██████████| 78/78 [00:50<00:00,  1.56it/s]\n"
          ]
        },
        {
          "name": "stdout",
          "output_type": "stream",
          "text": [
            "Epoch 1, Train loss 0.6442 t_cov 0.6997 t_rev 0.5887, Val loss 0.5135\n"
          ]
        },
        {
          "name": "stderr",
          "output_type": "stream",
          "text": [
            " 32%|███▏      | 200/625 [02:13<04:38,  1.53it/s]"
          ]
        },
        {
          "name": "stdout",
          "output_type": "stream",
          "text": [
            "Iter 200 loss=0.4739 t_cov_loss =0.6396 t_rev_loss = 0.3081\n"
          ]
        },
        {
          "name": "stderr",
          "output_type": "stream",
          "text": [
            " 64%|██████▍   | 400/625 [04:25<02:29,  1.50it/s]"
          ]
        },
        {
          "name": "stdout",
          "output_type": "stream",
          "text": [
            "Iter 400 loss=0.4546 t_cov_loss =0.6272 t_rev_loss = 0.2819\n"
          ]
        },
        {
          "name": "stderr",
          "output_type": "stream",
          "text": [
            " 96%|█████████▌| 600/625 [06:40<00:16,  1.49it/s]"
          ]
        },
        {
          "name": "stdout",
          "output_type": "stream",
          "text": [
            "Iter 600 loss=0.4407 t_cov_loss =0.6199 t_rev_loss = 0.2615\n"
          ]
        },
        {
          "name": "stderr",
          "output_type": "stream",
          "text": [
            "100%|██████████| 625/625 [06:56<00:00,  1.50it/s]\n",
            "100%|██████████| 78/78 [00:49<00:00,  1.58it/s]\n"
          ]
        },
        {
          "name": "stdout",
          "output_type": "stream",
          "text": [
            "Epoch 2, Train loss 0.4550 t_cov 0.6277 t_rev 0.2824, Val loss 0.4399\n"
          ]
        },
        {
          "name": "stderr",
          "output_type": "stream",
          "text": [
            " 32%|███▏      | 200/625 [02:15<04:41,  1.51it/s]"
          ]
        },
        {
          "name": "stdout",
          "output_type": "stream",
          "text": [
            "Iter 200 loss=0.4426 t_cov_loss =0.6285 t_rev_loss = 0.2567\n"
          ]
        },
        {
          "name": "stderr",
          "output_type": "stream",
          "text": [
            " 64%|██████▍   | 400/625 [04:30<02:26,  1.53it/s]"
          ]
        },
        {
          "name": "stdout",
          "output_type": "stream",
          "text": [
            "Iter 400 loss=0.4284 t_cov_loss =0.6125 t_rev_loss = 0.2444\n"
          ]
        },
        {
          "name": "stderr",
          "output_type": "stream",
          "text": [
            " 96%|█████████▌| 600/625 [06:43<00:16,  1.50it/s]"
          ]
        },
        {
          "name": "stdout",
          "output_type": "stream",
          "text": [
            "Iter 600 loss=0.4212 t_cov_loss =0.6093 t_rev_loss = 0.2330\n"
          ]
        },
        {
          "name": "stderr",
          "output_type": "stream",
          "text": [
            "100%|██████████| 625/625 [07:00<00:00,  1.49it/s]\n",
            "100%|██████████| 78/78 [00:49<00:00,  1.58it/s]\n"
          ]
        },
        {
          "name": "stdout",
          "output_type": "stream",
          "text": [
            "Epoch 3, Train loss 0.4298 t_cov 0.6157 t_rev 0.2439, Val loss 0.4202\n"
          ]
        },
        {
          "name": "stderr",
          "output_type": "stream",
          "text": [
            " 32%|███▏      | 200/625 [02:15<04:45,  1.49it/s]"
          ]
        },
        {
          "name": "stdout",
          "output_type": "stream",
          "text": [
            "Iter 200 loss=0.4173 t_cov_loss =0.6078 t_rev_loss = 0.2268\n"
          ]
        },
        {
          "name": "stderr",
          "output_type": "stream",
          "text": [
            " 64%|██████▍   | 400/625 [04:29<02:29,  1.51it/s]"
          ]
        },
        {
          "name": "stdout",
          "output_type": "stream",
          "text": [
            "Iter 400 loss=0.4108 t_cov_loss =0.6044 t_rev_loss = 0.2171\n"
          ]
        },
        {
          "name": "stderr",
          "output_type": "stream",
          "text": [
            " 96%|█████████▌| 600/625 [06:44<00:16,  1.49it/s]"
          ]
        },
        {
          "name": "stdout",
          "output_type": "stream",
          "text": [
            "Iter 600 loss=0.4042 t_cov_loss =0.6014 t_rev_loss = 0.2071\n"
          ]
        },
        {
          "name": "stderr",
          "output_type": "stream",
          "text": [
            "100%|██████████| 625/625 [07:00<00:00,  1.49it/s]\n",
            "100%|██████████| 78/78 [00:50<00:00,  1.54it/s]\n"
          ]
        },
        {
          "name": "stdout",
          "output_type": "stream",
          "text": [
            "Epoch 4, Train loss 0.4100 t_cov 0.6039 t_rev 0.2162, Val loss 0.4266\n"
          ]
        },
        {
          "name": "stderr",
          "output_type": "stream",
          "text": [
            " 32%|███▏      | 200/625 [02:13<04:39,  1.52it/s]"
          ]
        },
        {
          "name": "stdout",
          "output_type": "stream",
          "text": [
            "Iter 200 loss=0.4065 t_cov_loss =0.6075 t_rev_loss = 0.2054\n"
          ]
        },
        {
          "name": "stderr",
          "output_type": "stream",
          "text": [
            " 48%|████▊     | 301/625 [03:21<03:36,  1.49it/s]\n"
          ]
        },
        {
          "ename": "KeyboardInterrupt",
          "evalue": "ignored",
          "output_type": "error",
          "traceback": [
            "\u001b[0;31m---------------------------------------------------------------------------\u001b[0m",
            "\u001b[0;31mKeyboardInterrupt\u001b[0m                         Traceback (most recent call last)",
            "\u001b[0;32m<ipython-input-62-8e83415d82c3>\u001b[0m in \u001b[0;36m<module>\u001b[0;34m()\u001b[0m\n\u001b[1;32m      4\u001b[0m                 \u001b[0mtrain_loss_history\u001b[0m\u001b[0;34m,\u001b[0m\u001b[0mval_loss_history\u001b[0m\u001b[0;34m,\u001b[0m\u001b[0;34m\u001b[0m\u001b[0;34m\u001b[0m\u001b[0m\n\u001b[1;32m      5\u001b[0m                 \u001b[0mt_cov_history\u001b[0m\u001b[0;34m,\u001b[0m\u001b[0mt_rev_history\u001b[0m\u001b[0;34m,\u001b[0m\u001b[0;34m\u001b[0m\u001b[0;34m\u001b[0m\u001b[0m\n\u001b[0;32m----> 6\u001b[0;31m                 report_iter = 200,epoch_num=epoch+1)\n\u001b[0m",
            "\u001b[0;32m<ipython-input-60-17932109f3c3>\u001b[0m in \u001b[0;36mtrain_epoch\u001b[0;34m(log_dir, regressor, learning_rate, train_loss_history, val_loss_history, t_cov_history, t_rev_history, report_iter, epoch_num)\u001b[0m\n\u001b[1;32m     17\u001b[0m   \u001b[0mregressor\u001b[0m\u001b[0;34m.\u001b[0m\u001b[0mtrain\u001b[0m\u001b[0;34m(\u001b[0m\u001b[0;34m)\u001b[0m\u001b[0;34m\u001b[0m\u001b[0;34m\u001b[0m\u001b[0m\n\u001b[1;32m     18\u001b[0m \u001b[0;34m\u001b[0m\u001b[0m\n\u001b[0;32m---> 19\u001b[0;31m   \u001b[0;32mfor\u001b[0m \u001b[0mi\u001b[0m\u001b[0;34m,\u001b[0m\u001b[0;34m(\u001b[0m\u001b[0mcontext_splines\u001b[0m\u001b[0;34m,\u001b[0m\u001b[0mout_labels\u001b[0m\u001b[0;34m)\u001b[0m \u001b[0;32min\u001b[0m \u001b[0menumerate\u001b[0m\u001b[0;34m(\u001b[0m\u001b[0mtqdm\u001b[0m\u001b[0;34m(\u001b[0m\u001b[0mtrain_loader\u001b[0m\u001b[0;34m)\u001b[0m\u001b[0;34m)\u001b[0m\u001b[0;34m:\u001b[0m\u001b[0;34m\u001b[0m\u001b[0;34m\u001b[0m\u001b[0m\n\u001b[0m\u001b[1;32m     20\u001b[0m \u001b[0;34m\u001b[0m\u001b[0m\n\u001b[1;32m     21\u001b[0m \u001b[0;34m\u001b[0m\u001b[0m\n",
            "\u001b[0;32m/usr/local/lib/python3.7/dist-packages/tqdm/std.py\u001b[0m in \u001b[0;36m__iter__\u001b[0;34m(self)\u001b[0m\n\u001b[1;32m   1193\u001b[0m \u001b[0;34m\u001b[0m\u001b[0m\n\u001b[1;32m   1194\u001b[0m         \u001b[0;32mtry\u001b[0m\u001b[0;34m:\u001b[0m\u001b[0;34m\u001b[0m\u001b[0;34m\u001b[0m\u001b[0m\n\u001b[0;32m-> 1195\u001b[0;31m             \u001b[0;32mfor\u001b[0m \u001b[0mobj\u001b[0m \u001b[0;32min\u001b[0m \u001b[0miterable\u001b[0m\u001b[0;34m:\u001b[0m\u001b[0;34m\u001b[0m\u001b[0;34m\u001b[0m\u001b[0m\n\u001b[0m\u001b[1;32m   1196\u001b[0m                 \u001b[0;32myield\u001b[0m \u001b[0mobj\u001b[0m\u001b[0;34m\u001b[0m\u001b[0;34m\u001b[0m\u001b[0m\n\u001b[1;32m   1197\u001b[0m                 \u001b[0;31m# Update and possibly print the progressbar.\u001b[0m\u001b[0;34m\u001b[0m\u001b[0;34m\u001b[0m\u001b[0;34m\u001b[0m\u001b[0m\n",
            "\u001b[0;32m/usr/local/lib/python3.7/dist-packages/torch/utils/data/dataloader.py\u001b[0m in \u001b[0;36m__next__\u001b[0;34m(self)\u001b[0m\n\u001b[1;32m    679\u001b[0m                 \u001b[0;31m# TODO(https://github.com/pytorch/pytorch/issues/76750)\u001b[0m\u001b[0;34m\u001b[0m\u001b[0;34m\u001b[0m\u001b[0;34m\u001b[0m\u001b[0m\n\u001b[1;32m    680\u001b[0m                 \u001b[0mself\u001b[0m\u001b[0;34m.\u001b[0m\u001b[0m_reset\u001b[0m\u001b[0;34m(\u001b[0m\u001b[0;34m)\u001b[0m  \u001b[0;31m# type: ignore[call-arg]\u001b[0m\u001b[0;34m\u001b[0m\u001b[0;34m\u001b[0m\u001b[0m\n\u001b[0;32m--> 681\u001b[0;31m             \u001b[0mdata\u001b[0m \u001b[0;34m=\u001b[0m \u001b[0mself\u001b[0m\u001b[0;34m.\u001b[0m\u001b[0m_next_data\u001b[0m\u001b[0;34m(\u001b[0m\u001b[0;34m)\u001b[0m\u001b[0;34m\u001b[0m\u001b[0;34m\u001b[0m\u001b[0m\n\u001b[0m\u001b[1;32m    682\u001b[0m             \u001b[0mself\u001b[0m\u001b[0;34m.\u001b[0m\u001b[0m_num_yielded\u001b[0m \u001b[0;34m+=\u001b[0m \u001b[0;36m1\u001b[0m\u001b[0;34m\u001b[0m\u001b[0;34m\u001b[0m\u001b[0m\n\u001b[1;32m    683\u001b[0m             \u001b[0;32mif\u001b[0m \u001b[0mself\u001b[0m\u001b[0;34m.\u001b[0m\u001b[0m_dataset_kind\u001b[0m \u001b[0;34m==\u001b[0m \u001b[0m_DatasetKind\u001b[0m\u001b[0;34m.\u001b[0m\u001b[0mIterable\u001b[0m \u001b[0;32mand\u001b[0m\u001b[0;31m \u001b[0m\u001b[0;31m\\\u001b[0m\u001b[0;34m\u001b[0m\u001b[0;34m\u001b[0m\u001b[0m\n",
            "\u001b[0;32m/usr/local/lib/python3.7/dist-packages/torch/utils/data/dataloader.py\u001b[0m in \u001b[0;36m_next_data\u001b[0;34m(self)\u001b[0m\n\u001b[1;32m    719\u001b[0m     \u001b[0;32mdef\u001b[0m \u001b[0m_next_data\u001b[0m\u001b[0;34m(\u001b[0m\u001b[0mself\u001b[0m\u001b[0;34m)\u001b[0m\u001b[0;34m:\u001b[0m\u001b[0;34m\u001b[0m\u001b[0;34m\u001b[0m\u001b[0m\n\u001b[1;32m    720\u001b[0m         \u001b[0mindex\u001b[0m \u001b[0;34m=\u001b[0m \u001b[0mself\u001b[0m\u001b[0;34m.\u001b[0m\u001b[0m_next_index\u001b[0m\u001b[0;34m(\u001b[0m\u001b[0;34m)\u001b[0m  \u001b[0;31m# may raise StopIteration\u001b[0m\u001b[0;34m\u001b[0m\u001b[0;34m\u001b[0m\u001b[0m\n\u001b[0;32m--> 721\u001b[0;31m         \u001b[0mdata\u001b[0m \u001b[0;34m=\u001b[0m \u001b[0mself\u001b[0m\u001b[0;34m.\u001b[0m\u001b[0m_dataset_fetcher\u001b[0m\u001b[0;34m.\u001b[0m\u001b[0mfetch\u001b[0m\u001b[0;34m(\u001b[0m\u001b[0mindex\u001b[0m\u001b[0;34m)\u001b[0m  \u001b[0;31m# may raise StopIteration\u001b[0m\u001b[0;34m\u001b[0m\u001b[0;34m\u001b[0m\u001b[0m\n\u001b[0m\u001b[1;32m    722\u001b[0m         \u001b[0;32mif\u001b[0m \u001b[0mself\u001b[0m\u001b[0;34m.\u001b[0m\u001b[0m_pin_memory\u001b[0m\u001b[0;34m:\u001b[0m\u001b[0;34m\u001b[0m\u001b[0;34m\u001b[0m\u001b[0m\n\u001b[1;32m    723\u001b[0m             \u001b[0mdata\u001b[0m \u001b[0;34m=\u001b[0m \u001b[0m_utils\u001b[0m\u001b[0;34m.\u001b[0m\u001b[0mpin_memory\u001b[0m\u001b[0;34m.\u001b[0m\u001b[0mpin_memory\u001b[0m\u001b[0;34m(\u001b[0m\u001b[0mdata\u001b[0m\u001b[0;34m,\u001b[0m \u001b[0mself\u001b[0m\u001b[0;34m.\u001b[0m\u001b[0m_pin_memory_device\u001b[0m\u001b[0;34m)\u001b[0m\u001b[0;34m\u001b[0m\u001b[0;34m\u001b[0m\u001b[0m\n",
            "\u001b[0;32m/usr/local/lib/python3.7/dist-packages/torch/utils/data/_utils/fetch.py\u001b[0m in \u001b[0;36mfetch\u001b[0;34m(self, possibly_batched_index)\u001b[0m\n\u001b[1;32m     47\u001b[0m     \u001b[0;32mdef\u001b[0m \u001b[0mfetch\u001b[0m\u001b[0;34m(\u001b[0m\u001b[0mself\u001b[0m\u001b[0;34m,\u001b[0m \u001b[0mpossibly_batched_index\u001b[0m\u001b[0;34m)\u001b[0m\u001b[0;34m:\u001b[0m\u001b[0;34m\u001b[0m\u001b[0;34m\u001b[0m\u001b[0m\n\u001b[1;32m     48\u001b[0m         \u001b[0;32mif\u001b[0m \u001b[0mself\u001b[0m\u001b[0;34m.\u001b[0m\u001b[0mauto_collation\u001b[0m\u001b[0;34m:\u001b[0m\u001b[0;34m\u001b[0m\u001b[0;34m\u001b[0m\u001b[0m\n\u001b[0;32m---> 49\u001b[0;31m             \u001b[0mdata\u001b[0m \u001b[0;34m=\u001b[0m \u001b[0;34m[\u001b[0m\u001b[0mself\u001b[0m\u001b[0;34m.\u001b[0m\u001b[0mdataset\u001b[0m\u001b[0;34m[\u001b[0m\u001b[0midx\u001b[0m\u001b[0;34m]\u001b[0m \u001b[0;32mfor\u001b[0m \u001b[0midx\u001b[0m \u001b[0;32min\u001b[0m \u001b[0mpossibly_batched_index\u001b[0m\u001b[0;34m]\u001b[0m\u001b[0;34m\u001b[0m\u001b[0;34m\u001b[0m\u001b[0m\n\u001b[0m\u001b[1;32m     50\u001b[0m         \u001b[0;32melse\u001b[0m\u001b[0;34m:\u001b[0m\u001b[0;34m\u001b[0m\u001b[0;34m\u001b[0m\u001b[0m\n\u001b[1;32m     51\u001b[0m             \u001b[0mdata\u001b[0m \u001b[0;34m=\u001b[0m \u001b[0mself\u001b[0m\u001b[0;34m.\u001b[0m\u001b[0mdataset\u001b[0m\u001b[0;34m[\u001b[0m\u001b[0mpossibly_batched_index\u001b[0m\u001b[0;34m]\u001b[0m\u001b[0;34m\u001b[0m\u001b[0;34m\u001b[0m\u001b[0m\n",
            "\u001b[0;32m/usr/local/lib/python3.7/dist-packages/torch/utils/data/_utils/fetch.py\u001b[0m in \u001b[0;36m<listcomp>\u001b[0;34m(.0)\u001b[0m\n\u001b[1;32m     47\u001b[0m     \u001b[0;32mdef\u001b[0m \u001b[0mfetch\u001b[0m\u001b[0;34m(\u001b[0m\u001b[0mself\u001b[0m\u001b[0;34m,\u001b[0m \u001b[0mpossibly_batched_index\u001b[0m\u001b[0;34m)\u001b[0m\u001b[0;34m:\u001b[0m\u001b[0;34m\u001b[0m\u001b[0;34m\u001b[0m\u001b[0m\n\u001b[1;32m     48\u001b[0m         \u001b[0;32mif\u001b[0m \u001b[0mself\u001b[0m\u001b[0;34m.\u001b[0m\u001b[0mauto_collation\u001b[0m\u001b[0;34m:\u001b[0m\u001b[0;34m\u001b[0m\u001b[0;34m\u001b[0m\u001b[0m\n\u001b[0;32m---> 49\u001b[0;31m             \u001b[0mdata\u001b[0m \u001b[0;34m=\u001b[0m \u001b[0;34m[\u001b[0m\u001b[0mself\u001b[0m\u001b[0;34m.\u001b[0m\u001b[0mdataset\u001b[0m\u001b[0;34m[\u001b[0m\u001b[0midx\u001b[0m\u001b[0;34m]\u001b[0m \u001b[0;32mfor\u001b[0m \u001b[0midx\u001b[0m \u001b[0;32min\u001b[0m \u001b[0mpossibly_batched_index\u001b[0m\u001b[0;34m]\u001b[0m\u001b[0;34m\u001b[0m\u001b[0;34m\u001b[0m\u001b[0m\n\u001b[0m\u001b[1;32m     50\u001b[0m         \u001b[0;32melse\u001b[0m\u001b[0;34m:\u001b[0m\u001b[0;34m\u001b[0m\u001b[0;34m\u001b[0m\u001b[0m\n\u001b[1;32m     51\u001b[0m             \u001b[0mdata\u001b[0m \u001b[0;34m=\u001b[0m \u001b[0mself\u001b[0m\u001b[0;34m.\u001b[0m\u001b[0mdataset\u001b[0m\u001b[0;34m[\u001b[0m\u001b[0mpossibly_batched_index\u001b[0m\u001b[0;34m]\u001b[0m\u001b[0;34m\u001b[0m\u001b[0;34m\u001b[0m\u001b[0m\n",
            "\u001b[0;32m<ipython-input-3-ca9373ba5d53>\u001b[0m in \u001b[0;36m__getitem__\u001b[0;34m(self, index)\u001b[0m\n\u001b[1;32m    286\u001b[0m \u001b[0;34m\u001b[0m\u001b[0m\n\u001b[1;32m    287\u001b[0m   \u001b[0;32mdef\u001b[0m \u001b[0m__getitem__\u001b[0m\u001b[0;34m(\u001b[0m\u001b[0mself\u001b[0m\u001b[0;34m,\u001b[0m \u001b[0mindex\u001b[0m\u001b[0;34m)\u001b[0m\u001b[0;34m:\u001b[0m\u001b[0;34m\u001b[0m\u001b[0;34m\u001b[0m\u001b[0m\n\u001b[0;32m--> 288\u001b[0;31m       \u001b[0mitem\u001b[0m \u001b[0;34m=\u001b[0m \u001b[0mself\u001b[0m\u001b[0;34m.\u001b[0m\u001b[0mget_item\u001b[0m\u001b[0;34m(\u001b[0m\u001b[0mindex\u001b[0m\u001b[0;34m)\u001b[0m\u001b[0;34m\u001b[0m\u001b[0;34m\u001b[0m\u001b[0m\n\u001b[0m\u001b[1;32m    289\u001b[0m       \u001b[0;32mreturn\u001b[0m \u001b[0;34m(\u001b[0m\u001b[0;34m*\u001b[0m\u001b[0mitem\u001b[0m\u001b[0;34m,\u001b[0m\u001b[0mindex\u001b[0m\u001b[0;34m)\u001b[0m\u001b[0;34m\u001b[0m\u001b[0;34m\u001b[0m\u001b[0m\n\u001b[1;32m    290\u001b[0m \u001b[0;34m\u001b[0m\u001b[0m\n",
            "\u001b[0;32m<ipython-input-3-ca9373ba5d53>\u001b[0m in \u001b[0;36mget_item\u001b[0;34m(self, label_index)\u001b[0m\n\u001b[1;32m    269\u001b[0m                                                  high=self.max_years+1)\n\u001b[1;32m    270\u001b[0m \u001b[0;34m\u001b[0m\u001b[0m\n\u001b[0;32m--> 271\u001b[0;31m     \u001b[0mtime_array\u001b[0m\u001b[0;34m,\u001b[0m\u001b[0mmagnitude_array\u001b[0m \u001b[0;34m=\u001b[0m \u001b[0mself\u001b[0m\u001b[0;34m.\u001b[0m\u001b[0mRDRW_simulator\u001b[0m\u001b[0;34m(\u001b[0m\u001b[0;34m*\u001b[0m\u001b[0mlabels\u001b[0m\u001b[0;34m,\u001b[0m\u001b[0mduration\u001b[0m\u001b[0;34m=\u001b[0m\u001b[0mnum_observed_years\u001b[0m\u001b[0;34m)\u001b[0m\u001b[0;34m\u001b[0m\u001b[0;34m\u001b[0m\u001b[0m\n\u001b[0m\u001b[1;32m    272\u001b[0m \u001b[0;34m\u001b[0m\u001b[0m\n\u001b[1;32m    273\u001b[0m     \u001b[0mno_gaps_mask\u001b[0m \u001b[0;34m=\u001b[0m \u001b[0mself\u001b[0m\u001b[0;34m.\u001b[0m\u001b[0mget_no_gaps_masks\u001b[0m\u001b[0;34m(\u001b[0m\u001b[0mtime_array\u001b[0m\u001b[0;34m,\u001b[0m\u001b[0mnum_observed_years\u001b[0m\u001b[0;34m)\u001b[0m\u001b[0;34m\u001b[0m\u001b[0;34m\u001b[0m\u001b[0m\n",
            "\u001b[0;32m<ipython-input-3-ca9373ba5d53>\u001b[0m in \u001b[0;36m__call__\u001b[0;34m(self, Correlation_time, Reverberation_time, duration)\u001b[0m\n\u001b[1;32m    114\u001b[0m \u001b[0;34m\u001b[0m\u001b[0m\n\u001b[1;32m    115\u001b[0m         \u001b[0;31m#start_t = time.time()\u001b[0m\u001b[0;34m\u001b[0m\u001b[0;34m\u001b[0m\u001b[0;34m\u001b[0m\u001b[0m\n\u001b[0;32m--> 116\u001b[0;31m         \u001b[0mmagnitude\u001b[0m \u001b[0;34m=\u001b[0m \u001b[0mCholesky\u001b[0m \u001b[0;34m@\u001b[0m \u001b[0mmagnitude_noise\u001b[0m\u001b[0;34m\u001b[0m\u001b[0;34m\u001b[0m\u001b[0m\n\u001b[0m\u001b[1;32m    117\u001b[0m         \u001b[0;31m#end_t = time.time()\u001b[0m\u001b[0;34m\u001b[0m\u001b[0;34m\u001b[0m\u001b[0;34m\u001b[0m\u001b[0m\n\u001b[1;32m    118\u001b[0m         \u001b[0;31m#print('Matrix multiplication:',end_t-start_t)\u001b[0m\u001b[0;34m\u001b[0m\u001b[0;34m\u001b[0m\u001b[0;34m\u001b[0m\u001b[0m\n",
            "\u001b[0;31mKeyboardInterrupt\u001b[0m: "
          ]
        }
      ],
      "source": [
        "# jax with 50% of gpu (same with 10% actually)\n",
        "for epoch in range(0,6):\n",
        "  train_epoch(log_dir,regressor,learning_rate,\n",
        "                train_loss_history,val_loss_history,\n",
        "                t_cov_history,t_rev_history,\n",
        "                report_iter = 200,epoch_num=epoch+1)"
      ]
    },
    {
      "cell_type": "code",
      "execution_count": null,
      "metadata": {
        "id": "qXvwrf_M9cdR"
      },
      "outputs": [],
      "source": [
        ""
      ]
    },
    {
      "cell_type": "markdown",
      "metadata": {
        "id": "N60FkrjJzksd"
      },
      "source": [
        "## 64 LDE clusters, 64 features (like in LDE paper)"
      ]
    },
    {
      "cell_type": "code",
      "execution_count": null,
      "metadata": {
        "id": "3n9rzRGZzvDj"
      },
      "outputs": [],
      "source": [
        "log_dir= Folder+'Neural_Networks/VGG_LDE_Regressor/checkpoints_stochastic_5_more/conv_64_64_128_128_256_256_proj_64_64_clusters_dopout_0_1/'\n",
        "learning_rate = 5e-4\n",
        "\n",
        "train_loss_history = []\n",
        "val_loss_history = []\n",
        "t_cov_history = []\n",
        "t_rev_history = []"
      ]
    },
    {
      "cell_type": "code",
      "execution_count": null,
      "metadata": {
        "colab": {
          "base_uri": "https://localhost:8080/",
          "height": 759
        },
        "id": "dK5jfgEczvHC",
        "outputId": "5a0f6147-4c02-4ca2-9446-c545fddba89d"
      },
      "outputs": [
        {
          "name": "stderr",
          "output_type": "stream",
          "text": [
            " 32%|███▏      | 200/625 [02:14<04:37,  1.53it/s]"
          ]
        },
        {
          "name": "stdout",
          "output_type": "stream",
          "text": [
            "Iter 200 loss=0.8050 t_cov_loss =0.7534 t_rev_loss = 0.8565\n"
          ]
        },
        {
          "name": "stderr",
          "output_type": "stream",
          "text": [
            " 64%|██████▍   | 400/625 [04:30<02:31,  1.49it/s]"
          ]
        },
        {
          "name": "stdout",
          "output_type": "stream",
          "text": [
            "Iter 400 loss=0.5825 t_cov_loss =0.6758 t_rev_loss = 0.4892\n"
          ]
        },
        {
          "name": "stderr",
          "output_type": "stream",
          "text": [
            " 96%|█████████▌| 600/625 [06:44<00:16,  1.51it/s]"
          ]
        },
        {
          "name": "stdout",
          "output_type": "stream",
          "text": [
            "Iter 600 loss=0.4883 t_cov_loss =0.6343 t_rev_loss = 0.3424\n"
          ]
        },
        {
          "name": "stderr",
          "output_type": "stream",
          "text": [
            "100%|██████████| 625/625 [07:01<00:00,  1.48it/s]\n",
            "100%|██████████| 78/78 [00:48<00:00,  1.61it/s]\n"
          ]
        },
        {
          "name": "stdout",
          "output_type": "stream",
          "text": [
            "Epoch 1, Train loss 0.6182 t_cov 0.6847 t_rev 0.5518, Val loss 0.4462\n"
          ]
        },
        {
          "name": "stderr",
          "output_type": "stream",
          "text": [
            " 32%|███▏      | 200/625 [02:15<04:41,  1.51it/s]"
          ]
        },
        {
          "name": "stdout",
          "output_type": "stream",
          "text": [
            "Iter 200 loss=0.4717 t_cov_loss =0.6456 t_rev_loss = 0.2977\n"
          ]
        },
        {
          "name": "stderr",
          "output_type": "stream",
          "text": [
            " 64%|██████▍   | 400/625 [04:29<02:30,  1.49it/s]"
          ]
        },
        {
          "name": "stdout",
          "output_type": "stream",
          "text": [
            "Iter 400 loss=0.4603 t_cov_loss =0.6340 t_rev_loss = 0.2866\n"
          ]
        },
        {
          "name": "stderr",
          "output_type": "stream",
          "text": [
            " 96%|█████████▌| 600/625 [06:42<00:16,  1.47it/s]"
          ]
        },
        {
          "name": "stdout",
          "output_type": "stream",
          "text": [
            "Iter 600 loss=0.4403 t_cov_loss =0.6251 t_rev_loss = 0.2555\n"
          ]
        },
        {
          "name": "stderr",
          "output_type": "stream",
          "text": [
            "100%|██████████| 625/625 [06:59<00:00,  1.49it/s]\n",
            "100%|██████████| 78/78 [00:48<00:00,  1.62it/s]\n"
          ]
        },
        {
          "name": "stdout",
          "output_type": "stream",
          "text": [
            "Epoch 2, Train loss 0.4559 t_cov 0.6336 t_rev 0.2782, Val loss 0.4275\n"
          ]
        },
        {
          "name": "stderr",
          "output_type": "stream",
          "text": [
            " 32%|███▏      | 200/625 [02:13<04:35,  1.54it/s]"
          ]
        },
        {
          "name": "stdout",
          "output_type": "stream",
          "text": [
            "Iter 200 loss=0.4404 t_cov_loss =0.6293 t_rev_loss = 0.2516\n"
          ]
        },
        {
          "name": "stderr",
          "output_type": "stream",
          "text": [
            " 64%|██████▍   | 400/625 [04:25<02:29,  1.51it/s]"
          ]
        },
        {
          "name": "stdout",
          "output_type": "stream",
          "text": [
            "Iter 400 loss=0.4329 t_cov_loss =0.6218 t_rev_loss = 0.2439\n"
          ]
        },
        {
          "name": "stderr",
          "output_type": "stream",
          "text": [
            " 96%|█████████▌| 600/625 [06:38<00:16,  1.53it/s]"
          ]
        },
        {
          "name": "stdout",
          "output_type": "stream",
          "text": [
            "Iter 600 loss=0.4184 t_cov_loss =0.6067 t_rev_loss = 0.2302\n"
          ]
        },
        {
          "name": "stderr",
          "output_type": "stream",
          "text": [
            "100%|██████████| 625/625 [06:55<00:00,  1.50it/s]\n",
            "100%|██████████| 78/78 [00:49<00:00,  1.58it/s]\n"
          ]
        },
        {
          "name": "stdout",
          "output_type": "stream",
          "text": [
            "Epoch 3, Train loss 0.4296 t_cov 0.6181 t_rev 0.2412, Val loss 0.4332\n"
          ]
        },
        {
          "name": "stderr",
          "output_type": "stream",
          "text": [
            " 32%|███▏      | 200/625 [02:14<04:37,  1.53it/s]"
          ]
        },
        {
          "name": "stdout",
          "output_type": "stream",
          "text": [
            "Iter 200 loss=0.4229 t_cov_loss =0.6210 t_rev_loss = 0.2247\n"
          ]
        },
        {
          "name": "stderr",
          "output_type": "stream",
          "text": [
            " 64%|██████▍   | 400/625 [04:28<02:31,  1.48it/s]"
          ]
        },
        {
          "name": "stdout",
          "output_type": "stream",
          "text": [
            "Iter 400 loss=0.4178 t_cov_loss =0.6143 t_rev_loss = 0.2212\n"
          ]
        },
        {
          "name": "stderr",
          "output_type": "stream",
          "text": [
            " 96%|█████████▌| 600/625 [06:40<00:16,  1.54it/s]"
          ]
        },
        {
          "name": "stdout",
          "output_type": "stream",
          "text": [
            "Iter 600 loss=0.4041 t_cov_loss =0.6013 t_rev_loss = 0.2069\n"
          ]
        },
        {
          "name": "stderr",
          "output_type": "stream",
          "text": [
            "100%|██████████| 625/625 [06:57<00:00,  1.50it/s]\n",
            "100%|██████████| 78/78 [00:50<00:00,  1.54it/s]\n"
          ]
        },
        {
          "name": "stdout",
          "output_type": "stream",
          "text": [
            "Epoch 4, Train loss 0.4143 t_cov 0.6115 t_rev 0.2171, Val loss 0.4138\n"
          ]
        },
        {
          "name": "stderr",
          "output_type": "stream",
          "text": [
            "  5%|▌         | 33/625 [00:22<06:51,  1.44it/s]\n"
          ]
        },
        {
          "ename": "KeyboardInterrupt",
          "evalue": "ignored",
          "output_type": "error",
          "traceback": [
            "\u001b[0;31m---------------------------------------------------------------------------\u001b[0m",
            "\u001b[0;31mKeyboardInterrupt\u001b[0m                         Traceback (most recent call last)",
            "\u001b[0;32m<ipython-input-41-8e83415d82c3>\u001b[0m in \u001b[0;36m<module>\u001b[0;34m()\u001b[0m\n\u001b[1;32m      4\u001b[0m                 \u001b[0mtrain_loss_history\u001b[0m\u001b[0;34m,\u001b[0m\u001b[0mval_loss_history\u001b[0m\u001b[0;34m,\u001b[0m\u001b[0;34m\u001b[0m\u001b[0;34m\u001b[0m\u001b[0m\n\u001b[1;32m      5\u001b[0m                 \u001b[0mt_cov_history\u001b[0m\u001b[0;34m,\u001b[0m\u001b[0mt_rev_history\u001b[0m\u001b[0;34m,\u001b[0m\u001b[0;34m\u001b[0m\u001b[0;34m\u001b[0m\u001b[0m\n\u001b[0;32m----> 6\u001b[0;31m                 report_iter = 200,epoch_num=epoch+1)\n\u001b[0m",
            "\u001b[0;32m<ipython-input-39-17932109f3c3>\u001b[0m in \u001b[0;36mtrain_epoch\u001b[0;34m(log_dir, regressor, learning_rate, train_loss_history, val_loss_history, t_cov_history, t_rev_history, report_iter, epoch_num)\u001b[0m\n\u001b[1;32m     42\u001b[0m     \u001b[0moptimizer\u001b[0m\u001b[0;34m.\u001b[0m\u001b[0mstep\u001b[0m\u001b[0;34m(\u001b[0m\u001b[0;34m)\u001b[0m\u001b[0;34m\u001b[0m\u001b[0;34m\u001b[0m\u001b[0m\n\u001b[1;32m     43\u001b[0m \u001b[0;34m\u001b[0m\u001b[0m\n\u001b[0;32m---> 44\u001b[0;31m     \u001b[0mtrain_history\u001b[0m\u001b[0;34m.\u001b[0m\u001b[0mappend\u001b[0m\u001b[0;34m(\u001b[0m\u001b[0mtrain_loss\u001b[0m\u001b[0;34m.\u001b[0m\u001b[0mitem\u001b[0m\u001b[0;34m(\u001b[0m\u001b[0;34m)\u001b[0m\u001b[0;34m)\u001b[0m\u001b[0;34m\u001b[0m\u001b[0;34m\u001b[0m\u001b[0m\n\u001b[0m\u001b[1;32m     45\u001b[0m     \u001b[0mtrain_t_cov_history\u001b[0m\u001b[0;34m.\u001b[0m\u001b[0mappend\u001b[0m\u001b[0;34m(\u001b[0m\u001b[0mloss\u001b[0m\u001b[0;34m[\u001b[0m\u001b[0;36m0\u001b[0m\u001b[0;34m]\u001b[0m\u001b[0;34m.\u001b[0m\u001b[0mitem\u001b[0m\u001b[0;34m(\u001b[0m\u001b[0;34m)\u001b[0m\u001b[0;34m)\u001b[0m\u001b[0;34m\u001b[0m\u001b[0;34m\u001b[0m\u001b[0m\n\u001b[1;32m     46\u001b[0m     \u001b[0mtrain_t_rev_history\u001b[0m\u001b[0;34m.\u001b[0m\u001b[0mappend\u001b[0m\u001b[0;34m(\u001b[0m\u001b[0mloss\u001b[0m\u001b[0;34m[\u001b[0m\u001b[0;36m1\u001b[0m\u001b[0;34m]\u001b[0m\u001b[0;34m.\u001b[0m\u001b[0mitem\u001b[0m\u001b[0;34m(\u001b[0m\u001b[0;34m)\u001b[0m\u001b[0;34m)\u001b[0m\u001b[0;34m\u001b[0m\u001b[0;34m\u001b[0m\u001b[0m\n",
            "\u001b[0;31mKeyboardInterrupt\u001b[0m: "
          ]
        }
      ],
      "source": [
        "# jax with 50% of gpu (same with 10% actually)\n",
        "for epoch in range(0,6):\n",
        "  train_epoch(log_dir,regressor,learning_rate,\n",
        "                train_loss_history,val_loss_history,\n",
        "                t_cov_history,t_rev_history,\n",
        "                report_iter = 200,epoch_num=epoch+1)"
      ]
    },
    {
      "cell_type": "code",
      "execution_count": null,
      "metadata": {
        "id": "qqQpNrqoz95R"
      },
      "outputs": [],
      "source": [
        ""
      ]
    },
    {
      "cell_type": "code",
      "execution_count": null,
      "metadata": {
        "id": "OgJ3crZxz97-"
      },
      "outputs": [],
      "source": [
        ""
      ]
    },
    {
      "cell_type": "code",
      "execution_count": null,
      "metadata": {
        "id": "Prk-EP4dz-Am"
      },
      "outputs": [],
      "source": [
        ""
      ]
    },
    {
      "cell_type": "code",
      "execution_count": null,
      "metadata": {
        "id": "n0hoF57WzvJt"
      },
      "outputs": [],
      "source": [
        ""
      ]
    },
    {
      "cell_type": "markdown",
      "metadata": {
        "id": "CaE6FdCmzi8g"
      },
      "source": [
        "## 4 LDE clusters, 64 features"
      ]
    },
    {
      "cell_type": "code",
      "execution_count": null,
      "metadata": {
        "id": "MbTQUlx0HXLf"
      },
      "outputs": [],
      "source": [
        "log_dir= Folder+'Neural_Networks/VGG_LDE_Regressor/checkpoints_stochastic_5_more/conv_64_64_128_128_256_256_proj_64_4_clusters_dopout_0_1/'\n",
        "learning_rate = 5e-4\n",
        "\n",
        "train_loss_history = []\n",
        "val_loss_history = []\n",
        "t_cov_history = []\n",
        "t_rev_history = []"
      ]
    },
    {
      "cell_type": "code",
      "execution_count": null,
      "metadata": {
        "colab": {
          "base_uri": "https://localhost:8080/",
          "height": 487
        },
        "id": "MnsZpFh2KHUz",
        "outputId": "ff35dbad-e9f8-47a7-d965-b3887114e363"
      },
      "outputs": [
        {
          "name": "stderr",
          "output_type": "stream",
          "text": [
            " 32%|███▏      | 200/625 [03:26<07:10,  1.01s/it]"
          ]
        },
        {
          "name": "stdout",
          "output_type": "stream",
          "text": [
            "Iter 200 loss=0.7696 t_cov_loss =0.7313 t_rev_loss = 0.8079\n"
          ]
        },
        {
          "name": "stderr",
          "output_type": "stream",
          "text": [
            " 64%|██████▍   | 400/625 [06:55<03:55,  1.05s/it]"
          ]
        },
        {
          "name": "stdout",
          "output_type": "stream",
          "text": [
            "Iter 400 loss=0.5540 t_cov_loss =0.6666 t_rev_loss = 0.4413\n"
          ]
        },
        {
          "name": "stderr",
          "output_type": "stream",
          "text": [
            " 96%|█████████▌| 600/625 [10:21<00:25,  1.01s/it]"
          ]
        },
        {
          "name": "stdout",
          "output_type": "stream",
          "text": [
            "Iter 600 loss=0.4789 t_cov_loss =0.6290 t_rev_loss = 0.3287\n"
          ]
        },
        {
          "name": "stderr",
          "output_type": "stream",
          "text": [
            "100%|██████████| 625/625 [10:46<00:00,  1.03s/it]\n",
            "100%|██████████| 78/78 [01:16<00:00,  1.03it/s]\n"
          ]
        },
        {
          "name": "stdout",
          "output_type": "stream",
          "text": [
            "Epoch 1, Train loss 0.5946 t_cov 0.6731 t_rev 0.5160, Val loss 1.4992\n"
          ]
        },
        {
          "name": "stderr",
          "output_type": "stream",
          "text": [
            " 32%|███▏      | 200/625 [03:23<07:21,  1.04s/it]"
          ]
        },
        {
          "name": "stdout",
          "output_type": "stream",
          "text": [
            "Iter 200 loss=0.4627 t_cov_loss =0.6371 t_rev_loss = 0.2883\n"
          ]
        },
        {
          "name": "stderr",
          "output_type": "stream",
          "text": [
            " 64%|██████▍   | 400/625 [06:48<03:50,  1.03s/it]"
          ]
        },
        {
          "name": "stdout",
          "output_type": "stream",
          "text": [
            "Iter 400 loss=0.4441 t_cov_loss =0.6238 t_rev_loss = 0.2645\n"
          ]
        },
        {
          "name": "stderr",
          "output_type": "stream",
          "text": [
            " 92%|█████████▏| 572/625 [09:44<00:54,  1.02s/it]\n"
          ]
        },
        {
          "ename": "KeyboardInterrupt",
          "evalue": "ignored",
          "output_type": "error",
          "traceback": [
            "\u001b[0;31m---------------------------------------------------------------------------\u001b[0m",
            "\u001b[0;31mKeyboardInterrupt\u001b[0m                         Traceback (most recent call last)",
            "\u001b[0;32m<ipython-input-24-8e83415d82c3>\u001b[0m in \u001b[0;36m<module>\u001b[0;34m()\u001b[0m\n\u001b[1;32m      4\u001b[0m                 \u001b[0mtrain_loss_history\u001b[0m\u001b[0;34m,\u001b[0m\u001b[0mval_loss_history\u001b[0m\u001b[0;34m,\u001b[0m\u001b[0;34m\u001b[0m\u001b[0;34m\u001b[0m\u001b[0m\n\u001b[1;32m      5\u001b[0m                 \u001b[0mt_cov_history\u001b[0m\u001b[0;34m,\u001b[0m\u001b[0mt_rev_history\u001b[0m\u001b[0;34m,\u001b[0m\u001b[0;34m\u001b[0m\u001b[0;34m\u001b[0m\u001b[0m\n\u001b[0;32m----> 6\u001b[0;31m                 report_iter = 200,epoch_num=epoch+1)\n\u001b[0m",
            "\u001b[0;32m<ipython-input-22-7d2c97b39d8f>\u001b[0m in \u001b[0;36mtrain_epoch\u001b[0;34m(log_dir, regressor, learning_rate, train_loss_history, val_loss_history, t_cov_history, t_rev_history, report_iter, epoch_num)\u001b[0m\n\u001b[1;32m     42\u001b[0m     \u001b[0moptimizer\u001b[0m\u001b[0;34m.\u001b[0m\u001b[0mstep\u001b[0m\u001b[0;34m(\u001b[0m\u001b[0;34m)\u001b[0m\u001b[0;34m\u001b[0m\u001b[0;34m\u001b[0m\u001b[0m\n\u001b[1;32m     43\u001b[0m \u001b[0;34m\u001b[0m\u001b[0m\n\u001b[0;32m---> 44\u001b[0;31m     \u001b[0mtrain_history\u001b[0m\u001b[0;34m.\u001b[0m\u001b[0mappend\u001b[0m\u001b[0;34m(\u001b[0m\u001b[0mtrain_loss\u001b[0m\u001b[0;34m.\u001b[0m\u001b[0mitem\u001b[0m\u001b[0;34m(\u001b[0m\u001b[0;34m)\u001b[0m\u001b[0;34m)\u001b[0m\u001b[0;34m\u001b[0m\u001b[0;34m\u001b[0m\u001b[0m\n\u001b[0m\u001b[1;32m     45\u001b[0m     \u001b[0mtrain_t_cov_history\u001b[0m\u001b[0;34m.\u001b[0m\u001b[0mappend\u001b[0m\u001b[0;34m(\u001b[0m\u001b[0mloss\u001b[0m\u001b[0;34m[\u001b[0m\u001b[0;36m0\u001b[0m\u001b[0;34m]\u001b[0m\u001b[0;34m.\u001b[0m\u001b[0mitem\u001b[0m\u001b[0;34m(\u001b[0m\u001b[0;34m)\u001b[0m\u001b[0;34m)\u001b[0m\u001b[0;34m\u001b[0m\u001b[0;34m\u001b[0m\u001b[0m\n\u001b[1;32m     46\u001b[0m     \u001b[0mtrain_t_rev_history\u001b[0m\u001b[0;34m.\u001b[0m\u001b[0mappend\u001b[0m\u001b[0;34m(\u001b[0m\u001b[0mloss\u001b[0m\u001b[0;34m[\u001b[0m\u001b[0;36m1\u001b[0m\u001b[0;34m]\u001b[0m\u001b[0;34m.\u001b[0m\u001b[0mitem\u001b[0m\u001b[0;34m(\u001b[0m\u001b[0;34m)\u001b[0m\u001b[0;34m)\u001b[0m\u001b[0;34m\u001b[0m\u001b[0;34m\u001b[0m\u001b[0m\n",
            "\u001b[0;31mKeyboardInterrupt\u001b[0m: "
          ]
        }
      ],
      "source": [
        "# jax with 50% of gpu (same with 10% actually)\n",
        "for epoch in range(0,6):\n",
        "  train_epoch(log_dir,regressor,learning_rate,\n",
        "                train_loss_history,val_loss_history,\n",
        "                t_cov_history,t_rev_history,\n",
        "                report_iter = 200,epoch_num=epoch+1)"
      ]
    },
    {
      "cell_type": "code",
      "execution_count": null,
      "metadata": {
        "id": "S90WDwu5PVR5"
      },
      "outputs": [],
      "source": [
        "model_dict = torch.load(log_dir+'%d_epoch.pth'%1)\n",
        "regressor.load_state_dict(model_dict['regressor'])\n",
        "train_loss_history = model_dict['train_loss_history']\n",
        "t_cov_history = model_dict['t_cov_history']\n",
        "t_rev_history = model_dict['t_rev_history']\n",
        "val_loss_history = model_dict['val_loss_history']\n",
        "learning_rate = model_dict['lr']"
      ]
    },
    {
      "cell_type": "code",
      "execution_count": null,
      "metadata": {
        "colab": {
          "base_uri": "https://localhost:8080/",
          "height": 460
        },
        "id": "Dy9zv-GVPVUU",
        "outputId": "de810bf4-07fc-47e5-f498-49b14e90383a"
      },
      "outputs": [
        {
          "name": "stderr",
          "output_type": "stream",
          "text": [
            " 32%|███▏      | 200/625 [03:26<07:11,  1.02s/it]"
          ]
        },
        {
          "name": "stdout",
          "output_type": "stream",
          "text": [
            "Iter 200 loss=0.4628 t_cov_loss =0.6383 t_rev_loss = 0.2872\n"
          ]
        },
        {
          "name": "stderr",
          "output_type": "stream",
          "text": [
            " 64%|██████▍   | 400/625 [06:51<03:49,  1.02s/it]"
          ]
        },
        {
          "name": "stdout",
          "output_type": "stream",
          "text": [
            "Iter 400 loss=0.4454 t_cov_loss =0.6277 t_rev_loss = 0.2631\n"
          ]
        },
        {
          "name": "stderr",
          "output_type": "stream",
          "text": [
            " 96%|█████████▌| 600/625 [10:16<00:25,  1.01s/it]"
          ]
        },
        {
          "name": "stdout",
          "output_type": "stream",
          "text": [
            "Iter 600 loss=0.4316 t_cov_loss =0.6146 t_rev_loss = 0.2486\n"
          ]
        },
        {
          "name": "stderr",
          "output_type": "stream",
          "text": [
            "100%|██████████| 625/625 [10:42<00:00,  1.03s/it]\n",
            "100%|██████████| 78/78 [01:15<00:00,  1.03it/s]\n"
          ]
        },
        {
          "name": "stdout",
          "output_type": "stream",
          "text": [
            "Epoch 2, Train loss 0.4453 t_cov 0.6254 t_rev 0.2651, Val loss 1.5308\n"
          ]
        },
        {
          "name": "stderr",
          "output_type": "stream",
          "text": [
            "  2%|▏         | 13/625 [00:13<10:26,  1.02s/it]\n"
          ]
        },
        {
          "ename": "KeyboardInterrupt",
          "evalue": "ignored",
          "output_type": "error",
          "traceback": [
            "\u001b[0;31m---------------------------------------------------------------------------\u001b[0m",
            "\u001b[0;31mKeyboardInterrupt\u001b[0m                         Traceback (most recent call last)",
            "\u001b[0;32m<ipython-input-26-980e687a4b50>\u001b[0m in \u001b[0;36m<module>\u001b[0;34m()\u001b[0m\n\u001b[1;32m      4\u001b[0m                 \u001b[0mtrain_loss_history\u001b[0m\u001b[0;34m,\u001b[0m\u001b[0mval_loss_history\u001b[0m\u001b[0;34m,\u001b[0m\u001b[0;34m\u001b[0m\u001b[0;34m\u001b[0m\u001b[0m\n\u001b[1;32m      5\u001b[0m                 \u001b[0mt_cov_history\u001b[0m\u001b[0;34m,\u001b[0m\u001b[0mt_rev_history\u001b[0m\u001b[0;34m,\u001b[0m\u001b[0;34m\u001b[0m\u001b[0;34m\u001b[0m\u001b[0m\n\u001b[0;32m----> 6\u001b[0;31m                 report_iter = 200,epoch_num=epoch+1)\n\u001b[0m",
            "\u001b[0;32m<ipython-input-22-7d2c97b39d8f>\u001b[0m in \u001b[0;36mtrain_epoch\u001b[0;34m(log_dir, regressor, learning_rate, train_loss_history, val_loss_history, t_cov_history, t_rev_history, report_iter, epoch_num)\u001b[0m\n\u001b[1;32m     17\u001b[0m   \u001b[0mregressor\u001b[0m\u001b[0;34m.\u001b[0m\u001b[0mtrain\u001b[0m\u001b[0;34m(\u001b[0m\u001b[0;34m)\u001b[0m\u001b[0;34m\u001b[0m\u001b[0;34m\u001b[0m\u001b[0m\n\u001b[1;32m     18\u001b[0m \u001b[0;34m\u001b[0m\u001b[0m\n\u001b[0;32m---> 19\u001b[0;31m   \u001b[0;32mfor\u001b[0m \u001b[0mi\u001b[0m\u001b[0;34m,\u001b[0m\u001b[0;34m(\u001b[0m\u001b[0mcontext_splines\u001b[0m\u001b[0;34m,\u001b[0m\u001b[0mout_labels\u001b[0m\u001b[0;34m)\u001b[0m \u001b[0;32min\u001b[0m \u001b[0menumerate\u001b[0m\u001b[0;34m(\u001b[0m\u001b[0mtqdm\u001b[0m\u001b[0;34m(\u001b[0m\u001b[0mtrain_loader\u001b[0m\u001b[0;34m)\u001b[0m\u001b[0;34m)\u001b[0m\u001b[0;34m:\u001b[0m\u001b[0;34m\u001b[0m\u001b[0;34m\u001b[0m\u001b[0m\n\u001b[0m\u001b[1;32m     20\u001b[0m \u001b[0;34m\u001b[0m\u001b[0m\n\u001b[1;32m     21\u001b[0m \u001b[0;34m\u001b[0m\u001b[0m\n",
            "\u001b[0;32m/usr/local/lib/python3.7/dist-packages/tqdm/std.py\u001b[0m in \u001b[0;36m__iter__\u001b[0;34m(self)\u001b[0m\n\u001b[1;32m   1193\u001b[0m \u001b[0;34m\u001b[0m\u001b[0m\n\u001b[1;32m   1194\u001b[0m         \u001b[0;32mtry\u001b[0m\u001b[0;34m:\u001b[0m\u001b[0;34m\u001b[0m\u001b[0;34m\u001b[0m\u001b[0m\n\u001b[0;32m-> 1195\u001b[0;31m             \u001b[0;32mfor\u001b[0m \u001b[0mobj\u001b[0m \u001b[0;32min\u001b[0m \u001b[0miterable\u001b[0m\u001b[0;34m:\u001b[0m\u001b[0;34m\u001b[0m\u001b[0;34m\u001b[0m\u001b[0m\n\u001b[0m\u001b[1;32m   1196\u001b[0m                 \u001b[0;32myield\u001b[0m \u001b[0mobj\u001b[0m\u001b[0;34m\u001b[0m\u001b[0;34m\u001b[0m\u001b[0m\n\u001b[1;32m   1197\u001b[0m                 \u001b[0;31m# Update and possibly print the progressbar.\u001b[0m\u001b[0;34m\u001b[0m\u001b[0;34m\u001b[0m\u001b[0;34m\u001b[0m\u001b[0m\n",
            "\u001b[0;32m/usr/local/lib/python3.7/dist-packages/torch/utils/data/dataloader.py\u001b[0m in \u001b[0;36m__next__\u001b[0;34m(self)\u001b[0m\n\u001b[1;32m    679\u001b[0m                 \u001b[0;31m# TODO(https://github.com/pytorch/pytorch/issues/76750)\u001b[0m\u001b[0;34m\u001b[0m\u001b[0;34m\u001b[0m\u001b[0;34m\u001b[0m\u001b[0m\n\u001b[1;32m    680\u001b[0m                 \u001b[0mself\u001b[0m\u001b[0;34m.\u001b[0m\u001b[0m_reset\u001b[0m\u001b[0;34m(\u001b[0m\u001b[0;34m)\u001b[0m  \u001b[0;31m# type: ignore[call-arg]\u001b[0m\u001b[0;34m\u001b[0m\u001b[0;34m\u001b[0m\u001b[0m\n\u001b[0;32m--> 681\u001b[0;31m             \u001b[0mdata\u001b[0m \u001b[0;34m=\u001b[0m \u001b[0mself\u001b[0m\u001b[0;34m.\u001b[0m\u001b[0m_next_data\u001b[0m\u001b[0;34m(\u001b[0m\u001b[0;34m)\u001b[0m\u001b[0;34m\u001b[0m\u001b[0;34m\u001b[0m\u001b[0m\n\u001b[0m\u001b[1;32m    682\u001b[0m             \u001b[0mself\u001b[0m\u001b[0;34m.\u001b[0m\u001b[0m_num_yielded\u001b[0m \u001b[0;34m+=\u001b[0m \u001b[0;36m1\u001b[0m\u001b[0;34m\u001b[0m\u001b[0;34m\u001b[0m\u001b[0m\n\u001b[1;32m    683\u001b[0m             \u001b[0;32mif\u001b[0m \u001b[0mself\u001b[0m\u001b[0;34m.\u001b[0m\u001b[0m_dataset_kind\u001b[0m \u001b[0;34m==\u001b[0m \u001b[0m_DatasetKind\u001b[0m\u001b[0;34m.\u001b[0m\u001b[0mIterable\u001b[0m \u001b[0;32mand\u001b[0m\u001b[0;31m \u001b[0m\u001b[0;31m\\\u001b[0m\u001b[0;34m\u001b[0m\u001b[0;34m\u001b[0m\u001b[0m\n",
            "\u001b[0;32m/usr/local/lib/python3.7/dist-packages/torch/utils/data/dataloader.py\u001b[0m in \u001b[0;36m_next_data\u001b[0;34m(self)\u001b[0m\n\u001b[1;32m    719\u001b[0m     \u001b[0;32mdef\u001b[0m \u001b[0m_next_data\u001b[0m\u001b[0;34m(\u001b[0m\u001b[0mself\u001b[0m\u001b[0;34m)\u001b[0m\u001b[0;34m:\u001b[0m\u001b[0;34m\u001b[0m\u001b[0;34m\u001b[0m\u001b[0m\n\u001b[1;32m    720\u001b[0m         \u001b[0mindex\u001b[0m \u001b[0;34m=\u001b[0m \u001b[0mself\u001b[0m\u001b[0;34m.\u001b[0m\u001b[0m_next_index\u001b[0m\u001b[0;34m(\u001b[0m\u001b[0;34m)\u001b[0m  \u001b[0;31m# may raise StopIteration\u001b[0m\u001b[0;34m\u001b[0m\u001b[0;34m\u001b[0m\u001b[0m\n\u001b[0;32m--> 721\u001b[0;31m         \u001b[0mdata\u001b[0m \u001b[0;34m=\u001b[0m \u001b[0mself\u001b[0m\u001b[0;34m.\u001b[0m\u001b[0m_dataset_fetcher\u001b[0m\u001b[0;34m.\u001b[0m\u001b[0mfetch\u001b[0m\u001b[0;34m(\u001b[0m\u001b[0mindex\u001b[0m\u001b[0;34m)\u001b[0m  \u001b[0;31m# may raise StopIteration\u001b[0m\u001b[0;34m\u001b[0m\u001b[0;34m\u001b[0m\u001b[0m\n\u001b[0m\u001b[1;32m    722\u001b[0m         \u001b[0;32mif\u001b[0m \u001b[0mself\u001b[0m\u001b[0;34m.\u001b[0m\u001b[0m_pin_memory\u001b[0m\u001b[0;34m:\u001b[0m\u001b[0;34m\u001b[0m\u001b[0;34m\u001b[0m\u001b[0m\n\u001b[1;32m    723\u001b[0m             \u001b[0mdata\u001b[0m \u001b[0;34m=\u001b[0m \u001b[0m_utils\u001b[0m\u001b[0;34m.\u001b[0m\u001b[0mpin_memory\u001b[0m\u001b[0;34m.\u001b[0m\u001b[0mpin_memory\u001b[0m\u001b[0;34m(\u001b[0m\u001b[0mdata\u001b[0m\u001b[0;34m,\u001b[0m \u001b[0mself\u001b[0m\u001b[0;34m.\u001b[0m\u001b[0m_pin_memory_device\u001b[0m\u001b[0;34m)\u001b[0m\u001b[0;34m\u001b[0m\u001b[0;34m\u001b[0m\u001b[0m\n",
            "\u001b[0;32m/usr/local/lib/python3.7/dist-packages/torch/utils/data/_utils/fetch.py\u001b[0m in \u001b[0;36mfetch\u001b[0;34m(self, possibly_batched_index)\u001b[0m\n\u001b[1;32m     47\u001b[0m     \u001b[0;32mdef\u001b[0m \u001b[0mfetch\u001b[0m\u001b[0;34m(\u001b[0m\u001b[0mself\u001b[0m\u001b[0;34m,\u001b[0m \u001b[0mpossibly_batched_index\u001b[0m\u001b[0;34m)\u001b[0m\u001b[0;34m:\u001b[0m\u001b[0;34m\u001b[0m\u001b[0;34m\u001b[0m\u001b[0m\n\u001b[1;32m     48\u001b[0m         \u001b[0;32mif\u001b[0m \u001b[0mself\u001b[0m\u001b[0;34m.\u001b[0m\u001b[0mauto_collation\u001b[0m\u001b[0;34m:\u001b[0m\u001b[0;34m\u001b[0m\u001b[0;34m\u001b[0m\u001b[0m\n\u001b[0;32m---> 49\u001b[0;31m             \u001b[0mdata\u001b[0m \u001b[0;34m=\u001b[0m \u001b[0;34m[\u001b[0m\u001b[0mself\u001b[0m\u001b[0;34m.\u001b[0m\u001b[0mdataset\u001b[0m\u001b[0;34m[\u001b[0m\u001b[0midx\u001b[0m\u001b[0;34m]\u001b[0m \u001b[0;32mfor\u001b[0m \u001b[0midx\u001b[0m \u001b[0;32min\u001b[0m \u001b[0mpossibly_batched_index\u001b[0m\u001b[0;34m]\u001b[0m\u001b[0;34m\u001b[0m\u001b[0;34m\u001b[0m\u001b[0m\n\u001b[0m\u001b[1;32m     50\u001b[0m         \u001b[0;32melse\u001b[0m\u001b[0;34m:\u001b[0m\u001b[0;34m\u001b[0m\u001b[0;34m\u001b[0m\u001b[0m\n\u001b[1;32m     51\u001b[0m             \u001b[0mdata\u001b[0m \u001b[0;34m=\u001b[0m \u001b[0mself\u001b[0m\u001b[0;34m.\u001b[0m\u001b[0mdataset\u001b[0m\u001b[0;34m[\u001b[0m\u001b[0mpossibly_batched_index\u001b[0m\u001b[0;34m]\u001b[0m\u001b[0;34m\u001b[0m\u001b[0;34m\u001b[0m\u001b[0m\n",
            "\u001b[0;32m/usr/local/lib/python3.7/dist-packages/torch/utils/data/_utils/fetch.py\u001b[0m in \u001b[0;36m<listcomp>\u001b[0;34m(.0)\u001b[0m\n\u001b[1;32m     47\u001b[0m     \u001b[0;32mdef\u001b[0m \u001b[0mfetch\u001b[0m\u001b[0;34m(\u001b[0m\u001b[0mself\u001b[0m\u001b[0;34m,\u001b[0m \u001b[0mpossibly_batched_index\u001b[0m\u001b[0;34m)\u001b[0m\u001b[0;34m:\u001b[0m\u001b[0;34m\u001b[0m\u001b[0;34m\u001b[0m\u001b[0m\n\u001b[1;32m     48\u001b[0m         \u001b[0;32mif\u001b[0m \u001b[0mself\u001b[0m\u001b[0;34m.\u001b[0m\u001b[0mauto_collation\u001b[0m\u001b[0;34m:\u001b[0m\u001b[0;34m\u001b[0m\u001b[0;34m\u001b[0m\u001b[0m\n\u001b[0;32m---> 49\u001b[0;31m             \u001b[0mdata\u001b[0m \u001b[0;34m=\u001b[0m \u001b[0;34m[\u001b[0m\u001b[0mself\u001b[0m\u001b[0;34m.\u001b[0m\u001b[0mdataset\u001b[0m\u001b[0;34m[\u001b[0m\u001b[0midx\u001b[0m\u001b[0;34m]\u001b[0m \u001b[0;32mfor\u001b[0m \u001b[0midx\u001b[0m \u001b[0;32min\u001b[0m \u001b[0mpossibly_batched_index\u001b[0m\u001b[0;34m]\u001b[0m\u001b[0;34m\u001b[0m\u001b[0;34m\u001b[0m\u001b[0m\n\u001b[0m\u001b[1;32m     50\u001b[0m         \u001b[0;32melse\u001b[0m\u001b[0;34m:\u001b[0m\u001b[0;34m\u001b[0m\u001b[0;34m\u001b[0m\u001b[0m\n\u001b[1;32m     51\u001b[0m             \u001b[0mdata\u001b[0m \u001b[0;34m=\u001b[0m \u001b[0mself\u001b[0m\u001b[0;34m.\u001b[0m\u001b[0mdataset\u001b[0m\u001b[0;34m[\u001b[0m\u001b[0mpossibly_batched_index\u001b[0m\u001b[0;34m]\u001b[0m\u001b[0;34m\u001b[0m\u001b[0;34m\u001b[0m\u001b[0m\n",
            "\u001b[0;32m<ipython-input-3-ca9373ba5d53>\u001b[0m in \u001b[0;36m__getitem__\u001b[0;34m(self, index)\u001b[0m\n\u001b[1;32m    286\u001b[0m \u001b[0;34m\u001b[0m\u001b[0m\n\u001b[1;32m    287\u001b[0m   \u001b[0;32mdef\u001b[0m \u001b[0m__getitem__\u001b[0m\u001b[0;34m(\u001b[0m\u001b[0mself\u001b[0m\u001b[0;34m,\u001b[0m \u001b[0mindex\u001b[0m\u001b[0;34m)\u001b[0m\u001b[0;34m:\u001b[0m\u001b[0;34m\u001b[0m\u001b[0;34m\u001b[0m\u001b[0m\n\u001b[0;32m--> 288\u001b[0;31m       \u001b[0mitem\u001b[0m \u001b[0;34m=\u001b[0m \u001b[0mself\u001b[0m\u001b[0;34m.\u001b[0m\u001b[0mget_item\u001b[0m\u001b[0;34m(\u001b[0m\u001b[0mindex\u001b[0m\u001b[0;34m)\u001b[0m\u001b[0;34m\u001b[0m\u001b[0;34m\u001b[0m\u001b[0m\n\u001b[0m\u001b[1;32m    289\u001b[0m       \u001b[0;32mreturn\u001b[0m \u001b[0;34m(\u001b[0m\u001b[0;34m*\u001b[0m\u001b[0mitem\u001b[0m\u001b[0;34m,\u001b[0m\u001b[0mindex\u001b[0m\u001b[0;34m)\u001b[0m\u001b[0;34m\u001b[0m\u001b[0;34m\u001b[0m\u001b[0m\n\u001b[1;32m    290\u001b[0m \u001b[0;34m\u001b[0m\u001b[0m\n",
            "\u001b[0;32m<ipython-input-3-ca9373ba5d53>\u001b[0m in \u001b[0;36mget_item\u001b[0;34m(self, label_index)\u001b[0m\n\u001b[1;32m    269\u001b[0m                                                  high=self.max_years+1)\n\u001b[1;32m    270\u001b[0m \u001b[0;34m\u001b[0m\u001b[0m\n\u001b[0;32m--> 271\u001b[0;31m     \u001b[0mtime_array\u001b[0m\u001b[0;34m,\u001b[0m\u001b[0mmagnitude_array\u001b[0m \u001b[0;34m=\u001b[0m \u001b[0mself\u001b[0m\u001b[0;34m.\u001b[0m\u001b[0mRDRW_simulator\u001b[0m\u001b[0;34m(\u001b[0m\u001b[0;34m*\u001b[0m\u001b[0mlabels\u001b[0m\u001b[0;34m,\u001b[0m\u001b[0mduration\u001b[0m\u001b[0;34m=\u001b[0m\u001b[0mnum_observed_years\u001b[0m\u001b[0;34m)\u001b[0m\u001b[0;34m\u001b[0m\u001b[0;34m\u001b[0m\u001b[0m\n\u001b[0m\u001b[1;32m    272\u001b[0m \u001b[0;34m\u001b[0m\u001b[0m\n\u001b[1;32m    273\u001b[0m     \u001b[0mno_gaps_mask\u001b[0m \u001b[0;34m=\u001b[0m \u001b[0mself\u001b[0m\u001b[0;34m.\u001b[0m\u001b[0mget_no_gaps_masks\u001b[0m\u001b[0;34m(\u001b[0m\u001b[0mtime_array\u001b[0m\u001b[0;34m,\u001b[0m\u001b[0mnum_observed_years\u001b[0m\u001b[0;34m)\u001b[0m\u001b[0;34m\u001b[0m\u001b[0;34m\u001b[0m\u001b[0m\n",
            "\u001b[0;32m<ipython-input-3-ca9373ba5d53>\u001b[0m in \u001b[0;36m__call__\u001b[0;34m(self, Correlation_time, Reverberation_time, duration)\u001b[0m\n\u001b[1;32m    104\u001b[0m         \u001b[0;31m#start_t = time.time()\u001b[0m\u001b[0;34m\u001b[0m\u001b[0;34m\u001b[0m\u001b[0;34m\u001b[0m\u001b[0m\n\u001b[1;32m    105\u001b[0m \u001b[0;34m\u001b[0m\u001b[0m\n\u001b[0;32m--> 106\u001b[0;31m         \u001b[0mCholesky\u001b[0m \u001b[0;34m=\u001b[0m \u001b[0mnp\u001b[0m\u001b[0;34m.\u001b[0m\u001b[0masarray\u001b[0m\u001b[0;34m(\u001b[0m\u001b[0mjax_RDRW_Cholesky\u001b[0m\u001b[0;34m(\u001b[0m\u001b[0mtime_array\u001b[0m\u001b[0;34m,\u001b[0m \u001b[0mCorrelation_time\u001b[0m\u001b[0;34m,\u001b[0m\u001b[0mReverberation_time\u001b[0m\u001b[0;34m)\u001b[0m\u001b[0;34m)\u001b[0m\u001b[0;34m\u001b[0m\u001b[0;34m\u001b[0m\u001b[0m\n\u001b[0m\u001b[1;32m    107\u001b[0m         \u001b[0;31m#end_t = time.time()\u001b[0m\u001b[0;34m\u001b[0m\u001b[0;34m\u001b[0m\u001b[0;34m\u001b[0m\u001b[0m\n\u001b[1;32m    108\u001b[0m         \u001b[0;31m#print('Cholesky decomposition:',end_t-start_t)\u001b[0m\u001b[0;34m\u001b[0m\u001b[0;34m\u001b[0m\u001b[0;34m\u001b[0m\u001b[0m\n",
            "\u001b[0;32m/usr/local/lib/python3.7/dist-packages/jax/_src/api.py\u001b[0m in \u001b[0;36m_nan_check_posthook\u001b[0;34m(fun, args, kwargs, output)\u001b[0m\n\u001b[1;32m    137\u001b[0m \u001b[0;34m\u001b[0m\u001b[0m\n\u001b[1;32m    138\u001b[0m   \u001b[0;32mtry\u001b[0m\u001b[0;34m:\u001b[0m\u001b[0;34m\u001b[0m\u001b[0;34m\u001b[0m\u001b[0m\n\u001b[0;32m--> 139\u001b[0;31m     \u001b[0mdispatch\u001b[0m\u001b[0;34m.\u001b[0m\u001b[0mcheck_special\u001b[0m\u001b[0;34m(\u001b[0m\u001b[0mxla\u001b[0m\u001b[0;34m.\u001b[0m\u001b[0mxla_call_p\u001b[0m\u001b[0;34m,\u001b[0m \u001b[0mbuffers\u001b[0m\u001b[0;34m)\u001b[0m\u001b[0;34m\u001b[0m\u001b[0;34m\u001b[0m\u001b[0m\n\u001b[0m\u001b[1;32m    140\u001b[0m   \u001b[0;32mexcept\u001b[0m \u001b[0mFloatingPointError\u001b[0m\u001b[0;34m:\u001b[0m\u001b[0;34m\u001b[0m\u001b[0;34m\u001b[0m\u001b[0m\n\u001b[1;32m    141\u001b[0m     \u001b[0;31m# compiled_fun can only raise in this case\u001b[0m\u001b[0;34m\u001b[0m\u001b[0;34m\u001b[0m\u001b[0;34m\u001b[0m\u001b[0m\n",
            "\u001b[0;32m/usr/local/lib/python3.7/dist-packages/jax/_src/dispatch.py\u001b[0m in \u001b[0;36mcheck_special\u001b[0;34m(name, bufs)\u001b[0m\n\u001b[1;32m    674\u001b[0m   \u001b[0;32mif\u001b[0m \u001b[0mneeds_check_special\u001b[0m\u001b[0;34m(\u001b[0m\u001b[0;34m)\u001b[0m\u001b[0;34m:\u001b[0m\u001b[0;34m\u001b[0m\u001b[0;34m\u001b[0m\u001b[0m\n\u001b[1;32m    675\u001b[0m     \u001b[0;32mfor\u001b[0m \u001b[0mbuf\u001b[0m \u001b[0;32min\u001b[0m \u001b[0mbufs\u001b[0m\u001b[0;34m:\u001b[0m\u001b[0;34m\u001b[0m\u001b[0;34m\u001b[0m\u001b[0m\n\u001b[0;32m--> 676\u001b[0;31m       \u001b[0m_check_special\u001b[0m\u001b[0;34m(\u001b[0m\u001b[0mname\u001b[0m\u001b[0;34m,\u001b[0m \u001b[0mbuf\u001b[0m\u001b[0;34m.\u001b[0m\u001b[0mxla_shape\u001b[0m\u001b[0;34m(\u001b[0m\u001b[0;34m)\u001b[0m\u001b[0;34m,\u001b[0m \u001b[0mbuf\u001b[0m\u001b[0;34m)\u001b[0m\u001b[0;34m\u001b[0m\u001b[0;34m\u001b[0m\u001b[0m\n\u001b[0m\u001b[1;32m    677\u001b[0m \u001b[0;34m\u001b[0m\u001b[0m\n\u001b[1;32m    678\u001b[0m \u001b[0;32mdef\u001b[0m \u001b[0m_check_special\u001b[0m\u001b[0;34m(\u001b[0m\u001b[0mname\u001b[0m\u001b[0;34m,\u001b[0m \u001b[0mxla_shape\u001b[0m\u001b[0;34m,\u001b[0m \u001b[0mbuf\u001b[0m\u001b[0;34m)\u001b[0m\u001b[0;34m:\u001b[0m\u001b[0;34m\u001b[0m\u001b[0;34m\u001b[0m\u001b[0m\n",
            "\u001b[0;32m/usr/local/lib/python3.7/dist-packages/jax/_src/dispatch.py\u001b[0m in \u001b[0;36m_check_special\u001b[0;34m(name, xla_shape, buf)\u001b[0m\n\u001b[1;32m    679\u001b[0m   \u001b[0;32massert\u001b[0m \u001b[0;32mnot\u001b[0m \u001b[0mxla_shape\u001b[0m\u001b[0;34m.\u001b[0m\u001b[0mis_tuple\u001b[0m\u001b[0;34m(\u001b[0m\u001b[0;34m)\u001b[0m\u001b[0;34m\u001b[0m\u001b[0;34m\u001b[0m\u001b[0m\n\u001b[1;32m    680\u001b[0m   \u001b[0;32mif\u001b[0m \u001b[0mdtypes\u001b[0m\u001b[0;34m.\u001b[0m\u001b[0missubdtype\u001b[0m\u001b[0;34m(\u001b[0m\u001b[0mxla_shape\u001b[0m\u001b[0;34m.\u001b[0m\u001b[0melement_type\u001b[0m\u001b[0;34m(\u001b[0m\u001b[0;34m)\u001b[0m\u001b[0;34m,\u001b[0m \u001b[0mnp\u001b[0m\u001b[0;34m.\u001b[0m\u001b[0minexact\u001b[0m\u001b[0;34m)\u001b[0m\u001b[0;34m:\u001b[0m\u001b[0;34m\u001b[0m\u001b[0;34m\u001b[0m\u001b[0m\n\u001b[0;32m--> 681\u001b[0;31m     \u001b[0;32mif\u001b[0m \u001b[0mconfig\u001b[0m\u001b[0;34m.\u001b[0m\u001b[0mjax_debug_nans\u001b[0m \u001b[0;32mand\u001b[0m \u001b[0mnp\u001b[0m\u001b[0;34m.\u001b[0m\u001b[0many\u001b[0m\u001b[0;34m(\u001b[0m\u001b[0mnp\u001b[0m\u001b[0;34m.\u001b[0m\u001b[0misnan\u001b[0m\u001b[0;34m(\u001b[0m\u001b[0mbuf\u001b[0m\u001b[0;34m.\u001b[0m\u001b[0mto_py\u001b[0m\u001b[0;34m(\u001b[0m\u001b[0;34m)\u001b[0m\u001b[0;34m)\u001b[0m\u001b[0;34m)\u001b[0m\u001b[0;34m:\u001b[0m\u001b[0;34m\u001b[0m\u001b[0;34m\u001b[0m\u001b[0m\n\u001b[0m\u001b[1;32m    682\u001b[0m       \u001b[0;32mraise\u001b[0m \u001b[0mFloatingPointError\u001b[0m\u001b[0;34m(\u001b[0m\u001b[0;34mf\"invalid value (nan) encountered in {name}\"\u001b[0m\u001b[0;34m)\u001b[0m\u001b[0;34m\u001b[0m\u001b[0;34m\u001b[0m\u001b[0m\n\u001b[1;32m    683\u001b[0m     \u001b[0;32mif\u001b[0m \u001b[0mconfig\u001b[0m\u001b[0;34m.\u001b[0m\u001b[0mjax_debug_infs\u001b[0m \u001b[0;32mand\u001b[0m \u001b[0mnp\u001b[0m\u001b[0;34m.\u001b[0m\u001b[0many\u001b[0m\u001b[0;34m(\u001b[0m\u001b[0mnp\u001b[0m\u001b[0;34m.\u001b[0m\u001b[0misinf\u001b[0m\u001b[0;34m(\u001b[0m\u001b[0mbuf\u001b[0m\u001b[0;34m.\u001b[0m\u001b[0mto_py\u001b[0m\u001b[0;34m(\u001b[0m\u001b[0;34m)\u001b[0m\u001b[0;34m)\u001b[0m\u001b[0;34m)\u001b[0m\u001b[0;34m:\u001b[0m\u001b[0;34m\u001b[0m\u001b[0;34m\u001b[0m\u001b[0m\n",
            "\u001b[0;31mKeyboardInterrupt\u001b[0m: "
          ]
        }
      ],
      "source": [
        "# jax with 50% of gpu (same with 10% actually)\n",
        "for epoch in range(1,10):\n",
        "  train_epoch(log_dir,regressor,learning_rate,\n",
        "                train_loss_history,val_loss_history,\n",
        "                t_cov_history,t_rev_history,\n",
        "                report_iter = 200,epoch_num=epoch+1)"
      ]
    },
    {
      "cell_type": "code",
      "execution_count": null,
      "metadata": {
        "id": "5_vKpq2AUb-C"
      },
      "outputs": [],
      "source": [
        "model_dict = torch.load(log_dir+'%d_epoch.pth'%2)\n",
        "regressor.load_state_dict(model_dict['regressor'])\n",
        "train_loss_history = model_dict['train_loss_history']\n",
        "t_cov_history = model_dict['t_cov_history']\n",
        "t_rev_history = model_dict['t_rev_history']\n",
        "val_loss_history = model_dict['val_loss_history']\n",
        "learning_rate = model_dict['lr']"
      ]
    },
    {
      "cell_type": "code",
      "execution_count": null,
      "metadata": {
        "colab": {
          "base_uri": "https://localhost:8080/",
          "height": 664
        },
        "id": "IKqof53iUdM1",
        "outputId": "4dc944e4-8f27-44f4-983f-e033d8efc015"
      },
      "outputs": [
        {
          "name": "stderr",
          "output_type": "stream",
          "text": [
            " 32%|███▏      | 200/625 [03:26<07:28,  1.05s/it]"
          ]
        },
        {
          "name": "stdout",
          "output_type": "stream",
          "text": [
            "Iter 200 loss=0.4288 t_cov_loss =0.6164 t_rev_loss = 0.2412\n"
          ]
        },
        {
          "name": "stderr",
          "output_type": "stream",
          "text": [
            " 64%|██████▍   | 400/625 [06:48<03:44,  1.00it/s]"
          ]
        },
        {
          "name": "stdout",
          "output_type": "stream",
          "text": [
            "Iter 400 loss=0.4191 t_cov_loss =0.6158 t_rev_loss = 0.2224\n"
          ]
        },
        {
          "name": "stderr",
          "output_type": "stream",
          "text": [
            " 96%|█████████▌| 600/625 [10:13<00:25,  1.02s/it]"
          ]
        },
        {
          "name": "stdout",
          "output_type": "stream",
          "text": [
            "Iter 600 loss=0.4099 t_cov_loss =0.6047 t_rev_loss = 0.2152\n"
          ]
        },
        {
          "name": "stderr",
          "output_type": "stream",
          "text": [
            "100%|██████████| 625/625 [10:38<00:00,  1.02s/it]\n",
            "100%|██████████| 78/78 [01:16<00:00,  1.02it/s]\n"
          ]
        },
        {
          "name": "stdout",
          "output_type": "stream",
          "text": [
            "Epoch 3, Train loss 0.4184 t_cov 0.6113 t_rev 0.2254, Val loss 0.4096\n"
          ]
        },
        {
          "name": "stderr",
          "output_type": "stream",
          "text": [
            " 32%|███▏      | 200/625 [03:23<07:14,  1.02s/it]"
          ]
        },
        {
          "name": "stdout",
          "output_type": "stream",
          "text": [
            "Iter 200 loss=0.4063 t_cov_loss =0.6007 t_rev_loss = 0.2120\n"
          ]
        },
        {
          "name": "stderr",
          "output_type": "stream",
          "text": [
            " 64%|██████▍   | 400/625 [06:47<03:52,  1.03s/it]"
          ]
        },
        {
          "name": "stdout",
          "output_type": "stream",
          "text": [
            "Iter 400 loss=0.4032 t_cov_loss =0.6049 t_rev_loss = 0.2014\n"
          ]
        },
        {
          "name": "stderr",
          "output_type": "stream",
          "text": [
            " 96%|█████████▌| 600/625 [10:13<00:25,  1.03s/it]"
          ]
        },
        {
          "name": "stdout",
          "output_type": "stream",
          "text": [
            "Iter 600 loss=0.3961 t_cov_loss =0.5976 t_rev_loss = 0.1946\n"
          ]
        },
        {
          "name": "stderr",
          "output_type": "stream",
          "text": [
            "100%|██████████| 625/625 [10:39<00:00,  1.02s/it]\n",
            "100%|██████████| 78/78 [01:17<00:00,  1.00it/s]\n"
          ]
        },
        {
          "name": "stdout",
          "output_type": "stream",
          "text": [
            "Epoch 4, Train loss 0.4012 t_cov 0.6001 t_rev 0.2023, Val loss 0.4428\n"
          ]
        },
        {
          "name": "stderr",
          "output_type": "stream",
          "text": [
            " 32%|███▏      | 200/625 [03:26<07:14,  1.02s/it]"
          ]
        },
        {
          "name": "stdout",
          "output_type": "stream",
          "text": [
            "Iter 200 loss=0.3939 t_cov_loss =0.5970 t_rev_loss = 0.1909\n"
          ]
        },
        {
          "name": "stderr",
          "output_type": "stream",
          "text": [
            " 64%|██████▍   | 400/625 [06:52<03:47,  1.01s/it]"
          ]
        },
        {
          "name": "stdout",
          "output_type": "stream",
          "text": [
            "Iter 400 loss=0.3981 t_cov_loss =0.6068 t_rev_loss = 0.1894\n"
          ]
        },
        {
          "name": "stderr",
          "output_type": "stream",
          "text": [
            " 96%|█████████▌| 600/625 [10:16<00:25,  1.01s/it]"
          ]
        },
        {
          "name": "stdout",
          "output_type": "stream",
          "text": [
            "Iter 600 loss=0.3863 t_cov_loss =0.5892 t_rev_loss = 0.1834\n"
          ]
        },
        {
          "name": "stderr",
          "output_type": "stream",
          "text": [
            "100%|██████████| 625/625 [10:43<00:00,  1.03s/it]\n",
            "100%|██████████| 78/78 [01:16<00:00,  1.02it/s]\n"
          ]
        },
        {
          "name": "stdout",
          "output_type": "stream",
          "text": [
            "Epoch 5, Train loss 0.3924 t_cov 0.5974 t_rev 0.1874, Val loss 0.3901\n"
          ]
        },
        {
          "name": "stderr",
          "output_type": "stream",
          "text": [
            "  7%|▋         | 42/625 [00:43<10:01,  1.03s/it]\n"
          ]
        },
        {
          "ename": "KeyboardInterrupt",
          "evalue": "ignored",
          "output_type": "error",
          "traceback": [
            "\u001b[0;31m---------------------------------------------------------------------------\u001b[0m",
            "\u001b[0;31mKeyboardInterrupt\u001b[0m                         Traceback (most recent call last)",
            "\u001b[0;32m<ipython-input-37-96c41e1bea85>\u001b[0m in \u001b[0;36m<module>\u001b[0;34m()\u001b[0m\n\u001b[1;32m      4\u001b[0m                 \u001b[0mtrain_loss_history\u001b[0m\u001b[0;34m,\u001b[0m\u001b[0mval_loss_history\u001b[0m\u001b[0;34m,\u001b[0m\u001b[0;34m\u001b[0m\u001b[0;34m\u001b[0m\u001b[0m\n\u001b[1;32m      5\u001b[0m                 \u001b[0mt_cov_history\u001b[0m\u001b[0;34m,\u001b[0m\u001b[0mt_rev_history\u001b[0m\u001b[0;34m,\u001b[0m\u001b[0;34m\u001b[0m\u001b[0;34m\u001b[0m\u001b[0m\n\u001b[0;32m----> 6\u001b[0;31m                 report_iter = 200,epoch_num=epoch+1)\n\u001b[0m",
            "\u001b[0;32m<ipython-input-35-17932109f3c3>\u001b[0m in \u001b[0;36mtrain_epoch\u001b[0;34m(log_dir, regressor, learning_rate, train_loss_history, val_loss_history, t_cov_history, t_rev_history, report_iter, epoch_num)\u001b[0m\n\u001b[1;32m     17\u001b[0m   \u001b[0mregressor\u001b[0m\u001b[0;34m.\u001b[0m\u001b[0mtrain\u001b[0m\u001b[0;34m(\u001b[0m\u001b[0;34m)\u001b[0m\u001b[0;34m\u001b[0m\u001b[0;34m\u001b[0m\u001b[0m\n\u001b[1;32m     18\u001b[0m \u001b[0;34m\u001b[0m\u001b[0m\n\u001b[0;32m---> 19\u001b[0;31m   \u001b[0;32mfor\u001b[0m \u001b[0mi\u001b[0m\u001b[0;34m,\u001b[0m\u001b[0;34m(\u001b[0m\u001b[0mcontext_splines\u001b[0m\u001b[0;34m,\u001b[0m\u001b[0mout_labels\u001b[0m\u001b[0;34m)\u001b[0m \u001b[0;32min\u001b[0m \u001b[0menumerate\u001b[0m\u001b[0;34m(\u001b[0m\u001b[0mtqdm\u001b[0m\u001b[0;34m(\u001b[0m\u001b[0mtrain_loader\u001b[0m\u001b[0;34m)\u001b[0m\u001b[0;34m)\u001b[0m\u001b[0;34m:\u001b[0m\u001b[0;34m\u001b[0m\u001b[0;34m\u001b[0m\u001b[0m\n\u001b[0m\u001b[1;32m     20\u001b[0m \u001b[0;34m\u001b[0m\u001b[0m\n\u001b[1;32m     21\u001b[0m \u001b[0;34m\u001b[0m\u001b[0m\n",
            "\u001b[0;32m/usr/local/lib/python3.7/dist-packages/tqdm/std.py\u001b[0m in \u001b[0;36m__iter__\u001b[0;34m(self)\u001b[0m\n\u001b[1;32m   1193\u001b[0m \u001b[0;34m\u001b[0m\u001b[0m\n\u001b[1;32m   1194\u001b[0m         \u001b[0;32mtry\u001b[0m\u001b[0;34m:\u001b[0m\u001b[0;34m\u001b[0m\u001b[0;34m\u001b[0m\u001b[0m\n\u001b[0;32m-> 1195\u001b[0;31m             \u001b[0;32mfor\u001b[0m \u001b[0mobj\u001b[0m \u001b[0;32min\u001b[0m \u001b[0miterable\u001b[0m\u001b[0;34m:\u001b[0m\u001b[0;34m\u001b[0m\u001b[0;34m\u001b[0m\u001b[0m\n\u001b[0m\u001b[1;32m   1196\u001b[0m                 \u001b[0;32myield\u001b[0m \u001b[0mobj\u001b[0m\u001b[0;34m\u001b[0m\u001b[0;34m\u001b[0m\u001b[0m\n\u001b[1;32m   1197\u001b[0m                 \u001b[0;31m# Update and possibly print the progressbar.\u001b[0m\u001b[0;34m\u001b[0m\u001b[0;34m\u001b[0m\u001b[0;34m\u001b[0m\u001b[0m\n",
            "\u001b[0;32m/usr/local/lib/python3.7/dist-packages/torch/utils/data/dataloader.py\u001b[0m in \u001b[0;36m__next__\u001b[0;34m(self)\u001b[0m\n\u001b[1;32m    679\u001b[0m                 \u001b[0;31m# TODO(https://github.com/pytorch/pytorch/issues/76750)\u001b[0m\u001b[0;34m\u001b[0m\u001b[0;34m\u001b[0m\u001b[0;34m\u001b[0m\u001b[0m\n\u001b[1;32m    680\u001b[0m                 \u001b[0mself\u001b[0m\u001b[0;34m.\u001b[0m\u001b[0m_reset\u001b[0m\u001b[0;34m(\u001b[0m\u001b[0;34m)\u001b[0m  \u001b[0;31m# type: ignore[call-arg]\u001b[0m\u001b[0;34m\u001b[0m\u001b[0;34m\u001b[0m\u001b[0m\n\u001b[0;32m--> 681\u001b[0;31m             \u001b[0mdata\u001b[0m \u001b[0;34m=\u001b[0m \u001b[0mself\u001b[0m\u001b[0;34m.\u001b[0m\u001b[0m_next_data\u001b[0m\u001b[0;34m(\u001b[0m\u001b[0;34m)\u001b[0m\u001b[0;34m\u001b[0m\u001b[0;34m\u001b[0m\u001b[0m\n\u001b[0m\u001b[1;32m    682\u001b[0m             \u001b[0mself\u001b[0m\u001b[0;34m.\u001b[0m\u001b[0m_num_yielded\u001b[0m \u001b[0;34m+=\u001b[0m \u001b[0;36m1\u001b[0m\u001b[0;34m\u001b[0m\u001b[0;34m\u001b[0m\u001b[0m\n\u001b[1;32m    683\u001b[0m             \u001b[0;32mif\u001b[0m \u001b[0mself\u001b[0m\u001b[0;34m.\u001b[0m\u001b[0m_dataset_kind\u001b[0m \u001b[0;34m==\u001b[0m \u001b[0m_DatasetKind\u001b[0m\u001b[0;34m.\u001b[0m\u001b[0mIterable\u001b[0m \u001b[0;32mand\u001b[0m\u001b[0;31m \u001b[0m\u001b[0;31m\\\u001b[0m\u001b[0;34m\u001b[0m\u001b[0;34m\u001b[0m\u001b[0m\n",
            "\u001b[0;32m/usr/local/lib/python3.7/dist-packages/torch/utils/data/dataloader.py\u001b[0m in \u001b[0;36m_next_data\u001b[0;34m(self)\u001b[0m\n\u001b[1;32m    719\u001b[0m     \u001b[0;32mdef\u001b[0m \u001b[0m_next_data\u001b[0m\u001b[0;34m(\u001b[0m\u001b[0mself\u001b[0m\u001b[0;34m)\u001b[0m\u001b[0;34m:\u001b[0m\u001b[0;34m\u001b[0m\u001b[0;34m\u001b[0m\u001b[0m\n\u001b[1;32m    720\u001b[0m         \u001b[0mindex\u001b[0m \u001b[0;34m=\u001b[0m \u001b[0mself\u001b[0m\u001b[0;34m.\u001b[0m\u001b[0m_next_index\u001b[0m\u001b[0;34m(\u001b[0m\u001b[0;34m)\u001b[0m  \u001b[0;31m# may raise StopIteration\u001b[0m\u001b[0;34m\u001b[0m\u001b[0;34m\u001b[0m\u001b[0m\n\u001b[0;32m--> 721\u001b[0;31m         \u001b[0mdata\u001b[0m \u001b[0;34m=\u001b[0m \u001b[0mself\u001b[0m\u001b[0;34m.\u001b[0m\u001b[0m_dataset_fetcher\u001b[0m\u001b[0;34m.\u001b[0m\u001b[0mfetch\u001b[0m\u001b[0;34m(\u001b[0m\u001b[0mindex\u001b[0m\u001b[0;34m)\u001b[0m  \u001b[0;31m# may raise StopIteration\u001b[0m\u001b[0;34m\u001b[0m\u001b[0;34m\u001b[0m\u001b[0m\n\u001b[0m\u001b[1;32m    722\u001b[0m         \u001b[0;32mif\u001b[0m \u001b[0mself\u001b[0m\u001b[0;34m.\u001b[0m\u001b[0m_pin_memory\u001b[0m\u001b[0;34m:\u001b[0m\u001b[0;34m\u001b[0m\u001b[0;34m\u001b[0m\u001b[0m\n\u001b[1;32m    723\u001b[0m             \u001b[0mdata\u001b[0m \u001b[0;34m=\u001b[0m \u001b[0m_utils\u001b[0m\u001b[0;34m.\u001b[0m\u001b[0mpin_memory\u001b[0m\u001b[0;34m.\u001b[0m\u001b[0mpin_memory\u001b[0m\u001b[0;34m(\u001b[0m\u001b[0mdata\u001b[0m\u001b[0;34m,\u001b[0m \u001b[0mself\u001b[0m\u001b[0;34m.\u001b[0m\u001b[0m_pin_memory_device\u001b[0m\u001b[0;34m)\u001b[0m\u001b[0;34m\u001b[0m\u001b[0;34m\u001b[0m\u001b[0m\n",
            "\u001b[0;32m/usr/local/lib/python3.7/dist-packages/torch/utils/data/_utils/fetch.py\u001b[0m in \u001b[0;36mfetch\u001b[0;34m(self, possibly_batched_index)\u001b[0m\n\u001b[1;32m     47\u001b[0m     \u001b[0;32mdef\u001b[0m \u001b[0mfetch\u001b[0m\u001b[0;34m(\u001b[0m\u001b[0mself\u001b[0m\u001b[0;34m,\u001b[0m \u001b[0mpossibly_batched_index\u001b[0m\u001b[0;34m)\u001b[0m\u001b[0;34m:\u001b[0m\u001b[0;34m\u001b[0m\u001b[0;34m\u001b[0m\u001b[0m\n\u001b[1;32m     48\u001b[0m         \u001b[0;32mif\u001b[0m \u001b[0mself\u001b[0m\u001b[0;34m.\u001b[0m\u001b[0mauto_collation\u001b[0m\u001b[0;34m:\u001b[0m\u001b[0;34m\u001b[0m\u001b[0;34m\u001b[0m\u001b[0m\n\u001b[0;32m---> 49\u001b[0;31m             \u001b[0mdata\u001b[0m \u001b[0;34m=\u001b[0m \u001b[0;34m[\u001b[0m\u001b[0mself\u001b[0m\u001b[0;34m.\u001b[0m\u001b[0mdataset\u001b[0m\u001b[0;34m[\u001b[0m\u001b[0midx\u001b[0m\u001b[0;34m]\u001b[0m \u001b[0;32mfor\u001b[0m \u001b[0midx\u001b[0m \u001b[0;32min\u001b[0m \u001b[0mpossibly_batched_index\u001b[0m\u001b[0;34m]\u001b[0m\u001b[0;34m\u001b[0m\u001b[0;34m\u001b[0m\u001b[0m\n\u001b[0m\u001b[1;32m     50\u001b[0m         \u001b[0;32melse\u001b[0m\u001b[0;34m:\u001b[0m\u001b[0;34m\u001b[0m\u001b[0;34m\u001b[0m\u001b[0m\n\u001b[1;32m     51\u001b[0m             \u001b[0mdata\u001b[0m \u001b[0;34m=\u001b[0m \u001b[0mself\u001b[0m\u001b[0;34m.\u001b[0m\u001b[0mdataset\u001b[0m\u001b[0;34m[\u001b[0m\u001b[0mpossibly_batched_index\u001b[0m\u001b[0;34m]\u001b[0m\u001b[0;34m\u001b[0m\u001b[0;34m\u001b[0m\u001b[0m\n",
            "\u001b[0;32m/usr/local/lib/python3.7/dist-packages/torch/utils/data/_utils/fetch.py\u001b[0m in \u001b[0;36m<listcomp>\u001b[0;34m(.0)\u001b[0m\n\u001b[1;32m     47\u001b[0m     \u001b[0;32mdef\u001b[0m \u001b[0mfetch\u001b[0m\u001b[0;34m(\u001b[0m\u001b[0mself\u001b[0m\u001b[0;34m,\u001b[0m \u001b[0mpossibly_batched_index\u001b[0m\u001b[0;34m)\u001b[0m\u001b[0;34m:\u001b[0m\u001b[0;34m\u001b[0m\u001b[0;34m\u001b[0m\u001b[0m\n\u001b[1;32m     48\u001b[0m         \u001b[0;32mif\u001b[0m \u001b[0mself\u001b[0m\u001b[0;34m.\u001b[0m\u001b[0mauto_collation\u001b[0m\u001b[0;34m:\u001b[0m\u001b[0;34m\u001b[0m\u001b[0;34m\u001b[0m\u001b[0m\n\u001b[0;32m---> 49\u001b[0;31m             \u001b[0mdata\u001b[0m \u001b[0;34m=\u001b[0m \u001b[0;34m[\u001b[0m\u001b[0mself\u001b[0m\u001b[0;34m.\u001b[0m\u001b[0mdataset\u001b[0m\u001b[0;34m[\u001b[0m\u001b[0midx\u001b[0m\u001b[0;34m]\u001b[0m \u001b[0;32mfor\u001b[0m \u001b[0midx\u001b[0m \u001b[0;32min\u001b[0m \u001b[0mpossibly_batched_index\u001b[0m\u001b[0;34m]\u001b[0m\u001b[0;34m\u001b[0m\u001b[0;34m\u001b[0m\u001b[0m\n\u001b[0m\u001b[1;32m     50\u001b[0m         \u001b[0;32melse\u001b[0m\u001b[0;34m:\u001b[0m\u001b[0;34m\u001b[0m\u001b[0;34m\u001b[0m\u001b[0m\n\u001b[1;32m     51\u001b[0m             \u001b[0mdata\u001b[0m \u001b[0;34m=\u001b[0m \u001b[0mself\u001b[0m\u001b[0;34m.\u001b[0m\u001b[0mdataset\u001b[0m\u001b[0;34m[\u001b[0m\u001b[0mpossibly_batched_index\u001b[0m\u001b[0;34m]\u001b[0m\u001b[0;34m\u001b[0m\u001b[0;34m\u001b[0m\u001b[0m\n",
            "\u001b[0;32m<ipython-input-3-ca9373ba5d53>\u001b[0m in \u001b[0;36m__getitem__\u001b[0;34m(self, index)\u001b[0m\n\u001b[1;32m    286\u001b[0m \u001b[0;34m\u001b[0m\u001b[0m\n\u001b[1;32m    287\u001b[0m   \u001b[0;32mdef\u001b[0m \u001b[0m__getitem__\u001b[0m\u001b[0;34m(\u001b[0m\u001b[0mself\u001b[0m\u001b[0;34m,\u001b[0m \u001b[0mindex\u001b[0m\u001b[0;34m)\u001b[0m\u001b[0;34m:\u001b[0m\u001b[0;34m\u001b[0m\u001b[0;34m\u001b[0m\u001b[0m\n\u001b[0;32m--> 288\u001b[0;31m       \u001b[0mitem\u001b[0m \u001b[0;34m=\u001b[0m \u001b[0mself\u001b[0m\u001b[0;34m.\u001b[0m\u001b[0mget_item\u001b[0m\u001b[0;34m(\u001b[0m\u001b[0mindex\u001b[0m\u001b[0;34m)\u001b[0m\u001b[0;34m\u001b[0m\u001b[0;34m\u001b[0m\u001b[0m\n\u001b[0m\u001b[1;32m    289\u001b[0m       \u001b[0;32mreturn\u001b[0m \u001b[0;34m(\u001b[0m\u001b[0;34m*\u001b[0m\u001b[0mitem\u001b[0m\u001b[0;34m,\u001b[0m\u001b[0mindex\u001b[0m\u001b[0;34m)\u001b[0m\u001b[0;34m\u001b[0m\u001b[0;34m\u001b[0m\u001b[0m\n\u001b[1;32m    290\u001b[0m \u001b[0;34m\u001b[0m\u001b[0m\n",
            "\u001b[0;32m<ipython-input-3-ca9373ba5d53>\u001b[0m in \u001b[0;36mget_item\u001b[0;34m(self, label_index)\u001b[0m\n\u001b[1;32m    269\u001b[0m                                                  high=self.max_years+1)\n\u001b[1;32m    270\u001b[0m \u001b[0;34m\u001b[0m\u001b[0m\n\u001b[0;32m--> 271\u001b[0;31m     \u001b[0mtime_array\u001b[0m\u001b[0;34m,\u001b[0m\u001b[0mmagnitude_array\u001b[0m \u001b[0;34m=\u001b[0m \u001b[0mself\u001b[0m\u001b[0;34m.\u001b[0m\u001b[0mRDRW_simulator\u001b[0m\u001b[0;34m(\u001b[0m\u001b[0;34m*\u001b[0m\u001b[0mlabels\u001b[0m\u001b[0;34m,\u001b[0m\u001b[0mduration\u001b[0m\u001b[0;34m=\u001b[0m\u001b[0mnum_observed_years\u001b[0m\u001b[0;34m)\u001b[0m\u001b[0;34m\u001b[0m\u001b[0;34m\u001b[0m\u001b[0m\n\u001b[0m\u001b[1;32m    272\u001b[0m \u001b[0;34m\u001b[0m\u001b[0m\n\u001b[1;32m    273\u001b[0m     \u001b[0mno_gaps_mask\u001b[0m \u001b[0;34m=\u001b[0m \u001b[0mself\u001b[0m\u001b[0;34m.\u001b[0m\u001b[0mget_no_gaps_masks\u001b[0m\u001b[0;34m(\u001b[0m\u001b[0mtime_array\u001b[0m\u001b[0;34m,\u001b[0m\u001b[0mnum_observed_years\u001b[0m\u001b[0;34m)\u001b[0m\u001b[0;34m\u001b[0m\u001b[0;34m\u001b[0m\u001b[0m\n",
            "\u001b[0;32m<ipython-input-3-ca9373ba5d53>\u001b[0m in \u001b[0;36m__call__\u001b[0;34m(self, Correlation_time, Reverberation_time, duration)\u001b[0m\n\u001b[1;32m    114\u001b[0m \u001b[0;34m\u001b[0m\u001b[0m\n\u001b[1;32m    115\u001b[0m         \u001b[0;31m#start_t = time.time()\u001b[0m\u001b[0;34m\u001b[0m\u001b[0;34m\u001b[0m\u001b[0;34m\u001b[0m\u001b[0m\n\u001b[0;32m--> 116\u001b[0;31m         \u001b[0mmagnitude\u001b[0m \u001b[0;34m=\u001b[0m \u001b[0mCholesky\u001b[0m \u001b[0;34m@\u001b[0m \u001b[0mmagnitude_noise\u001b[0m\u001b[0;34m\u001b[0m\u001b[0;34m\u001b[0m\u001b[0m\n\u001b[0m\u001b[1;32m    117\u001b[0m         \u001b[0;31m#end_t = time.time()\u001b[0m\u001b[0;34m\u001b[0m\u001b[0;34m\u001b[0m\u001b[0;34m\u001b[0m\u001b[0m\n\u001b[1;32m    118\u001b[0m         \u001b[0;31m#print('Matrix multiplication:',end_t-start_t)\u001b[0m\u001b[0;34m\u001b[0m\u001b[0;34m\u001b[0m\u001b[0;34m\u001b[0m\u001b[0m\n",
            "\u001b[0;31mKeyboardInterrupt\u001b[0m: "
          ]
        }
      ],
      "source": [
        "# jax with 50% of gpu (same with 10% actually)\n",
        "for epoch in range(2,10):\n",
        "  train_epoch(log_dir,regressor,learning_rate,\n",
        "                train_loss_history,val_loss_history,\n",
        "                t_cov_history,t_rev_history,\n",
        "                report_iter = 200,epoch_num=epoch+1)"
      ]
    },
    {
      "cell_type": "code",
      "execution_count": null,
      "metadata": {
        "id": "DZkIiN-8UdPc"
      },
      "outputs": [],
      "source": [
        "model_dict = torch.load(log_dir+'%d_epoch.pth'%5)\n",
        "regressor.load_state_dict(model_dict['regressor'])\n",
        "train_loss_history = model_dict['train_loss_history']\n",
        "t_cov_history = model_dict['t_cov_history']\n",
        "t_rev_history = model_dict['t_rev_history']\n",
        "val_loss_history = model_dict['val_loss_history']\n",
        "learning_rate = model_dict['lr']"
      ]
    },
    {
      "cell_type": "code",
      "execution_count": null,
      "metadata": {
        "id": "EKU69Auec870"
      },
      "outputs": [],
      "source": [
        "learning_rate = 1e-4"
      ]
    },
    {
      "cell_type": "code",
      "execution_count": null,
      "metadata": {
        "colab": {
          "base_uri": "https://localhost:8080/",
          "height": 664
        },
        "id": "HIvX5-WZc9AH",
        "outputId": "62155653-d694-4639-f933-b47936e88bcf"
      },
      "outputs": [
        {
          "name": "stderr",
          "output_type": "stream",
          "text": [
            " 32%|███▏      | 200/625 [03:25<07:13,  1.02s/it]"
          ]
        },
        {
          "name": "stdout",
          "output_type": "stream",
          "text": [
            "Iter 200 loss=0.3797 t_cov_loss =0.5880 t_rev_loss = 0.1714\n"
          ]
        },
        {
          "name": "stderr",
          "output_type": "stream",
          "text": [
            " 64%|██████▍   | 400/625 [06:50<03:44,  1.00it/s]"
          ]
        },
        {
          "name": "stdout",
          "output_type": "stream",
          "text": [
            "Iter 400 loss=0.3833 t_cov_loss =0.5976 t_rev_loss = 0.1690\n"
          ]
        },
        {
          "name": "stderr",
          "output_type": "stream",
          "text": [
            " 96%|█████████▌| 600/625 [10:13<00:28,  1.13s/it]"
          ]
        },
        {
          "name": "stdout",
          "output_type": "stream",
          "text": [
            "Iter 600 loss=0.3765 t_cov_loss =0.5883 t_rev_loss = 0.1647\n"
          ]
        },
        {
          "name": "stderr",
          "output_type": "stream",
          "text": [
            "100%|██████████| 625/625 [10:39<00:00,  1.02s/it]\n",
            "100%|██████████| 78/78 [01:15<00:00,  1.03it/s]\n"
          ]
        },
        {
          "name": "stdout",
          "output_type": "stream",
          "text": [
            "Epoch 6, Train loss 0.3793 t_cov 0.5906 t_rev 0.1680, Val loss 0.3689\n"
          ]
        },
        {
          "name": "stderr",
          "output_type": "stream",
          "text": [
            " 32%|███▏      | 200/625 [03:24<07:13,  1.02s/it]"
          ]
        },
        {
          "name": "stdout",
          "output_type": "stream",
          "text": [
            "Iter 200 loss=0.3723 t_cov_loss =0.5808 t_rev_loss = 0.1637\n"
          ]
        },
        {
          "name": "stderr",
          "output_type": "stream",
          "text": [
            " 64%|██████▍   | 400/625 [06:48<03:52,  1.03s/it]"
          ]
        },
        {
          "name": "stdout",
          "output_type": "stream",
          "text": [
            "Iter 400 loss=0.3771 t_cov_loss =0.5887 t_rev_loss = 0.1654\n"
          ]
        },
        {
          "name": "stderr",
          "output_type": "stream",
          "text": [
            " 96%|█████████▌| 600/625 [10:13<00:25,  1.02s/it]"
          ]
        },
        {
          "name": "stdout",
          "output_type": "stream",
          "text": [
            "Iter 600 loss=0.3709 t_cov_loss =0.5793 t_rev_loss = 0.1625\n"
          ]
        },
        {
          "name": "stderr",
          "output_type": "stream",
          "text": [
            "100%|██████████| 625/625 [10:38<00:00,  1.02s/it]\n",
            "100%|██████████| 78/78 [01:14<00:00,  1.05it/s]\n"
          ]
        },
        {
          "name": "stdout",
          "output_type": "stream",
          "text": [
            "Epoch 7, Train loss 0.3733 t_cov 0.5830 t_rev 0.1637, Val loss 0.3681\n"
          ]
        },
        {
          "name": "stderr",
          "output_type": "stream",
          "text": [
            " 32%|███▏      | 200/625 [03:24<07:19,  1.03s/it]"
          ]
        },
        {
          "name": "stdout",
          "output_type": "stream",
          "text": [
            "Iter 200 loss=0.3769 t_cov_loss =0.5896 t_rev_loss = 0.1642\n"
          ]
        },
        {
          "name": "stderr",
          "output_type": "stream",
          "text": [
            " 64%|██████▍   | 400/625 [06:50<03:55,  1.05s/it]"
          ]
        },
        {
          "name": "stdout",
          "output_type": "stream",
          "text": [
            "Iter 400 loss=0.3744 t_cov_loss =0.5847 t_rev_loss = 0.1641\n"
          ]
        },
        {
          "name": "stderr",
          "output_type": "stream",
          "text": [
            " 96%|█████████▌| 600/625 [10:16<00:24,  1.00it/s]"
          ]
        },
        {
          "name": "stdout",
          "output_type": "stream",
          "text": [
            "Iter 600 loss=0.3715 t_cov_loss =0.5810 t_rev_loss = 0.1620\n"
          ]
        },
        {
          "name": "stderr",
          "output_type": "stream",
          "text": [
            "100%|██████████| 625/625 [10:42<00:00,  1.03s/it]\n",
            "100%|██████████| 78/78 [01:16<00:00,  1.02it/s]\n"
          ]
        },
        {
          "name": "stdout",
          "output_type": "stream",
          "text": [
            "Epoch 8, Train loss 0.3739 t_cov 0.5848 t_rev 0.1631, Val loss 0.3681\n"
          ]
        },
        {
          "name": "stderr",
          "output_type": "stream",
          "text": [
            " 29%|██▉       | 180/625 [03:06<07:40,  1.03s/it]\n"
          ]
        },
        {
          "ename": "KeyboardInterrupt",
          "evalue": "ignored",
          "output_type": "error",
          "traceback": [
            "\u001b[0;31m---------------------------------------------------------------------------\u001b[0m",
            "\u001b[0;31mKeyboardInterrupt\u001b[0m                         Traceback (most recent call last)",
            "\u001b[0;32m<ipython-input-40-9cbcafd8a5eb>\u001b[0m in \u001b[0;36m<module>\u001b[0;34m()\u001b[0m\n\u001b[1;32m      4\u001b[0m                 \u001b[0mtrain_loss_history\u001b[0m\u001b[0;34m,\u001b[0m\u001b[0mval_loss_history\u001b[0m\u001b[0;34m,\u001b[0m\u001b[0;34m\u001b[0m\u001b[0;34m\u001b[0m\u001b[0m\n\u001b[1;32m      5\u001b[0m                 \u001b[0mt_cov_history\u001b[0m\u001b[0;34m,\u001b[0m\u001b[0mt_rev_history\u001b[0m\u001b[0;34m,\u001b[0m\u001b[0;34m\u001b[0m\u001b[0;34m\u001b[0m\u001b[0m\n\u001b[0;32m----> 6\u001b[0;31m                 report_iter = 200,epoch_num=epoch+1)\n\u001b[0m",
            "\u001b[0;32m<ipython-input-35-17932109f3c3>\u001b[0m in \u001b[0;36mtrain_epoch\u001b[0;34m(log_dir, regressor, learning_rate, train_loss_history, val_loss_history, t_cov_history, t_rev_history, report_iter, epoch_num)\u001b[0m\n\u001b[1;32m     17\u001b[0m   \u001b[0mregressor\u001b[0m\u001b[0;34m.\u001b[0m\u001b[0mtrain\u001b[0m\u001b[0;34m(\u001b[0m\u001b[0;34m)\u001b[0m\u001b[0;34m\u001b[0m\u001b[0;34m\u001b[0m\u001b[0m\n\u001b[1;32m     18\u001b[0m \u001b[0;34m\u001b[0m\u001b[0m\n\u001b[0;32m---> 19\u001b[0;31m   \u001b[0;32mfor\u001b[0m \u001b[0mi\u001b[0m\u001b[0;34m,\u001b[0m\u001b[0;34m(\u001b[0m\u001b[0mcontext_splines\u001b[0m\u001b[0;34m,\u001b[0m\u001b[0mout_labels\u001b[0m\u001b[0;34m)\u001b[0m \u001b[0;32min\u001b[0m \u001b[0menumerate\u001b[0m\u001b[0;34m(\u001b[0m\u001b[0mtqdm\u001b[0m\u001b[0;34m(\u001b[0m\u001b[0mtrain_loader\u001b[0m\u001b[0;34m)\u001b[0m\u001b[0;34m)\u001b[0m\u001b[0;34m:\u001b[0m\u001b[0;34m\u001b[0m\u001b[0;34m\u001b[0m\u001b[0m\n\u001b[0m\u001b[1;32m     20\u001b[0m \u001b[0;34m\u001b[0m\u001b[0m\n\u001b[1;32m     21\u001b[0m \u001b[0;34m\u001b[0m\u001b[0m\n",
            "\u001b[0;32m/usr/local/lib/python3.7/dist-packages/tqdm/std.py\u001b[0m in \u001b[0;36m__iter__\u001b[0;34m(self)\u001b[0m\n\u001b[1;32m   1193\u001b[0m \u001b[0;34m\u001b[0m\u001b[0m\n\u001b[1;32m   1194\u001b[0m         \u001b[0;32mtry\u001b[0m\u001b[0;34m:\u001b[0m\u001b[0;34m\u001b[0m\u001b[0;34m\u001b[0m\u001b[0m\n\u001b[0;32m-> 1195\u001b[0;31m             \u001b[0;32mfor\u001b[0m \u001b[0mobj\u001b[0m \u001b[0;32min\u001b[0m \u001b[0miterable\u001b[0m\u001b[0;34m:\u001b[0m\u001b[0;34m\u001b[0m\u001b[0;34m\u001b[0m\u001b[0m\n\u001b[0m\u001b[1;32m   1196\u001b[0m                 \u001b[0;32myield\u001b[0m \u001b[0mobj\u001b[0m\u001b[0;34m\u001b[0m\u001b[0;34m\u001b[0m\u001b[0m\n\u001b[1;32m   1197\u001b[0m                 \u001b[0;31m# Update and possibly print the progressbar.\u001b[0m\u001b[0;34m\u001b[0m\u001b[0;34m\u001b[0m\u001b[0;34m\u001b[0m\u001b[0m\n",
            "\u001b[0;32m/usr/local/lib/python3.7/dist-packages/torch/utils/data/dataloader.py\u001b[0m in \u001b[0;36m__next__\u001b[0;34m(self)\u001b[0m\n\u001b[1;32m    679\u001b[0m                 \u001b[0;31m# TODO(https://github.com/pytorch/pytorch/issues/76750)\u001b[0m\u001b[0;34m\u001b[0m\u001b[0;34m\u001b[0m\u001b[0;34m\u001b[0m\u001b[0m\n\u001b[1;32m    680\u001b[0m                 \u001b[0mself\u001b[0m\u001b[0;34m.\u001b[0m\u001b[0m_reset\u001b[0m\u001b[0;34m(\u001b[0m\u001b[0;34m)\u001b[0m  \u001b[0;31m# type: ignore[call-arg]\u001b[0m\u001b[0;34m\u001b[0m\u001b[0;34m\u001b[0m\u001b[0m\n\u001b[0;32m--> 681\u001b[0;31m             \u001b[0mdata\u001b[0m \u001b[0;34m=\u001b[0m \u001b[0mself\u001b[0m\u001b[0;34m.\u001b[0m\u001b[0m_next_data\u001b[0m\u001b[0;34m(\u001b[0m\u001b[0;34m)\u001b[0m\u001b[0;34m\u001b[0m\u001b[0;34m\u001b[0m\u001b[0m\n\u001b[0m\u001b[1;32m    682\u001b[0m             \u001b[0mself\u001b[0m\u001b[0;34m.\u001b[0m\u001b[0m_num_yielded\u001b[0m \u001b[0;34m+=\u001b[0m \u001b[0;36m1\u001b[0m\u001b[0;34m\u001b[0m\u001b[0;34m\u001b[0m\u001b[0m\n\u001b[1;32m    683\u001b[0m             \u001b[0;32mif\u001b[0m \u001b[0mself\u001b[0m\u001b[0;34m.\u001b[0m\u001b[0m_dataset_kind\u001b[0m \u001b[0;34m==\u001b[0m \u001b[0m_DatasetKind\u001b[0m\u001b[0;34m.\u001b[0m\u001b[0mIterable\u001b[0m \u001b[0;32mand\u001b[0m\u001b[0;31m \u001b[0m\u001b[0;31m\\\u001b[0m\u001b[0;34m\u001b[0m\u001b[0;34m\u001b[0m\u001b[0m\n",
            "\u001b[0;32m/usr/local/lib/python3.7/dist-packages/torch/utils/data/dataloader.py\u001b[0m in \u001b[0;36m_next_data\u001b[0;34m(self)\u001b[0m\n\u001b[1;32m    719\u001b[0m     \u001b[0;32mdef\u001b[0m \u001b[0m_next_data\u001b[0m\u001b[0;34m(\u001b[0m\u001b[0mself\u001b[0m\u001b[0;34m)\u001b[0m\u001b[0;34m:\u001b[0m\u001b[0;34m\u001b[0m\u001b[0;34m\u001b[0m\u001b[0m\n\u001b[1;32m    720\u001b[0m         \u001b[0mindex\u001b[0m \u001b[0;34m=\u001b[0m \u001b[0mself\u001b[0m\u001b[0;34m.\u001b[0m\u001b[0m_next_index\u001b[0m\u001b[0;34m(\u001b[0m\u001b[0;34m)\u001b[0m  \u001b[0;31m# may raise StopIteration\u001b[0m\u001b[0;34m\u001b[0m\u001b[0;34m\u001b[0m\u001b[0m\n\u001b[0;32m--> 721\u001b[0;31m         \u001b[0mdata\u001b[0m \u001b[0;34m=\u001b[0m \u001b[0mself\u001b[0m\u001b[0;34m.\u001b[0m\u001b[0m_dataset_fetcher\u001b[0m\u001b[0;34m.\u001b[0m\u001b[0mfetch\u001b[0m\u001b[0;34m(\u001b[0m\u001b[0mindex\u001b[0m\u001b[0;34m)\u001b[0m  \u001b[0;31m# may raise StopIteration\u001b[0m\u001b[0;34m\u001b[0m\u001b[0;34m\u001b[0m\u001b[0m\n\u001b[0m\u001b[1;32m    722\u001b[0m         \u001b[0;32mif\u001b[0m \u001b[0mself\u001b[0m\u001b[0;34m.\u001b[0m\u001b[0m_pin_memory\u001b[0m\u001b[0;34m:\u001b[0m\u001b[0;34m\u001b[0m\u001b[0;34m\u001b[0m\u001b[0m\n\u001b[1;32m    723\u001b[0m             \u001b[0mdata\u001b[0m \u001b[0;34m=\u001b[0m \u001b[0m_utils\u001b[0m\u001b[0;34m.\u001b[0m\u001b[0mpin_memory\u001b[0m\u001b[0;34m.\u001b[0m\u001b[0mpin_memory\u001b[0m\u001b[0;34m(\u001b[0m\u001b[0mdata\u001b[0m\u001b[0;34m,\u001b[0m \u001b[0mself\u001b[0m\u001b[0;34m.\u001b[0m\u001b[0m_pin_memory_device\u001b[0m\u001b[0;34m)\u001b[0m\u001b[0;34m\u001b[0m\u001b[0;34m\u001b[0m\u001b[0m\n",
            "\u001b[0;32m/usr/local/lib/python3.7/dist-packages/torch/utils/data/_utils/fetch.py\u001b[0m in \u001b[0;36mfetch\u001b[0;34m(self, possibly_batched_index)\u001b[0m\n\u001b[1;32m     47\u001b[0m     \u001b[0;32mdef\u001b[0m \u001b[0mfetch\u001b[0m\u001b[0;34m(\u001b[0m\u001b[0mself\u001b[0m\u001b[0;34m,\u001b[0m \u001b[0mpossibly_batched_index\u001b[0m\u001b[0;34m)\u001b[0m\u001b[0;34m:\u001b[0m\u001b[0;34m\u001b[0m\u001b[0;34m\u001b[0m\u001b[0m\n\u001b[1;32m     48\u001b[0m         \u001b[0;32mif\u001b[0m \u001b[0mself\u001b[0m\u001b[0;34m.\u001b[0m\u001b[0mauto_collation\u001b[0m\u001b[0;34m:\u001b[0m\u001b[0;34m\u001b[0m\u001b[0;34m\u001b[0m\u001b[0m\n\u001b[0;32m---> 49\u001b[0;31m             \u001b[0mdata\u001b[0m \u001b[0;34m=\u001b[0m \u001b[0;34m[\u001b[0m\u001b[0mself\u001b[0m\u001b[0;34m.\u001b[0m\u001b[0mdataset\u001b[0m\u001b[0;34m[\u001b[0m\u001b[0midx\u001b[0m\u001b[0;34m]\u001b[0m \u001b[0;32mfor\u001b[0m \u001b[0midx\u001b[0m \u001b[0;32min\u001b[0m \u001b[0mpossibly_batched_index\u001b[0m\u001b[0;34m]\u001b[0m\u001b[0;34m\u001b[0m\u001b[0;34m\u001b[0m\u001b[0m\n\u001b[0m\u001b[1;32m     50\u001b[0m         \u001b[0;32melse\u001b[0m\u001b[0;34m:\u001b[0m\u001b[0;34m\u001b[0m\u001b[0;34m\u001b[0m\u001b[0m\n\u001b[1;32m     51\u001b[0m             \u001b[0mdata\u001b[0m \u001b[0;34m=\u001b[0m \u001b[0mself\u001b[0m\u001b[0;34m.\u001b[0m\u001b[0mdataset\u001b[0m\u001b[0;34m[\u001b[0m\u001b[0mpossibly_batched_index\u001b[0m\u001b[0;34m]\u001b[0m\u001b[0;34m\u001b[0m\u001b[0;34m\u001b[0m\u001b[0m\n",
            "\u001b[0;32m/usr/local/lib/python3.7/dist-packages/torch/utils/data/_utils/fetch.py\u001b[0m in \u001b[0;36m<listcomp>\u001b[0;34m(.0)\u001b[0m\n\u001b[1;32m     47\u001b[0m     \u001b[0;32mdef\u001b[0m \u001b[0mfetch\u001b[0m\u001b[0;34m(\u001b[0m\u001b[0mself\u001b[0m\u001b[0;34m,\u001b[0m \u001b[0mpossibly_batched_index\u001b[0m\u001b[0;34m)\u001b[0m\u001b[0;34m:\u001b[0m\u001b[0;34m\u001b[0m\u001b[0;34m\u001b[0m\u001b[0m\n\u001b[1;32m     48\u001b[0m         \u001b[0;32mif\u001b[0m \u001b[0mself\u001b[0m\u001b[0;34m.\u001b[0m\u001b[0mauto_collation\u001b[0m\u001b[0;34m:\u001b[0m\u001b[0;34m\u001b[0m\u001b[0;34m\u001b[0m\u001b[0m\n\u001b[0;32m---> 49\u001b[0;31m             \u001b[0mdata\u001b[0m \u001b[0;34m=\u001b[0m \u001b[0;34m[\u001b[0m\u001b[0mself\u001b[0m\u001b[0;34m.\u001b[0m\u001b[0mdataset\u001b[0m\u001b[0;34m[\u001b[0m\u001b[0midx\u001b[0m\u001b[0;34m]\u001b[0m \u001b[0;32mfor\u001b[0m \u001b[0midx\u001b[0m \u001b[0;32min\u001b[0m \u001b[0mpossibly_batched_index\u001b[0m\u001b[0;34m]\u001b[0m\u001b[0;34m\u001b[0m\u001b[0;34m\u001b[0m\u001b[0m\n\u001b[0m\u001b[1;32m     50\u001b[0m         \u001b[0;32melse\u001b[0m\u001b[0;34m:\u001b[0m\u001b[0;34m\u001b[0m\u001b[0;34m\u001b[0m\u001b[0m\n\u001b[1;32m     51\u001b[0m             \u001b[0mdata\u001b[0m \u001b[0;34m=\u001b[0m \u001b[0mself\u001b[0m\u001b[0;34m.\u001b[0m\u001b[0mdataset\u001b[0m\u001b[0;34m[\u001b[0m\u001b[0mpossibly_batched_index\u001b[0m\u001b[0;34m]\u001b[0m\u001b[0;34m\u001b[0m\u001b[0;34m\u001b[0m\u001b[0m\n",
            "\u001b[0;32m<ipython-input-3-ca9373ba5d53>\u001b[0m in \u001b[0;36m__getitem__\u001b[0;34m(self, index)\u001b[0m\n\u001b[1;32m    286\u001b[0m \u001b[0;34m\u001b[0m\u001b[0m\n\u001b[1;32m    287\u001b[0m   \u001b[0;32mdef\u001b[0m \u001b[0m__getitem__\u001b[0m\u001b[0;34m(\u001b[0m\u001b[0mself\u001b[0m\u001b[0;34m,\u001b[0m \u001b[0mindex\u001b[0m\u001b[0;34m)\u001b[0m\u001b[0;34m:\u001b[0m\u001b[0;34m\u001b[0m\u001b[0;34m\u001b[0m\u001b[0m\n\u001b[0;32m--> 288\u001b[0;31m       \u001b[0mitem\u001b[0m \u001b[0;34m=\u001b[0m \u001b[0mself\u001b[0m\u001b[0;34m.\u001b[0m\u001b[0mget_item\u001b[0m\u001b[0;34m(\u001b[0m\u001b[0mindex\u001b[0m\u001b[0;34m)\u001b[0m\u001b[0;34m\u001b[0m\u001b[0;34m\u001b[0m\u001b[0m\n\u001b[0m\u001b[1;32m    289\u001b[0m       \u001b[0;32mreturn\u001b[0m \u001b[0;34m(\u001b[0m\u001b[0;34m*\u001b[0m\u001b[0mitem\u001b[0m\u001b[0;34m,\u001b[0m\u001b[0mindex\u001b[0m\u001b[0;34m)\u001b[0m\u001b[0;34m\u001b[0m\u001b[0;34m\u001b[0m\u001b[0m\n\u001b[1;32m    290\u001b[0m \u001b[0;34m\u001b[0m\u001b[0m\n",
            "\u001b[0;32m<ipython-input-3-ca9373ba5d53>\u001b[0m in \u001b[0;36mget_item\u001b[0;34m(self, label_index)\u001b[0m\n\u001b[1;32m    269\u001b[0m                                                  high=self.max_years+1)\n\u001b[1;32m    270\u001b[0m \u001b[0;34m\u001b[0m\u001b[0m\n\u001b[0;32m--> 271\u001b[0;31m     \u001b[0mtime_array\u001b[0m\u001b[0;34m,\u001b[0m\u001b[0mmagnitude_array\u001b[0m \u001b[0;34m=\u001b[0m \u001b[0mself\u001b[0m\u001b[0;34m.\u001b[0m\u001b[0mRDRW_simulator\u001b[0m\u001b[0;34m(\u001b[0m\u001b[0;34m*\u001b[0m\u001b[0mlabels\u001b[0m\u001b[0;34m,\u001b[0m\u001b[0mduration\u001b[0m\u001b[0;34m=\u001b[0m\u001b[0mnum_observed_years\u001b[0m\u001b[0;34m)\u001b[0m\u001b[0;34m\u001b[0m\u001b[0;34m\u001b[0m\u001b[0m\n\u001b[0m\u001b[1;32m    272\u001b[0m \u001b[0;34m\u001b[0m\u001b[0m\n\u001b[1;32m    273\u001b[0m     \u001b[0mno_gaps_mask\u001b[0m \u001b[0;34m=\u001b[0m \u001b[0mself\u001b[0m\u001b[0;34m.\u001b[0m\u001b[0mget_no_gaps_masks\u001b[0m\u001b[0;34m(\u001b[0m\u001b[0mtime_array\u001b[0m\u001b[0;34m,\u001b[0m\u001b[0mnum_observed_years\u001b[0m\u001b[0;34m)\u001b[0m\u001b[0;34m\u001b[0m\u001b[0;34m\u001b[0m\u001b[0m\n",
            "\u001b[0;32m<ipython-input-3-ca9373ba5d53>\u001b[0m in \u001b[0;36m__call__\u001b[0;34m(self, Correlation_time, Reverberation_time, duration)\u001b[0m\n\u001b[1;32m    104\u001b[0m         \u001b[0;31m#start_t = time.time()\u001b[0m\u001b[0;34m\u001b[0m\u001b[0;34m\u001b[0m\u001b[0;34m\u001b[0m\u001b[0m\n\u001b[1;32m    105\u001b[0m \u001b[0;34m\u001b[0m\u001b[0m\n\u001b[0;32m--> 106\u001b[0;31m         \u001b[0mCholesky\u001b[0m \u001b[0;34m=\u001b[0m \u001b[0mnp\u001b[0m\u001b[0;34m.\u001b[0m\u001b[0masarray\u001b[0m\u001b[0;34m(\u001b[0m\u001b[0mjax_RDRW_Cholesky\u001b[0m\u001b[0;34m(\u001b[0m\u001b[0mtime_array\u001b[0m\u001b[0;34m,\u001b[0m \u001b[0mCorrelation_time\u001b[0m\u001b[0;34m,\u001b[0m\u001b[0mReverberation_time\u001b[0m\u001b[0;34m)\u001b[0m\u001b[0;34m)\u001b[0m\u001b[0;34m\u001b[0m\u001b[0;34m\u001b[0m\u001b[0m\n\u001b[0m\u001b[1;32m    107\u001b[0m         \u001b[0;31m#end_t = time.time()\u001b[0m\u001b[0;34m\u001b[0m\u001b[0;34m\u001b[0m\u001b[0;34m\u001b[0m\u001b[0m\n\u001b[1;32m    108\u001b[0m         \u001b[0;31m#print('Cholesky decomposition:',end_t-start_t)\u001b[0m\u001b[0;34m\u001b[0m\u001b[0;34m\u001b[0m\u001b[0;34m\u001b[0m\u001b[0m\n",
            "\u001b[0;32m/usr/local/lib/python3.7/dist-packages/jax/_src/api.py\u001b[0m in \u001b[0;36m_nan_check_posthook\u001b[0;34m(fun, args, kwargs, output)\u001b[0m\n\u001b[1;32m    137\u001b[0m \u001b[0;34m\u001b[0m\u001b[0m\n\u001b[1;32m    138\u001b[0m   \u001b[0;32mtry\u001b[0m\u001b[0;34m:\u001b[0m\u001b[0;34m\u001b[0m\u001b[0;34m\u001b[0m\u001b[0m\n\u001b[0;32m--> 139\u001b[0;31m     \u001b[0mdispatch\u001b[0m\u001b[0;34m.\u001b[0m\u001b[0mcheck_special\u001b[0m\u001b[0;34m(\u001b[0m\u001b[0mxla\u001b[0m\u001b[0;34m.\u001b[0m\u001b[0mxla_call_p\u001b[0m\u001b[0;34m,\u001b[0m \u001b[0mbuffers\u001b[0m\u001b[0;34m)\u001b[0m\u001b[0;34m\u001b[0m\u001b[0;34m\u001b[0m\u001b[0m\n\u001b[0m\u001b[1;32m    140\u001b[0m   \u001b[0;32mexcept\u001b[0m \u001b[0mFloatingPointError\u001b[0m\u001b[0;34m:\u001b[0m\u001b[0;34m\u001b[0m\u001b[0;34m\u001b[0m\u001b[0m\n\u001b[1;32m    141\u001b[0m     \u001b[0;31m# compiled_fun can only raise in this case\u001b[0m\u001b[0;34m\u001b[0m\u001b[0;34m\u001b[0m\u001b[0;34m\u001b[0m\u001b[0m\n",
            "\u001b[0;32m/usr/local/lib/python3.7/dist-packages/jax/_src/dispatch.py\u001b[0m in \u001b[0;36mcheck_special\u001b[0;34m(name, bufs)\u001b[0m\n\u001b[1;32m    674\u001b[0m   \u001b[0;32mif\u001b[0m \u001b[0mneeds_check_special\u001b[0m\u001b[0;34m(\u001b[0m\u001b[0;34m)\u001b[0m\u001b[0;34m:\u001b[0m\u001b[0;34m\u001b[0m\u001b[0;34m\u001b[0m\u001b[0m\n\u001b[1;32m    675\u001b[0m     \u001b[0;32mfor\u001b[0m \u001b[0mbuf\u001b[0m \u001b[0;32min\u001b[0m \u001b[0mbufs\u001b[0m\u001b[0;34m:\u001b[0m\u001b[0;34m\u001b[0m\u001b[0;34m\u001b[0m\u001b[0m\n\u001b[0;32m--> 676\u001b[0;31m       \u001b[0m_check_special\u001b[0m\u001b[0;34m(\u001b[0m\u001b[0mname\u001b[0m\u001b[0;34m,\u001b[0m \u001b[0mbuf\u001b[0m\u001b[0;34m.\u001b[0m\u001b[0mxla_shape\u001b[0m\u001b[0;34m(\u001b[0m\u001b[0;34m)\u001b[0m\u001b[0;34m,\u001b[0m \u001b[0mbuf\u001b[0m\u001b[0;34m)\u001b[0m\u001b[0;34m\u001b[0m\u001b[0;34m\u001b[0m\u001b[0m\n\u001b[0m\u001b[1;32m    677\u001b[0m \u001b[0;34m\u001b[0m\u001b[0m\n\u001b[1;32m    678\u001b[0m \u001b[0;32mdef\u001b[0m \u001b[0m_check_special\u001b[0m\u001b[0;34m(\u001b[0m\u001b[0mname\u001b[0m\u001b[0;34m,\u001b[0m \u001b[0mxla_shape\u001b[0m\u001b[0;34m,\u001b[0m \u001b[0mbuf\u001b[0m\u001b[0;34m)\u001b[0m\u001b[0;34m:\u001b[0m\u001b[0;34m\u001b[0m\u001b[0;34m\u001b[0m\u001b[0m\n",
            "\u001b[0;32m/usr/local/lib/python3.7/dist-packages/jax/_src/dispatch.py\u001b[0m in \u001b[0;36m_check_special\u001b[0;34m(name, xla_shape, buf)\u001b[0m\n\u001b[1;32m    679\u001b[0m   \u001b[0;32massert\u001b[0m \u001b[0;32mnot\u001b[0m \u001b[0mxla_shape\u001b[0m\u001b[0;34m.\u001b[0m\u001b[0mis_tuple\u001b[0m\u001b[0;34m(\u001b[0m\u001b[0;34m)\u001b[0m\u001b[0;34m\u001b[0m\u001b[0;34m\u001b[0m\u001b[0m\n\u001b[1;32m    680\u001b[0m   \u001b[0;32mif\u001b[0m \u001b[0mdtypes\u001b[0m\u001b[0;34m.\u001b[0m\u001b[0missubdtype\u001b[0m\u001b[0;34m(\u001b[0m\u001b[0mxla_shape\u001b[0m\u001b[0;34m.\u001b[0m\u001b[0melement_type\u001b[0m\u001b[0;34m(\u001b[0m\u001b[0;34m)\u001b[0m\u001b[0;34m,\u001b[0m \u001b[0mnp\u001b[0m\u001b[0;34m.\u001b[0m\u001b[0minexact\u001b[0m\u001b[0;34m)\u001b[0m\u001b[0;34m:\u001b[0m\u001b[0;34m\u001b[0m\u001b[0;34m\u001b[0m\u001b[0m\n\u001b[0;32m--> 681\u001b[0;31m     \u001b[0;32mif\u001b[0m \u001b[0mconfig\u001b[0m\u001b[0;34m.\u001b[0m\u001b[0mjax_debug_nans\u001b[0m \u001b[0;32mand\u001b[0m \u001b[0mnp\u001b[0m\u001b[0;34m.\u001b[0m\u001b[0many\u001b[0m\u001b[0;34m(\u001b[0m\u001b[0mnp\u001b[0m\u001b[0;34m.\u001b[0m\u001b[0misnan\u001b[0m\u001b[0;34m(\u001b[0m\u001b[0mbuf\u001b[0m\u001b[0;34m.\u001b[0m\u001b[0mto_py\u001b[0m\u001b[0;34m(\u001b[0m\u001b[0;34m)\u001b[0m\u001b[0;34m)\u001b[0m\u001b[0;34m)\u001b[0m\u001b[0;34m:\u001b[0m\u001b[0;34m\u001b[0m\u001b[0;34m\u001b[0m\u001b[0m\n\u001b[0m\u001b[1;32m    682\u001b[0m       \u001b[0;32mraise\u001b[0m \u001b[0mFloatingPointError\u001b[0m\u001b[0;34m(\u001b[0m\u001b[0;34mf\"invalid value (nan) encountered in {name}\"\u001b[0m\u001b[0;34m)\u001b[0m\u001b[0;34m\u001b[0m\u001b[0;34m\u001b[0m\u001b[0m\n\u001b[1;32m    683\u001b[0m     \u001b[0;32mif\u001b[0m \u001b[0mconfig\u001b[0m\u001b[0;34m.\u001b[0m\u001b[0mjax_debug_infs\u001b[0m \u001b[0;32mand\u001b[0m \u001b[0mnp\u001b[0m\u001b[0;34m.\u001b[0m\u001b[0many\u001b[0m\u001b[0;34m(\u001b[0m\u001b[0mnp\u001b[0m\u001b[0;34m.\u001b[0m\u001b[0misinf\u001b[0m\u001b[0;34m(\u001b[0m\u001b[0mbuf\u001b[0m\u001b[0;34m.\u001b[0m\u001b[0mto_py\u001b[0m\u001b[0;34m(\u001b[0m\u001b[0;34m)\u001b[0m\u001b[0;34m)\u001b[0m\u001b[0;34m)\u001b[0m\u001b[0;34m:\u001b[0m\u001b[0;34m\u001b[0m\u001b[0;34m\u001b[0m\u001b[0m\n",
            "\u001b[0;31mKeyboardInterrupt\u001b[0m: "
          ]
        }
      ],
      "source": [
        "# jax with 50% of gpu (same with 10% actually)\n",
        "for epoch in range(5,10):\n",
        "  train_epoch(log_dir,regressor,learning_rate,\n",
        "                train_loss_history,val_loss_history,\n",
        "                t_cov_history,t_rev_history,\n",
        "                report_iter = 200,epoch_num=epoch+1)"
      ]
    },
    {
      "cell_type": "code",
      "execution_count": null,
      "metadata": {
        "id": "BnykQtModFgy"
      },
      "outputs": [],
      "source": [
        "model_dict = torch.load(log_dir+'%d_epoch.pth'%8)\n",
        "regressor.load_state_dict(model_dict['regressor'])\n",
        "train_loss_history = model_dict['train_loss_history']\n",
        "t_cov_history = model_dict['t_cov_history']\n",
        "t_rev_history = model_dict['t_rev_history']\n",
        "val_loss_history = model_dict['val_loss_history']\n",
        "learning_rate = model_dict['lr']"
      ]
    },
    {
      "cell_type": "code",
      "execution_count": null,
      "metadata": {
        "id": "OLghfBg_dFjH"
      },
      "outputs": [],
      "source": [
        "learning_rate = 5e-5"
      ]
    },
    {
      "cell_type": "code",
      "execution_count": null,
      "metadata": {
        "colab": {
          "base_uri": "https://localhost:8080/",
          "height": 562
        },
        "id": "lCMNpekYdFlf",
        "outputId": "b66da56b-a396-465a-a314-175d0bcce2d9"
      },
      "outputs": [
        {
          "name": "stderr",
          "output_type": "stream",
          "text": [
            " 32%|███▏      | 200/625 [03:27<07:21,  1.04s/it]"
          ]
        },
        {
          "name": "stdout",
          "output_type": "stream",
          "text": [
            "Iter 200 loss=0.3759 t_cov_loss =0.5930 t_rev_loss = 0.1589\n"
          ]
        },
        {
          "name": "stderr",
          "output_type": "stream",
          "text": [
            " 64%|██████▍   | 400/625 [06:52<03:54,  1.04s/it]"
          ]
        },
        {
          "name": "stdout",
          "output_type": "stream",
          "text": [
            "Iter 400 loss=0.3718 t_cov_loss =0.5843 t_rev_loss = 0.1594\n"
          ]
        },
        {
          "name": "stderr",
          "output_type": "stream",
          "text": [
            " 96%|█████████▌| 600/625 [10:19<00:25,  1.03s/it]"
          ]
        },
        {
          "name": "stdout",
          "output_type": "stream",
          "text": [
            "Iter 600 loss=0.3665 t_cov_loss =0.5755 t_rev_loss = 0.1576\n"
          ]
        },
        {
          "name": "stderr",
          "output_type": "stream",
          "text": [
            "100%|██████████| 625/625 [10:45<00:00,  1.03s/it]\n",
            "100%|██████████| 78/78 [01:14<00:00,  1.04it/s]\n"
          ]
        },
        {
          "name": "stdout",
          "output_type": "stream",
          "text": [
            "Epoch 9, Train loss 0.3716 t_cov 0.5845 t_rev 0.1587, Val loss 0.3641\n"
          ]
        },
        {
          "name": "stderr",
          "output_type": "stream",
          "text": [
            " 32%|███▏      | 200/625 [03:23<07:46,  1.10s/it]"
          ]
        },
        {
          "name": "stdout",
          "output_type": "stream",
          "text": [
            "Iter 200 loss=0.3700 t_cov_loss =0.5825 t_rev_loss = 0.1575\n"
          ]
        },
        {
          "name": "stderr",
          "output_type": "stream",
          "text": [
            " 64%|██████▍   | 400/625 [06:50<03:42,  1.01it/s]"
          ]
        },
        {
          "name": "stdout",
          "output_type": "stream",
          "text": [
            "Iter 400 loss=0.3674 t_cov_loss =0.5762 t_rev_loss = 0.1585\n"
          ]
        },
        {
          "name": "stderr",
          "output_type": "stream",
          "text": [
            " 96%|█████████▌| 600/625 [10:13<00:25,  1.02s/it]"
          ]
        },
        {
          "name": "stdout",
          "output_type": "stream",
          "text": [
            "Iter 600 loss=0.3710 t_cov_loss =0.5818 t_rev_loss = 0.1602\n"
          ]
        },
        {
          "name": "stderr",
          "output_type": "stream",
          "text": [
            "100%|██████████| 625/625 [10:39<00:00,  1.02s/it]\n",
            "100%|██████████| 78/78 [01:14<00:00,  1.05it/s]\n"
          ]
        },
        {
          "name": "stdout",
          "output_type": "stream",
          "text": [
            "Epoch 10, Train loss 0.3692 t_cov 0.5798 t_rev 0.1587, Val loss 0.3668\n"
          ]
        },
        {
          "name": "stderr",
          "output_type": "stream",
          "text": [
            "  9%|▉         | 58/625 [01:07<10:57,  1.16s/it]\n"
          ]
        },
        {
          "ename": "KeyboardInterrupt",
          "evalue": "ignored",
          "output_type": "error",
          "traceback": [
            "\u001b[0;31m---------------------------------------------------------------------------\u001b[0m",
            "\u001b[0;31mKeyboardInterrupt\u001b[0m                         Traceback (most recent call last)",
            "\u001b[0;32m<ipython-input-43-17475395d489>\u001b[0m in \u001b[0;36m<module>\u001b[0;34m()\u001b[0m\n\u001b[1;32m      3\u001b[0m                 \u001b[0mtrain_loss_history\u001b[0m\u001b[0;34m,\u001b[0m\u001b[0mval_loss_history\u001b[0m\u001b[0;34m,\u001b[0m\u001b[0;34m\u001b[0m\u001b[0;34m\u001b[0m\u001b[0m\n\u001b[1;32m      4\u001b[0m                 \u001b[0mt_cov_history\u001b[0m\u001b[0;34m,\u001b[0m\u001b[0mt_rev_history\u001b[0m\u001b[0;34m,\u001b[0m\u001b[0;34m\u001b[0m\u001b[0;34m\u001b[0m\u001b[0m\n\u001b[0;32m----> 5\u001b[0;31m                 report_iter = 200,epoch_num=epoch+1)\n\u001b[0m",
            "\u001b[0;32m<ipython-input-35-17932109f3c3>\u001b[0m in \u001b[0;36mtrain_epoch\u001b[0;34m(log_dir, regressor, learning_rate, train_loss_history, val_loss_history, t_cov_history, t_rev_history, report_iter, epoch_num)\u001b[0m\n\u001b[1;32m     17\u001b[0m   \u001b[0mregressor\u001b[0m\u001b[0;34m.\u001b[0m\u001b[0mtrain\u001b[0m\u001b[0;34m(\u001b[0m\u001b[0;34m)\u001b[0m\u001b[0;34m\u001b[0m\u001b[0;34m\u001b[0m\u001b[0m\n\u001b[1;32m     18\u001b[0m \u001b[0;34m\u001b[0m\u001b[0m\n\u001b[0;32m---> 19\u001b[0;31m   \u001b[0;32mfor\u001b[0m \u001b[0mi\u001b[0m\u001b[0;34m,\u001b[0m\u001b[0;34m(\u001b[0m\u001b[0mcontext_splines\u001b[0m\u001b[0;34m,\u001b[0m\u001b[0mout_labels\u001b[0m\u001b[0;34m)\u001b[0m \u001b[0;32min\u001b[0m \u001b[0menumerate\u001b[0m\u001b[0;34m(\u001b[0m\u001b[0mtqdm\u001b[0m\u001b[0;34m(\u001b[0m\u001b[0mtrain_loader\u001b[0m\u001b[0;34m)\u001b[0m\u001b[0;34m)\u001b[0m\u001b[0;34m:\u001b[0m\u001b[0;34m\u001b[0m\u001b[0;34m\u001b[0m\u001b[0m\n\u001b[0m\u001b[1;32m     20\u001b[0m \u001b[0;34m\u001b[0m\u001b[0m\n\u001b[1;32m     21\u001b[0m \u001b[0;34m\u001b[0m\u001b[0m\n",
            "\u001b[0;32m/usr/local/lib/python3.7/dist-packages/tqdm/std.py\u001b[0m in \u001b[0;36m__iter__\u001b[0;34m(self)\u001b[0m\n\u001b[1;32m   1193\u001b[0m \u001b[0;34m\u001b[0m\u001b[0m\n\u001b[1;32m   1194\u001b[0m         \u001b[0;32mtry\u001b[0m\u001b[0;34m:\u001b[0m\u001b[0;34m\u001b[0m\u001b[0;34m\u001b[0m\u001b[0m\n\u001b[0;32m-> 1195\u001b[0;31m             \u001b[0;32mfor\u001b[0m \u001b[0mobj\u001b[0m \u001b[0;32min\u001b[0m \u001b[0miterable\u001b[0m\u001b[0;34m:\u001b[0m\u001b[0;34m\u001b[0m\u001b[0;34m\u001b[0m\u001b[0m\n\u001b[0m\u001b[1;32m   1196\u001b[0m                 \u001b[0;32myield\u001b[0m \u001b[0mobj\u001b[0m\u001b[0;34m\u001b[0m\u001b[0;34m\u001b[0m\u001b[0m\n\u001b[1;32m   1197\u001b[0m                 \u001b[0;31m# Update and possibly print the progressbar.\u001b[0m\u001b[0;34m\u001b[0m\u001b[0;34m\u001b[0m\u001b[0;34m\u001b[0m\u001b[0m\n",
            "\u001b[0;32m/usr/local/lib/python3.7/dist-packages/torch/utils/data/dataloader.py\u001b[0m in \u001b[0;36m__next__\u001b[0;34m(self)\u001b[0m\n\u001b[1;32m    679\u001b[0m                 \u001b[0;31m# TODO(https://github.com/pytorch/pytorch/issues/76750)\u001b[0m\u001b[0;34m\u001b[0m\u001b[0;34m\u001b[0m\u001b[0;34m\u001b[0m\u001b[0m\n\u001b[1;32m    680\u001b[0m                 \u001b[0mself\u001b[0m\u001b[0;34m.\u001b[0m\u001b[0m_reset\u001b[0m\u001b[0;34m(\u001b[0m\u001b[0;34m)\u001b[0m  \u001b[0;31m# type: ignore[call-arg]\u001b[0m\u001b[0;34m\u001b[0m\u001b[0;34m\u001b[0m\u001b[0m\n\u001b[0;32m--> 681\u001b[0;31m             \u001b[0mdata\u001b[0m \u001b[0;34m=\u001b[0m \u001b[0mself\u001b[0m\u001b[0;34m.\u001b[0m\u001b[0m_next_data\u001b[0m\u001b[0;34m(\u001b[0m\u001b[0;34m)\u001b[0m\u001b[0;34m\u001b[0m\u001b[0;34m\u001b[0m\u001b[0m\n\u001b[0m\u001b[1;32m    682\u001b[0m             \u001b[0mself\u001b[0m\u001b[0;34m.\u001b[0m\u001b[0m_num_yielded\u001b[0m \u001b[0;34m+=\u001b[0m \u001b[0;36m1\u001b[0m\u001b[0;34m\u001b[0m\u001b[0;34m\u001b[0m\u001b[0m\n\u001b[1;32m    683\u001b[0m             \u001b[0;32mif\u001b[0m \u001b[0mself\u001b[0m\u001b[0;34m.\u001b[0m\u001b[0m_dataset_kind\u001b[0m \u001b[0;34m==\u001b[0m \u001b[0m_DatasetKind\u001b[0m\u001b[0;34m.\u001b[0m\u001b[0mIterable\u001b[0m \u001b[0;32mand\u001b[0m\u001b[0;31m \u001b[0m\u001b[0;31m\\\u001b[0m\u001b[0;34m\u001b[0m\u001b[0;34m\u001b[0m\u001b[0m\n",
            "\u001b[0;32m/usr/local/lib/python3.7/dist-packages/torch/utils/data/dataloader.py\u001b[0m in \u001b[0;36m_next_data\u001b[0;34m(self)\u001b[0m\n\u001b[1;32m    719\u001b[0m     \u001b[0;32mdef\u001b[0m \u001b[0m_next_data\u001b[0m\u001b[0;34m(\u001b[0m\u001b[0mself\u001b[0m\u001b[0;34m)\u001b[0m\u001b[0;34m:\u001b[0m\u001b[0;34m\u001b[0m\u001b[0;34m\u001b[0m\u001b[0m\n\u001b[1;32m    720\u001b[0m         \u001b[0mindex\u001b[0m \u001b[0;34m=\u001b[0m \u001b[0mself\u001b[0m\u001b[0;34m.\u001b[0m\u001b[0m_next_index\u001b[0m\u001b[0;34m(\u001b[0m\u001b[0;34m)\u001b[0m  \u001b[0;31m# may raise StopIteration\u001b[0m\u001b[0;34m\u001b[0m\u001b[0;34m\u001b[0m\u001b[0m\n\u001b[0;32m--> 721\u001b[0;31m         \u001b[0mdata\u001b[0m \u001b[0;34m=\u001b[0m \u001b[0mself\u001b[0m\u001b[0;34m.\u001b[0m\u001b[0m_dataset_fetcher\u001b[0m\u001b[0;34m.\u001b[0m\u001b[0mfetch\u001b[0m\u001b[0;34m(\u001b[0m\u001b[0mindex\u001b[0m\u001b[0;34m)\u001b[0m  \u001b[0;31m# may raise StopIteration\u001b[0m\u001b[0;34m\u001b[0m\u001b[0;34m\u001b[0m\u001b[0m\n\u001b[0m\u001b[1;32m    722\u001b[0m         \u001b[0;32mif\u001b[0m \u001b[0mself\u001b[0m\u001b[0;34m.\u001b[0m\u001b[0m_pin_memory\u001b[0m\u001b[0;34m:\u001b[0m\u001b[0;34m\u001b[0m\u001b[0;34m\u001b[0m\u001b[0m\n\u001b[1;32m    723\u001b[0m             \u001b[0mdata\u001b[0m \u001b[0;34m=\u001b[0m \u001b[0m_utils\u001b[0m\u001b[0;34m.\u001b[0m\u001b[0mpin_memory\u001b[0m\u001b[0;34m.\u001b[0m\u001b[0mpin_memory\u001b[0m\u001b[0;34m(\u001b[0m\u001b[0mdata\u001b[0m\u001b[0;34m,\u001b[0m \u001b[0mself\u001b[0m\u001b[0;34m.\u001b[0m\u001b[0m_pin_memory_device\u001b[0m\u001b[0;34m)\u001b[0m\u001b[0;34m\u001b[0m\u001b[0;34m\u001b[0m\u001b[0m\n",
            "\u001b[0;32m/usr/local/lib/python3.7/dist-packages/torch/utils/data/_utils/fetch.py\u001b[0m in \u001b[0;36mfetch\u001b[0;34m(self, possibly_batched_index)\u001b[0m\n\u001b[1;32m     47\u001b[0m     \u001b[0;32mdef\u001b[0m \u001b[0mfetch\u001b[0m\u001b[0;34m(\u001b[0m\u001b[0mself\u001b[0m\u001b[0;34m,\u001b[0m \u001b[0mpossibly_batched_index\u001b[0m\u001b[0;34m)\u001b[0m\u001b[0;34m:\u001b[0m\u001b[0;34m\u001b[0m\u001b[0;34m\u001b[0m\u001b[0m\n\u001b[1;32m     48\u001b[0m         \u001b[0;32mif\u001b[0m \u001b[0mself\u001b[0m\u001b[0;34m.\u001b[0m\u001b[0mauto_collation\u001b[0m\u001b[0;34m:\u001b[0m\u001b[0;34m\u001b[0m\u001b[0;34m\u001b[0m\u001b[0m\n\u001b[0;32m---> 49\u001b[0;31m             \u001b[0mdata\u001b[0m \u001b[0;34m=\u001b[0m \u001b[0;34m[\u001b[0m\u001b[0mself\u001b[0m\u001b[0;34m.\u001b[0m\u001b[0mdataset\u001b[0m\u001b[0;34m[\u001b[0m\u001b[0midx\u001b[0m\u001b[0;34m]\u001b[0m \u001b[0;32mfor\u001b[0m \u001b[0midx\u001b[0m \u001b[0;32min\u001b[0m \u001b[0mpossibly_batched_index\u001b[0m\u001b[0;34m]\u001b[0m\u001b[0;34m\u001b[0m\u001b[0;34m\u001b[0m\u001b[0m\n\u001b[0m\u001b[1;32m     50\u001b[0m         \u001b[0;32melse\u001b[0m\u001b[0;34m:\u001b[0m\u001b[0;34m\u001b[0m\u001b[0;34m\u001b[0m\u001b[0m\n\u001b[1;32m     51\u001b[0m             \u001b[0mdata\u001b[0m \u001b[0;34m=\u001b[0m \u001b[0mself\u001b[0m\u001b[0;34m.\u001b[0m\u001b[0mdataset\u001b[0m\u001b[0;34m[\u001b[0m\u001b[0mpossibly_batched_index\u001b[0m\u001b[0;34m]\u001b[0m\u001b[0;34m\u001b[0m\u001b[0;34m\u001b[0m\u001b[0m\n",
            "\u001b[0;32m/usr/local/lib/python3.7/dist-packages/torch/utils/data/_utils/fetch.py\u001b[0m in \u001b[0;36m<listcomp>\u001b[0;34m(.0)\u001b[0m\n\u001b[1;32m     47\u001b[0m     \u001b[0;32mdef\u001b[0m \u001b[0mfetch\u001b[0m\u001b[0;34m(\u001b[0m\u001b[0mself\u001b[0m\u001b[0;34m,\u001b[0m \u001b[0mpossibly_batched_index\u001b[0m\u001b[0;34m)\u001b[0m\u001b[0;34m:\u001b[0m\u001b[0;34m\u001b[0m\u001b[0;34m\u001b[0m\u001b[0m\n\u001b[1;32m     48\u001b[0m         \u001b[0;32mif\u001b[0m \u001b[0mself\u001b[0m\u001b[0;34m.\u001b[0m\u001b[0mauto_collation\u001b[0m\u001b[0;34m:\u001b[0m\u001b[0;34m\u001b[0m\u001b[0;34m\u001b[0m\u001b[0m\n\u001b[0;32m---> 49\u001b[0;31m             \u001b[0mdata\u001b[0m \u001b[0;34m=\u001b[0m \u001b[0;34m[\u001b[0m\u001b[0mself\u001b[0m\u001b[0;34m.\u001b[0m\u001b[0mdataset\u001b[0m\u001b[0;34m[\u001b[0m\u001b[0midx\u001b[0m\u001b[0;34m]\u001b[0m \u001b[0;32mfor\u001b[0m \u001b[0midx\u001b[0m \u001b[0;32min\u001b[0m \u001b[0mpossibly_batched_index\u001b[0m\u001b[0;34m]\u001b[0m\u001b[0;34m\u001b[0m\u001b[0;34m\u001b[0m\u001b[0m\n\u001b[0m\u001b[1;32m     50\u001b[0m         \u001b[0;32melse\u001b[0m\u001b[0;34m:\u001b[0m\u001b[0;34m\u001b[0m\u001b[0;34m\u001b[0m\u001b[0m\n\u001b[1;32m     51\u001b[0m             \u001b[0mdata\u001b[0m \u001b[0;34m=\u001b[0m \u001b[0mself\u001b[0m\u001b[0;34m.\u001b[0m\u001b[0mdataset\u001b[0m\u001b[0;34m[\u001b[0m\u001b[0mpossibly_batched_index\u001b[0m\u001b[0;34m]\u001b[0m\u001b[0;34m\u001b[0m\u001b[0;34m\u001b[0m\u001b[0m\n",
            "\u001b[0;32m<ipython-input-3-ca9373ba5d53>\u001b[0m in \u001b[0;36m__getitem__\u001b[0;34m(self, index)\u001b[0m\n\u001b[1;32m    286\u001b[0m \u001b[0;34m\u001b[0m\u001b[0m\n\u001b[1;32m    287\u001b[0m   \u001b[0;32mdef\u001b[0m \u001b[0m__getitem__\u001b[0m\u001b[0;34m(\u001b[0m\u001b[0mself\u001b[0m\u001b[0;34m,\u001b[0m \u001b[0mindex\u001b[0m\u001b[0;34m)\u001b[0m\u001b[0;34m:\u001b[0m\u001b[0;34m\u001b[0m\u001b[0;34m\u001b[0m\u001b[0m\n\u001b[0;32m--> 288\u001b[0;31m       \u001b[0mitem\u001b[0m \u001b[0;34m=\u001b[0m \u001b[0mself\u001b[0m\u001b[0;34m.\u001b[0m\u001b[0mget_item\u001b[0m\u001b[0;34m(\u001b[0m\u001b[0mindex\u001b[0m\u001b[0;34m)\u001b[0m\u001b[0;34m\u001b[0m\u001b[0;34m\u001b[0m\u001b[0m\n\u001b[0m\u001b[1;32m    289\u001b[0m       \u001b[0;32mreturn\u001b[0m \u001b[0;34m(\u001b[0m\u001b[0;34m*\u001b[0m\u001b[0mitem\u001b[0m\u001b[0;34m,\u001b[0m\u001b[0mindex\u001b[0m\u001b[0;34m)\u001b[0m\u001b[0;34m\u001b[0m\u001b[0;34m\u001b[0m\u001b[0m\n\u001b[1;32m    290\u001b[0m \u001b[0;34m\u001b[0m\u001b[0m\n",
            "\u001b[0;32m<ipython-input-3-ca9373ba5d53>\u001b[0m in \u001b[0;36mget_item\u001b[0;34m(self, label_index)\u001b[0m\n\u001b[1;32m    269\u001b[0m                                                  high=self.max_years+1)\n\u001b[1;32m    270\u001b[0m \u001b[0;34m\u001b[0m\u001b[0m\n\u001b[0;32m--> 271\u001b[0;31m     \u001b[0mtime_array\u001b[0m\u001b[0;34m,\u001b[0m\u001b[0mmagnitude_array\u001b[0m \u001b[0;34m=\u001b[0m \u001b[0mself\u001b[0m\u001b[0;34m.\u001b[0m\u001b[0mRDRW_simulator\u001b[0m\u001b[0;34m(\u001b[0m\u001b[0;34m*\u001b[0m\u001b[0mlabels\u001b[0m\u001b[0;34m,\u001b[0m\u001b[0mduration\u001b[0m\u001b[0;34m=\u001b[0m\u001b[0mnum_observed_years\u001b[0m\u001b[0;34m)\u001b[0m\u001b[0;34m\u001b[0m\u001b[0;34m\u001b[0m\u001b[0m\n\u001b[0m\u001b[1;32m    272\u001b[0m \u001b[0;34m\u001b[0m\u001b[0m\n\u001b[1;32m    273\u001b[0m     \u001b[0mno_gaps_mask\u001b[0m \u001b[0;34m=\u001b[0m \u001b[0mself\u001b[0m\u001b[0;34m.\u001b[0m\u001b[0mget_no_gaps_masks\u001b[0m\u001b[0;34m(\u001b[0m\u001b[0mtime_array\u001b[0m\u001b[0;34m,\u001b[0m\u001b[0mnum_observed_years\u001b[0m\u001b[0;34m)\u001b[0m\u001b[0;34m\u001b[0m\u001b[0;34m\u001b[0m\u001b[0m\n",
            "\u001b[0;32m<ipython-input-3-ca9373ba5d53>\u001b[0m in \u001b[0;36m__call__\u001b[0;34m(self, Correlation_time, Reverberation_time, duration)\u001b[0m\n\u001b[1;32m    104\u001b[0m         \u001b[0;31m#start_t = time.time()\u001b[0m\u001b[0;34m\u001b[0m\u001b[0;34m\u001b[0m\u001b[0;34m\u001b[0m\u001b[0m\n\u001b[1;32m    105\u001b[0m \u001b[0;34m\u001b[0m\u001b[0m\n\u001b[0;32m--> 106\u001b[0;31m         \u001b[0mCholesky\u001b[0m \u001b[0;34m=\u001b[0m \u001b[0mnp\u001b[0m\u001b[0;34m.\u001b[0m\u001b[0masarray\u001b[0m\u001b[0;34m(\u001b[0m\u001b[0mjax_RDRW_Cholesky\u001b[0m\u001b[0;34m(\u001b[0m\u001b[0mtime_array\u001b[0m\u001b[0;34m,\u001b[0m \u001b[0mCorrelation_time\u001b[0m\u001b[0;34m,\u001b[0m\u001b[0mReverberation_time\u001b[0m\u001b[0;34m)\u001b[0m\u001b[0;34m)\u001b[0m\u001b[0;34m\u001b[0m\u001b[0;34m\u001b[0m\u001b[0m\n\u001b[0m\u001b[1;32m    107\u001b[0m         \u001b[0;31m#end_t = time.time()\u001b[0m\u001b[0;34m\u001b[0m\u001b[0;34m\u001b[0m\u001b[0;34m\u001b[0m\u001b[0m\n\u001b[1;32m    108\u001b[0m         \u001b[0;31m#print('Cholesky decomposition:',end_t-start_t)\u001b[0m\u001b[0;34m\u001b[0m\u001b[0;34m\u001b[0m\u001b[0;34m\u001b[0m\u001b[0m\n",
            "\u001b[0;32m/usr/local/lib/python3.7/dist-packages/jax/_src/api.py\u001b[0m in \u001b[0;36m_nan_check_posthook\u001b[0;34m(fun, args, kwargs, output)\u001b[0m\n\u001b[1;32m    137\u001b[0m \u001b[0;34m\u001b[0m\u001b[0m\n\u001b[1;32m    138\u001b[0m   \u001b[0;32mtry\u001b[0m\u001b[0;34m:\u001b[0m\u001b[0;34m\u001b[0m\u001b[0;34m\u001b[0m\u001b[0m\n\u001b[0;32m--> 139\u001b[0;31m     \u001b[0mdispatch\u001b[0m\u001b[0;34m.\u001b[0m\u001b[0mcheck_special\u001b[0m\u001b[0;34m(\u001b[0m\u001b[0mxla\u001b[0m\u001b[0;34m.\u001b[0m\u001b[0mxla_call_p\u001b[0m\u001b[0;34m,\u001b[0m \u001b[0mbuffers\u001b[0m\u001b[0;34m)\u001b[0m\u001b[0;34m\u001b[0m\u001b[0;34m\u001b[0m\u001b[0m\n\u001b[0m\u001b[1;32m    140\u001b[0m   \u001b[0;32mexcept\u001b[0m \u001b[0mFloatingPointError\u001b[0m\u001b[0;34m:\u001b[0m\u001b[0;34m\u001b[0m\u001b[0;34m\u001b[0m\u001b[0m\n\u001b[1;32m    141\u001b[0m     \u001b[0;31m# compiled_fun can only raise in this case\u001b[0m\u001b[0;34m\u001b[0m\u001b[0;34m\u001b[0m\u001b[0;34m\u001b[0m\u001b[0m\n",
            "\u001b[0;32m/usr/local/lib/python3.7/dist-packages/jax/_src/dispatch.py\u001b[0m in \u001b[0;36mcheck_special\u001b[0;34m(name, bufs)\u001b[0m\n\u001b[1;32m    674\u001b[0m   \u001b[0;32mif\u001b[0m \u001b[0mneeds_check_special\u001b[0m\u001b[0;34m(\u001b[0m\u001b[0;34m)\u001b[0m\u001b[0;34m:\u001b[0m\u001b[0;34m\u001b[0m\u001b[0;34m\u001b[0m\u001b[0m\n\u001b[1;32m    675\u001b[0m     \u001b[0;32mfor\u001b[0m \u001b[0mbuf\u001b[0m \u001b[0;32min\u001b[0m \u001b[0mbufs\u001b[0m\u001b[0;34m:\u001b[0m\u001b[0;34m\u001b[0m\u001b[0;34m\u001b[0m\u001b[0m\n\u001b[0;32m--> 676\u001b[0;31m       \u001b[0m_check_special\u001b[0m\u001b[0;34m(\u001b[0m\u001b[0mname\u001b[0m\u001b[0;34m,\u001b[0m \u001b[0mbuf\u001b[0m\u001b[0;34m.\u001b[0m\u001b[0mxla_shape\u001b[0m\u001b[0;34m(\u001b[0m\u001b[0;34m)\u001b[0m\u001b[0;34m,\u001b[0m \u001b[0mbuf\u001b[0m\u001b[0;34m)\u001b[0m\u001b[0;34m\u001b[0m\u001b[0;34m\u001b[0m\u001b[0m\n\u001b[0m\u001b[1;32m    677\u001b[0m \u001b[0;34m\u001b[0m\u001b[0m\n\u001b[1;32m    678\u001b[0m \u001b[0;32mdef\u001b[0m \u001b[0m_check_special\u001b[0m\u001b[0;34m(\u001b[0m\u001b[0mname\u001b[0m\u001b[0;34m,\u001b[0m \u001b[0mxla_shape\u001b[0m\u001b[0;34m,\u001b[0m \u001b[0mbuf\u001b[0m\u001b[0;34m)\u001b[0m\u001b[0;34m:\u001b[0m\u001b[0;34m\u001b[0m\u001b[0;34m\u001b[0m\u001b[0m\n",
            "\u001b[0;32m/usr/local/lib/python3.7/dist-packages/jax/_src/dispatch.py\u001b[0m in \u001b[0;36m_check_special\u001b[0;34m(name, xla_shape, buf)\u001b[0m\n\u001b[1;32m    679\u001b[0m   \u001b[0;32massert\u001b[0m \u001b[0;32mnot\u001b[0m \u001b[0mxla_shape\u001b[0m\u001b[0;34m.\u001b[0m\u001b[0mis_tuple\u001b[0m\u001b[0;34m(\u001b[0m\u001b[0;34m)\u001b[0m\u001b[0;34m\u001b[0m\u001b[0;34m\u001b[0m\u001b[0m\n\u001b[1;32m    680\u001b[0m   \u001b[0;32mif\u001b[0m \u001b[0mdtypes\u001b[0m\u001b[0;34m.\u001b[0m\u001b[0missubdtype\u001b[0m\u001b[0;34m(\u001b[0m\u001b[0mxla_shape\u001b[0m\u001b[0;34m.\u001b[0m\u001b[0melement_type\u001b[0m\u001b[0;34m(\u001b[0m\u001b[0;34m)\u001b[0m\u001b[0;34m,\u001b[0m \u001b[0mnp\u001b[0m\u001b[0;34m.\u001b[0m\u001b[0minexact\u001b[0m\u001b[0;34m)\u001b[0m\u001b[0;34m:\u001b[0m\u001b[0;34m\u001b[0m\u001b[0;34m\u001b[0m\u001b[0m\n\u001b[0;32m--> 681\u001b[0;31m     \u001b[0;32mif\u001b[0m \u001b[0mconfig\u001b[0m\u001b[0;34m.\u001b[0m\u001b[0mjax_debug_nans\u001b[0m \u001b[0;32mand\u001b[0m \u001b[0mnp\u001b[0m\u001b[0;34m.\u001b[0m\u001b[0many\u001b[0m\u001b[0;34m(\u001b[0m\u001b[0mnp\u001b[0m\u001b[0;34m.\u001b[0m\u001b[0misnan\u001b[0m\u001b[0;34m(\u001b[0m\u001b[0mbuf\u001b[0m\u001b[0;34m.\u001b[0m\u001b[0mto_py\u001b[0m\u001b[0;34m(\u001b[0m\u001b[0;34m)\u001b[0m\u001b[0;34m)\u001b[0m\u001b[0;34m)\u001b[0m\u001b[0;34m:\u001b[0m\u001b[0;34m\u001b[0m\u001b[0;34m\u001b[0m\u001b[0m\n\u001b[0m\u001b[1;32m    682\u001b[0m       \u001b[0;32mraise\u001b[0m \u001b[0mFloatingPointError\u001b[0m\u001b[0;34m(\u001b[0m\u001b[0;34mf\"invalid value (nan) encountered in {name}\"\u001b[0m\u001b[0;34m)\u001b[0m\u001b[0;34m\u001b[0m\u001b[0;34m\u001b[0m\u001b[0m\n\u001b[1;32m    683\u001b[0m     \u001b[0;32mif\u001b[0m \u001b[0mconfig\u001b[0m\u001b[0;34m.\u001b[0m\u001b[0mjax_debug_infs\u001b[0m \u001b[0;32mand\u001b[0m \u001b[0mnp\u001b[0m\u001b[0;34m.\u001b[0m\u001b[0many\u001b[0m\u001b[0;34m(\u001b[0m\u001b[0mnp\u001b[0m\u001b[0;34m.\u001b[0m\u001b[0misinf\u001b[0m\u001b[0;34m(\u001b[0m\u001b[0mbuf\u001b[0m\u001b[0;34m.\u001b[0m\u001b[0mto_py\u001b[0m\u001b[0;34m(\u001b[0m\u001b[0;34m)\u001b[0m\u001b[0;34m)\u001b[0m\u001b[0;34m)\u001b[0m\u001b[0;34m:\u001b[0m\u001b[0;34m\u001b[0m\u001b[0;34m\u001b[0m\u001b[0m\n",
            "\u001b[0;31mKeyboardInterrupt\u001b[0m: "
          ]
        }
      ],
      "source": [
        "for epoch in range(8,12):\n",
        "  train_epoch(log_dir,regressor,learning_rate,\n",
        "                train_loss_history,val_loss_history,\n",
        "                t_cov_history,t_rev_history,\n",
        "                report_iter = 200,epoch_num=epoch+1)"
      ]
    },
    {
      "cell_type": "code",
      "execution_count": null,
      "metadata": {
        "id": "4kI7lWKWUdR4"
      },
      "outputs": [],
      "source": [
        "model_dict = torch.load(log_dir+'%d_epoch.pth'%10)\n",
        "regressor.load_state_dict(model_dict['regressor'])\n",
        "train_loss_history = model_dict['train_loss_history']\n",
        "t_cov_history = model_dict['t_cov_history']\n",
        "t_rev_history = model_dict['t_rev_history']\n",
        "val_loss_history = model_dict['val_loss_history']\n",
        "learning_rate = model_dict['lr']"
      ]
    },
    {
      "cell_type": "code",
      "execution_count": null,
      "metadata": {
        "colab": {
          "base_uri": "https://localhost:8080/"
        },
        "id": "mITcIb7LtHTM",
        "outputId": "e12861b6-afcf-4e69-9330-86c067a2f33d"
      },
      "outputs": [
        {
          "data": {
            "text/plain": [
              "tensor([ 9,  9,  6,  8, 10,  7, 10,  5,  8, 10, 10, 10,  8,  6, 10,  6, 10, 10,\n",
              "         8,  9,  6,  7,  8,  6,  6,  7,  7,  5, 10,  8,  5,  5,  7,  5,  9,  9,\n",
              "         9, 10, 10,  6,  9,  6,  5,  6,  9,  9,  9,  6, 10,  9,  6,  5, 10,  8,\n",
              "        10,  8,  5, 10,  6,  5,  5,  7,  7,  6,  6,  6,  9,  9,  5,  6, 10, 10,\n",
              "         6,  6,  5,  5,  5,  7,  9,  8,  9,  8,  5,  9,  9,  7,  7,  8, 10, 10,\n",
              "         9,  6,  5,  7,  8,  8,  9,  5, 10, 10,  7,  7,  6,  5,  8,  7,  6,  8,\n",
              "        10,  7,  7, 10, 10,  6,  5,  7, 10,  8,  5,  8,  9,  8,  6,  8,  9,  5,\n",
              "         9,  5], device='cuda:0')"
            ]
          },
          "execution_count": 56,
          "metadata": {},
          "output_type": "execute_result"
        }
      ],
      "source": [
        ""
      ]
    },
    {
      "cell_type": "code",
      "execution_count": null,
      "metadata": {
        "colab": {
          "base_uri": "https://localhost:8080/"
        },
        "id": "_rXYXq7sPVWb",
        "outputId": "05fa2b90-285e-49d8-cdb6-3abdd1fd34a8"
      },
      "outputs": [
        {
          "name": "stderr",
          "output_type": "stream",
          "text": [
            "100%|██████████| 78/78 [01:20<00:00,  1.03s/it]\n"
          ]
        }
      ],
      "source": [
        "Performance_array = np.empty(shape=(0,5))\n",
        "result = np.zeros((batch_size,5))\n",
        "\n",
        "for context_splines,out_labels  in tqdm(val_loader):\n",
        "  \n",
        "  context_splines = context_splines.to(device)\n",
        "  y = regressor(context_splines)\n",
        "  prediction = y * label_std + label_mean\n",
        "  truth = out_labels[:,2:]\n",
        "\n",
        "  num_years = (context_splines!=0).any(-1).sum(-1)\n",
        "\n",
        "  result[:,0] = num_years.cpu().numpy()\n",
        "  result[:,1:3] = truth.numpy()\n",
        "  result[:,3:5] = prediction.cpu().detach().numpy()\n",
        "\n",
        "  Performance_array = np.append(Performance_array,result,axis=0)"
      ]
    },
    {
      "cell_type": "code",
      "execution_count": null,
      "metadata": {
        "id": "m2YnG6kut2Ni"
      },
      "outputs": [],
      "source": [
        "import pandas as pd\n",
        "df = pd.DataFrame(Performance_array,columns=['num years','true tau','true rho','pred tau','pred rho'])\n",
        "\n",
        "df.to_csv(log_dir + 'Performance.csv')"
      ]
    },
    {
      "cell_type": "code",
      "execution_count": null,
      "metadata": {
        "id": "QRdpsWEzt6ZP"
      },
      "outputs": [],
      "source": [
        "learning_rate_history = [5e-4]*5 + [1e-4]*3 + [5e-5]*2\n",
        "np.savez(log_dir+'training_stats.npz',learning_rate_history = learning_rate_history,train_loss_history=np.array(train_loss_history),\n",
        "         t_cov_history = np.array(t_cov_history),t_rev_history = np.array(t_rev_history),val_loss_history = np.array(val_loss_history))"
      ]
    },
    {
      "cell_type": "code",
      "execution_count": null,
      "metadata": {
        "id": "uewRLffQsSQ4"
      },
      "outputs": [],
      "source": [
        "errors = Performance_array[:,0:2] - Performance_array[:,2:4]"
      ]
    },
    {
      "cell_type": "code",
      "execution_count": null,
      "metadata": {
        "colab": {
          "base_uri": "https://localhost:8080/",
          "height": 665
        },
        "id": "vlNAIV3msar_",
        "outputId": "9781b9b1-336a-4cb4-bc6c-c6df7bd3b2c3"
      },
      "outputs": [
        {
          "data": {
            "text/plain": [
              "<matplotlib.axes._subplots.AxesSubplot at 0x7f988a315e50>"
            ]
          },
          "execution_count": 50,
          "metadata": {},
          "output_type": "execute_result"
        },
        {
          "data": {
            "image/png": "[encoded data removed]",
            "text/plain": [
              "<Figure size 600x600 with 3 Axes>"
            ]
          },
          "metadata": {},
          "output_type": "display_data"
        }
      ],
      "source": [
        "g = sns.jointplot(x=errors[:,0], y=errors[:,1], kind=\"hex\",color='C0')\n",
        "g.ax_joint.set_xlabel(r'$log(\\tau_{pred}) - log(\\tau_{true})$',fontsize=FS)\n",
        "g.ax_joint.set_ylabel(r'$log(\\rho_{pred}) - log(\\rho_{true})$',fontsize=FS)\n",
        "g.ax_joint.tick_params(axis='both', which='major', labelsize=12)\n",
        "\n",
        "\n",
        "xlim = g.ax_joint.get_xlim()\n",
        "ylim = g.ax_joint.get_ylim()\n",
        "\n",
        "#sns.kdeplot(x=errors[0,bounds_mask], y=errors[1,bounds_mask], levels=np.linspace(0.2,0.8,10) ,color=\"C1\", linewidths=2)\n",
        "sns.kdeplot(x=errors[:,0], y=errors[:,1], levels=5 ,color=\"C1\", linewidths=2)"
      ]
    },
    {
      "cell_type": "code",
      "execution_count": null,
      "metadata": {
        "id": "XLVRKW1Gs6AY"
      },
      "outputs": [],
      "source": [
        ""
      ]
    },
    {
      "cell_type": "code",
      "execution_count": null,
      "metadata": {
        "id": "TKv26zXis6D2"
      },
      "outputs": [],
      "source": [
        ""
      ]
    },
    {
      "cell_type": "code",
      "execution_count": null,
      "metadata": {
        "id": "RXmPUMpcs6GH"
      },
      "outputs": [],
      "source": [
        ""
      ]
    },
    {
      "cell_type": "code",
      "execution_count": null,
      "metadata": {
        "id": "Stqy1qjisauz"
      },
      "outputs": [],
      "source": [
        ""
      ]
    },
    {
      "cell_type": "code",
      "execution_count": null,
      "metadata": {
        "colab": {
          "base_uri": "https://localhost:8080/",
          "height": 678
        },
        "id": "Q_dDWO-_HXSC",
        "outputId": "f73d032f-9733-4f04-9ce5-16e9ec10f82a"
      },
      "outputs": [
        {
          "name": "stderr",
          "output_type": "stream",
          "text": [
            "/usr/local/lib/python3.7/dist-packages/seaborn/_decorators.py:43: FutureWarning: Pass the following variables as keyword args: x, y. From version 0.12, the only valid positional argument will be `data`, and passing other arguments without an explicit keyword will result in an error or misinterpretation.\n",
            "  FutureWarning\n"
          ]
        },
        {
          "data": {
            "text/plain": [
              "<seaborn.axisgrid.JointGrid at 0x7f98d65fe610>"
            ]
          },
          "execution_count": 46,
          "metadata": {},
          "output_type": "execute_result"
        },
        {
          "data": {
            "image/png": "[encoded data removed]",
            "text/plain": [
              "<Figure size 600x600 with 3 Axes>"
            ]
          },
          "metadata": {},
          "output_type": "display_data"
        }
      ],
      "source": [
        "sns.jointplot(Performance_array[:,0],Performance_array[:,2],kind='reg')"
      ]
    },
    {
      "cell_type": "code",
      "execution_count": null,
      "metadata": {
        "colab": {
          "base_uri": "https://localhost:8080/",
          "height": 678
        },
        "id": "IzGK9T_5HXT9",
        "outputId": "b22ea16d-bb94-42c5-85a5-13b20a816e5b"
      },
      "outputs": [
        {
          "name": "stderr",
          "output_type": "stream",
          "text": [
            "/usr/local/lib/python3.7/dist-packages/seaborn/_decorators.py:43: FutureWarning: Pass the following variables as keyword args: x, y. From version 0.12, the only valid positional argument will be `data`, and passing other arguments without an explicit keyword will result in an error or misinterpretation.\n",
            "  FutureWarning\n"
          ]
        },
        {
          "data": {
            "text/plain": [
              "<seaborn.axisgrid.JointGrid at 0x7f9ad5b569d0>"
            ]
          },
          "execution_count": 33,
          "metadata": {},
          "output_type": "execute_result"
        },
        {
          "data": {
            "image/png": "[encoded data removed]",
            "text/plain": [
              "<Figure size 600x600 with 3 Axes>"
            ]
          },
          "metadata": {},
          "output_type": "display_data"
        }
      ],
      "source": [
        "sns.jointplot(Performance_array[:,1],Performance_array[:,3],kind='reg')"
      ]
    },
    {
      "cell_type": "code",
      "execution_count": null,
      "metadata": {
        "id": "zA5METnuHXWA"
      },
      "outputs": [],
      "source": [
        ""
      ]
    }
  ],
  "metadata": {
    "accelerator": "GPU",
    "colab": {
      "collapsed_sections": [
        "4VmLbPSmh6oM",
        "Lb777kMciPq9",
        "VpowVzx91k3v",
        "hGiSOOUm2E6G"
      ],
      "machine_shape": "hm",
      "name": "VGG_LDE_Runtime_sampling_10_years_ipynb",
      "provenance": [],
      "include_colab_link": true
    },
    "gpuClass": "standard",
    "kernelspec": {
      "display_name": "Python 3",
      "name": "python3"
    },
    "language_info": {
      "name": "python"
    }
  },
  "nbformat": 4,
  "nbformat_minor": 0
}